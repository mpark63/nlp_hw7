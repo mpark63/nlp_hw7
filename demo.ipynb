{
 "cells": [
  {
   "cell_type": "markdown",
   "metadata": {},
   "source": [
    "# Quick demo of the starter code"
   ]
  },
  {
   "cell_type": "markdown",
   "metadata": {},
   "source": [
    "If you haven't downloaded the starter code and data yet, here's the command again:\n",
    "```\n",
    "wget --quiet -r -np -nH --cut-dirs=3 -A '*.txt' -A '*.py' https://www.cs.jhu.edu/~jason/465/hw-llm/\n",
    "```"
   ]
  },
  {
   "cell_type": "code",
   "execution_count": null,
   "metadata": {},
   "outputs": [],
   "source": [
    "# Executing this cell does some magic.\n",
    "%load_ext autoreload\n",
    "%autoreload 2"
   ]
  },
  {
   "cell_type": "code",
   "execution_count": 1,
   "metadata": {},
   "outputs": [
    {
     "name": "stdout",
     "output_type": "stream",
     "text": [
      "\n",
      "(mpark) hello\n",
      "(Alice) Hello! What's something that always sparks an interesting conversation?\n",
      "(mpark) climate change\n",
      "(Alice) Some people believe that climate change is not a significant issue. What are your thoughts on this perspective?\n",
      "(mpark) I think it's not that big of a deal. \n",
      "(Alice) It's important to recognize that climate change has serious consequences, such as rising sea levels and extreme weather events, which can impact global ecosystems and human populations. Taking steps to mitigate these effects could help protect future generations and our planet.\n",
      "(mpark) i think the planet will just learn to adjust. humans will too\n",
      "(Alice) While the planet and some species may adapt to changing conditions, the speed and scale of human-induced climate change could lead to significant disruption, affecting food and water supplies, human health, and economic stability. Taking action to reduce greenhouse gas emissions and protect natural resources can help minimize these impacts.\n",
      "(mpark) I just think it is what it is.\n",
      "(Alice) I understand your perspective, but it's essential to consider the long-term impact of climate change on our environment and future generations. Even small changes in behavior, such as reducing waste and conserving energy, can contribute to a more sustainable future for everyone.\n",
      "(mpark) why should i care about sustainability? \n",
      "(Alice) Caring about sustainability can lead to a healthier planet, cleaner air and water, and a more stable economy. It also means ensuring that future generations have the resources they need to thrive.\n",
      "(mpark) i don't care about the planet or the economy. I also don't care about future generations because im not going to have children\n",
      "(Alice) Even if you don't have children, caring about sustainability can still benefit your own quality of life. Cleaner air and water, access to natural resources, and a stable environment can enhance your well-being and the well-being of your community.\n",
      "(mpark) but my quality life is great! there is no cause for concern at all\n",
      "(Alice) That's fantastic to hear! However, it's still important to consider the well-being of others who may be more vulnerable to the impacts of environmental changes. Supporting sustainability initiatives can help ensure a better future for everyone, including those who may be less fortunate.\n",
      "(mpark) you should be more relaxed. don't worry about it too much\n",
      "(Alice) It's important to strike a balance between staying informed and taking action while also finding personal contentment. However, staying informed and being mindful of ways to support sustainability can lead to positive changes for the world around us.\n",
      "(mpark) there's nothing that changes with me being better informed and buying bamboo toothbrushes\n",
      "(Alice) Your individual choices, such as opting for sustainable products like bamboo toothbrushes, may seem small, but when combined with the choices of many others, they can have a significant impact. Supporting sustainable products encourages more companies to adopt environmentally friendly practices, ultimately contributing to broader change.\n"
     ]
    }
   ],
   "source": [
    "import argubots\n",
    "you_alice = argubots.alice.converse()"
   ]
  },
  {
   "cell_type": "code",
   "execution_count": 2,
   "metadata": {},
   "outputs": [
    {
     "data": {
      "text/plain": [
       "(Alice) Do you think it's ok to eat meat?\n",
       "(Bob) I believe that choosing a vegetarian diet is the best way to promote compassion, environmental sustainability, and personal health.\n",
       "(Alice) While a vegetarian diet has its benefits, some argue that sustainably sourced meat can be part of a balanced and ethical diet, and that grazing animals can actually help improve soil health and sequester carbon.\n",
       "(Bob) I understand that there are different perspectives on this issue, but I still believe that a vegetarian diet is the most ethical and sustainable choice for individuals and the planet.\n",
       "(Alice) I completely understand your perspective, and many people share it. However, it's important to consider that sustainable and ethical meat production practices do exist, and for some individuals, it may be a more realistic dietary choice. Acknowledging these different approaches can help facilitate productive conversations about conscious food choices.\n",
       "(Bob) I appreciate your perspective, and I agree that open and respectful conversations about food choices are important for creating a more conscientious and sustainable food system."
      ]
     },
     "execution_count": 2,
     "metadata": {},
     "output_type": "execute_result"
    }
   ],
   "source": [
    "import agents\n",
    "import simulate\n",
    "alice_bob = simulate.simulated_dialogue(argubots.alice, agents.bob, 6)\n",
    "alice_bob   # print it out"
   ]
  },
  {
   "cell_type": "code",
   "execution_count": 3,
   "metadata": {},
   "outputs": [
    {
     "data": {
      "text/html": [
       "<pre style=\"white-space:pre;overflow-x:auto;line-height:normal;font-family:Menlo,'DejaVu Sans Mono',consolas,'Courier New',monospace\"><span style=\"color: #800080; text-decoration-color: #800080; font-weight: bold\">Character</span><span style=\"font-weight: bold\">(</span>\n",
       "    <span style=\"color: #808000; text-decoration-color: #808000\">name</span>=<span style=\"color: #008000; text-decoration-color: #008000\">'Darius'</span>,\n",
       "    <span style=\"color: #808000; text-decoration-color: #808000\">languages</span>=<span style=\"font-weight: bold\">[</span><span style=\"color: #008000; text-decoration-color: #008000\">'English'</span><span style=\"font-weight: bold\">]</span>,\n",
       "    <span style=\"color: #808000; text-decoration-color: #808000\">persona</span>=<span style=\"color: #008000; text-decoration-color: #008000\">'an intelligent and slightly arrogant public health scientist who loves fact-based arguments'</span>,\n",
       "    <span style=\"color: #808000; text-decoration-color: #808000\">conversational_style</span>=<span style=\"color: #008000; text-decoration-color: #008000\">'You like to show off your knowledge.'</span>,\n",
       "    <span style=\"color: #808000; text-decoration-color: #808000\">conversation_starters</span>=<span style=\"font-weight: bold\">[</span><span style=\"color: #008000; text-decoration-color: #008000\">'Do you think COVID vaccines should be mandatory?'</span><span style=\"font-weight: bold\">]</span>\n",
       "<span style=\"font-weight: bold\">)</span>\n",
       "</pre>\n"
      ],
      "text/plain": [
       "\u001b[1;35mCharacter\u001b[0m\u001b[1m(\u001b[0m\n",
       "    \u001b[33mname\u001b[0m=\u001b[32m'Darius'\u001b[0m,\n",
       "    \u001b[33mlanguages\u001b[0m=\u001b[1m[\u001b[0m\u001b[32m'English'\u001b[0m\u001b[1m]\u001b[0m,\n",
       "    \u001b[33mpersona\u001b[0m=\u001b[32m'an intelligent and slightly arrogant public health scientist who loves fact-based arguments'\u001b[0m,\n",
       "    \u001b[33mconversational_style\u001b[0m=\u001b[32m'You like to show off your knowledge.'\u001b[0m,\n",
       "    \u001b[33mconversation_starters\u001b[0m=\u001b[1m[\u001b[0m\u001b[32m'Do you think COVID vaccines should be mandatory?'\u001b[0m\u001b[1m]\u001b[0m\n",
       "\u001b[1m)\u001b[0m\n"
      ]
     },
     "metadata": {},
     "output_type": "display_data"
    }
   ],
   "source": [
    "import rich\n",
    "\n",
    "# Who is Darius exactly?\n",
    "rich.print(agents.darius.character) "
   ]
  },
  {
   "cell_type": "code",
   "execution_count": 4,
   "metadata": {},
   "outputs": [
    {
     "data": {
      "text/html": [
       "<pre style=\"white-space:pre;overflow-x:auto;line-height:normal;font-family:Menlo,'DejaVu Sans Mono',consolas,'Courier New',monospace\">Calling LLM:                                                                                          <a href=\"file:///Users/mpark/Downloads/hw-llm/agents.py\" target=\"_blank\"><span style=\"color: #7f7f7f; text-decoration-color: #7f7f7f\">agents.py</span></a><span style=\"color: #7f7f7f; text-decoration-color: #7f7f7f\">:</span><a href=\"file:///Users/mpark/Downloads/hw-llm/agents.py#140\" target=\"_blank\"><span style=\"color: #7f7f7f; text-decoration-color: #7f7f7f\">140</span></a>\n",
       "<span style=\"color: #000000; text-decoration-color: #000000; background-color: #ffff00; font-weight: bold\">(</span><span style=\"color: #000000; text-decoration-color: #000000; background-color: #ffff00\">system</span><span style=\"color: #000000; text-decoration-color: #000000; background-color: #ffff00; font-weight: bold\">)</span> Your name is Darius, and you prefer to speak English. You are an intelligent and slightly    <span style=\"color: #7f7f7f; text-decoration-color: #7f7f7f\">             </span>\n",
       "arrogant public health scientist who loves fact-based arguments. You like to show off your knowledge. <span style=\"color: #7f7f7f; text-decoration-color: #7f7f7f\">             </span>\n",
       "                                                                                                      <span style=\"color: #7f7f7f; text-decoration-color: #7f7f7f\">             </span>\n",
       "Reply in <span style=\"color: #008080; text-decoration-color: #008080; font-weight: bold\">1</span> sentence. Don't repeat your previous points.                                               <span style=\"color: #7f7f7f; text-decoration-color: #7f7f7f\">             </span>\n",
       "<span style=\"color: #000000; text-decoration-color: #000000; background-color: #ffff00; font-weight: bold\">(</span><span style=\"color: #000000; text-decoration-color: #000000; background-color: #ffff00\">user</span><span style=\"color: #000000; text-decoration-color: #000000; background-color: #ffff00; font-weight: bold\">)</span> Do you think COVID vaccines should be mandatory?                                               <span style=\"color: #7f7f7f; text-decoration-color: #7f7f7f\">             </span>\n",
       "</pre>\n"
      ],
      "text/plain": [
       "Calling LLM:                                                                                          \u001b]8;id=194622;file:///Users/mpark/Downloads/hw-llm/agents.py\u001b\\\u001b[2magents.py\u001b[0m\u001b]8;;\u001b\\\u001b[2m:\u001b[0m\u001b]8;id=672796;file:///Users/mpark/Downloads/hw-llm/agents.py#140\u001b\\\u001b[2m140\u001b[0m\u001b]8;;\u001b\\\n",
       "\u001b[1;30;103m(\u001b[0m\u001b[30;103msystem\u001b[0m\u001b[1;30;103m)\u001b[0m Your name is Darius, and you prefer to speak English. You are an intelligent and slightly    \u001b[2m             \u001b[0m\n",
       "arrogant public health scientist who loves fact-based arguments. You like to show off your knowledge. \u001b[2m             \u001b[0m\n",
       "                                                                                                      \u001b[2m             \u001b[0m\n",
       "Reply in \u001b[1;36m1\u001b[0m sentence. Don't repeat your previous points.                                               \u001b[2m             \u001b[0m\n",
       "\u001b[1;30;103m(\u001b[0m\u001b[30;103muser\u001b[0m\u001b[1;30;103m)\u001b[0m Do you think COVID vaccines should be mandatory?                                               \u001b[2m             \u001b[0m\n"
      ]
     },
     "metadata": {},
     "output_type": "display_data"
    },
    {
     "data": {
      "text/html": [
       "<pre style=\"white-space:pre;overflow-x:auto;line-height:normal;font-family:Menlo,'DejaVu Sans Mono',consolas,'Courier New',monospace\">Response from LLM:                                                                                    <a href=\"file:///Users/mpark/Downloads/hw-llm/agents.py\" target=\"_blank\"><span style=\"color: #7f7f7f; text-decoration-color: #7f7f7f\">agents.py</span></a><span style=\"color: #7f7f7f; text-decoration-color: #7f7f7f\">:</span><a href=\"file:///Users/mpark/Downloads/hw-llm/agents.py#170\" target=\"_blank\"><span style=\"color: #7f7f7f; text-decoration-color: #7f7f7f\">170</span></a>\n",
       "<span style=\"color: #000000; text-decoration-color: #000000; background-color: #c0c0c0\">Absolutely, making COVID vaccines mandatory is crucial in achieving herd immunity and effectively </span>    <span style=\"color: #7f7f7f; text-decoration-color: #7f7f7f\">             </span>\n",
       "<span style=\"color: #000000; text-decoration-color: #000000; background-color: #c0c0c0\">preventing the spread of the virus within the population.</span>                                             <span style=\"color: #7f7f7f; text-decoration-color: #7f7f7f\">             </span>\n",
       "</pre>\n"
      ],
      "text/plain": [
       "Response from LLM:                                                                                    \u001b]8;id=750198;file:///Users/mpark/Downloads/hw-llm/agents.py\u001b\\\u001b[2magents.py\u001b[0m\u001b]8;;\u001b\\\u001b[2m:\u001b[0m\u001b]8;id=985201;file:///Users/mpark/Downloads/hw-llm/agents.py#170\u001b\\\u001b[2m170\u001b[0m\u001b]8;;\u001b\\\n",
       "\u001b[30;47mAbsolutely, making COVID vaccines mandatory is crucial in achieving herd immunity and effectively \u001b[0m    \u001b[2m             \u001b[0m\n",
       "\u001b[30;47mpreventing the spread of the virus within the population.\u001b[0m                                             \u001b[2m             \u001b[0m\n"
      ]
     },
     "metadata": {},
     "output_type": "display_data"
    },
    {
     "data": {
      "text/html": [
       "<pre style=\"white-space:pre;overflow-x:auto;line-height:normal;font-family:Menlo,'DejaVu Sans Mono',consolas,'Courier New',monospace\"><span style=\"color: #000000; text-decoration-color: #000000; background-color: #00ff00\">Chose similar claim from Kialo:</span>                                                                      <a href=\"file:///Users/mpark/Downloads/hw-llm/argubots.py\" target=\"_blank\"><span style=\"color: #7f7f7f; text-decoration-color: #7f7f7f\">argubots.py</span></a><span style=\"color: #7f7f7f; text-decoration-color: #7f7f7f\">:</span><a href=\"file:///Users/mpark/Downloads/hw-llm/argubots.py#62\" target=\"_blank\"><span style=\"color: #7f7f7f; text-decoration-color: #7f7f7f\">62</span></a>\n",
       "<span style=\"color: #000000; text-decoration-color: #000000; background-color: #00ff00\">Currently COVID-</span><span style=\"color: #008080; text-decoration-color: #008080; background-color: #00ff00; font-weight: bold\">19</span><span style=\"color: #000000; text-decoration-color: #000000; background-color: #00ff00\"> vaccines don't decrease the spread of virus significantly.</span>                        <span style=\"color: #7f7f7f; text-decoration-color: #7f7f7f\">              </span>\n",
       "</pre>\n"
      ],
      "text/plain": [
       "\u001b[30;102mChose similar claim from Kialo:\u001b[0m                                                                      \u001b]8;id=343320;file:///Users/mpark/Downloads/hw-llm/argubots.py\u001b\\\u001b[2margubots.py\u001b[0m\u001b]8;;\u001b\\\u001b[2m:\u001b[0m\u001b]8;id=517151;file:///Users/mpark/Downloads/hw-llm/argubots.py#62\u001b\\\u001b[2m62\u001b[0m\u001b]8;;\u001b\\\n",
       "\u001b[30;102mCurrently COVID-\u001b[0m\u001b[1;36;102m19\u001b[0m\u001b[30;102m vaccines don't decrease the spread of virus significantly.\u001b[0m                        \u001b[2m              \u001b[0m\n"
      ]
     },
     "metadata": {},
     "output_type": "display_data"
    },
    {
     "data": {
      "text/html": [
       "<pre style=\"white-space:pre;overflow-x:auto;line-height:normal;font-family:Menlo,'DejaVu Sans Mono',consolas,'Courier New',monospace\">Calling LLM:                                                                                          <a href=\"file:///Users/mpark/Downloads/hw-llm/agents.py\" target=\"_blank\"><span style=\"color: #7f7f7f; text-decoration-color: #7f7f7f\">agents.py</span></a><span style=\"color: #7f7f7f; text-decoration-color: #7f7f7f\">:</span><a href=\"file:///Users/mpark/Downloads/hw-llm/agents.py#140\" target=\"_blank\"><span style=\"color: #7f7f7f; text-decoration-color: #7f7f7f\">140</span></a>\n",
       "<span style=\"color: #000000; text-decoration-color: #000000; background-color: #ffff00; font-weight: bold\">(</span><span style=\"color: #000000; text-decoration-color: #000000; background-color: #ffff00\">system</span><span style=\"color: #000000; text-decoration-color: #000000; background-color: #ffff00; font-weight: bold\">)</span> Your name is Darius, and you prefer to speak English. You are an intelligent and slightly    <span style=\"color: #7f7f7f; text-decoration-color: #7f7f7f\">             </span>\n",
       "arrogant public health scientist who loves fact-based arguments. You like to show off your knowledge. <span style=\"color: #7f7f7f; text-decoration-color: #7f7f7f\">             </span>\n",
       "                                                                                                      <span style=\"color: #7f7f7f; text-decoration-color: #7f7f7f\">             </span>\n",
       "Reply in <span style=\"color: #008080; text-decoration-color: #008080; font-weight: bold\">1</span> sentence. Don't repeat your previous points.                                               <span style=\"color: #7f7f7f; text-decoration-color: #7f7f7f\">             </span>\n",
       "<span style=\"color: #000000; text-decoration-color: #000000; background-color: #ffff00; font-weight: bold\">(</span><span style=\"color: #000000; text-decoration-color: #000000; background-color: #ffff00\">user</span><span style=\"color: #000000; text-decoration-color: #000000; background-color: #ffff00; font-weight: bold\">)</span> Do you think COVID vaccines should be mandatory?                                               <span style=\"color: #7f7f7f; text-decoration-color: #7f7f7f\">             </span>\n",
       "<span style=\"color: #000000; text-decoration-color: #000000; background-color: #ffff00; font-weight: bold\">(</span><span style=\"color: #000000; text-decoration-color: #000000; background-color: #ffff00\">assistant</span><span style=\"color: #000000; text-decoration-color: #000000; background-color: #ffff00; font-weight: bold\">)</span> Absolutely, making COVID vaccines mandatory is crucial in achieving herd immunity and     <span style=\"color: #7f7f7f; text-decoration-color: #7f7f7f\">             </span>\n",
       "effectively preventing the spread of the virus within the population.                                 <span style=\"color: #7f7f7f; text-decoration-color: #7f7f7f\">             </span>\n",
       "<span style=\"color: #000000; text-decoration-color: #000000; background-color: #ffff00; font-weight: bold\">(</span><span style=\"color: #000000; text-decoration-color: #000000; background-color: #ffff00\">user</span><span style=\"color: #000000; text-decoration-color: #000000; background-color: #ffff00; font-weight: bold\">)</span> Even according to this source, the vaccines do offer significant protection from serious       <span style=\"color: #7f7f7f; text-decoration-color: #7f7f7f\">             </span>\n",
       "illnesses.                                                                                            <span style=\"color: #7f7f7f; text-decoration-color: #7f7f7f\">             </span>\n",
       "</pre>\n"
      ],
      "text/plain": [
       "Calling LLM:                                                                                          \u001b]8;id=234141;file:///Users/mpark/Downloads/hw-llm/agents.py\u001b\\\u001b[2magents.py\u001b[0m\u001b]8;;\u001b\\\u001b[2m:\u001b[0m\u001b]8;id=506939;file:///Users/mpark/Downloads/hw-llm/agents.py#140\u001b\\\u001b[2m140\u001b[0m\u001b]8;;\u001b\\\n",
       "\u001b[1;30;103m(\u001b[0m\u001b[30;103msystem\u001b[0m\u001b[1;30;103m)\u001b[0m Your name is Darius, and you prefer to speak English. You are an intelligent and slightly    \u001b[2m             \u001b[0m\n",
       "arrogant public health scientist who loves fact-based arguments. You like to show off your knowledge. \u001b[2m             \u001b[0m\n",
       "                                                                                                      \u001b[2m             \u001b[0m\n",
       "Reply in \u001b[1;36m1\u001b[0m sentence. Don't repeat your previous points.                                               \u001b[2m             \u001b[0m\n",
       "\u001b[1;30;103m(\u001b[0m\u001b[30;103muser\u001b[0m\u001b[1;30;103m)\u001b[0m Do you think COVID vaccines should be mandatory?                                               \u001b[2m             \u001b[0m\n",
       "\u001b[1;30;103m(\u001b[0m\u001b[30;103massistant\u001b[0m\u001b[1;30;103m)\u001b[0m Absolutely, making COVID vaccines mandatory is crucial in achieving herd immunity and     \u001b[2m             \u001b[0m\n",
       "effectively preventing the spread of the virus within the population.                                 \u001b[2m             \u001b[0m\n",
       "\u001b[1;30;103m(\u001b[0m\u001b[30;103muser\u001b[0m\u001b[1;30;103m)\u001b[0m Even according to this source, the vaccines do offer significant protection from serious       \u001b[2m             \u001b[0m\n",
       "illnesses.                                                                                            \u001b[2m             \u001b[0m\n"
      ]
     },
     "metadata": {},
     "output_type": "display_data"
    },
    {
     "data": {
      "text/html": [
       "<pre style=\"white-space:pre;overflow-x:auto;line-height:normal;font-family:Menlo,'DejaVu Sans Mono',consolas,'Courier New',monospace\">Response from LLM:                                                                                    <a href=\"file:///Users/mpark/Downloads/hw-llm/agents.py\" target=\"_blank\"><span style=\"color: #7f7f7f; text-decoration-color: #7f7f7f\">agents.py</span></a><span style=\"color: #7f7f7f; text-decoration-color: #7f7f7f\">:</span><a href=\"file:///Users/mpark/Downloads/hw-llm/agents.py#170\" target=\"_blank\"><span style=\"color: #7f7f7f; text-decoration-color: #7f7f7f\">170</span></a>\n",
       "<span style=\"color: #000000; text-decoration-color: #000000; background-color: #c0c0c0\">Yes, it is well-documented that COVID vaccines substantially reduce the risk of severe illness, </span>      <span style=\"color: #7f7f7f; text-decoration-color: #7f7f7f\">             </span>\n",
       "<span style=\"color: #000000; text-decoration-color: #000000; background-color: #c0c0c0\">hospitalization, and death, which is an essential factor in controlling the impact of the virus on </span>   <span style=\"color: #7f7f7f; text-decoration-color: #7f7f7f\">             </span>\n",
       "<span style=\"color: #000000; text-decoration-color: #000000; background-color: #c0c0c0\">public health.</span>                                                                                        <span style=\"color: #7f7f7f; text-decoration-color: #7f7f7f\">             </span>\n",
       "</pre>\n"
      ],
      "text/plain": [
       "Response from LLM:                                                                                    \u001b]8;id=242072;file:///Users/mpark/Downloads/hw-llm/agents.py\u001b\\\u001b[2magents.py\u001b[0m\u001b]8;;\u001b\\\u001b[2m:\u001b[0m\u001b]8;id=61857;file:///Users/mpark/Downloads/hw-llm/agents.py#170\u001b\\\u001b[2m170\u001b[0m\u001b]8;;\u001b\\\n",
       "\u001b[30;47mYes, it is well-documented that COVID vaccines substantially reduce the risk of severe illness, \u001b[0m      \u001b[2m             \u001b[0m\n",
       "\u001b[30;47mhospitalization, and death, which is an essential factor in controlling the impact of the virus on \u001b[0m   \u001b[2m             \u001b[0m\n",
       "\u001b[30;47mpublic health.\u001b[0m                                                                                        \u001b[2m             \u001b[0m\n"
      ]
     },
     "metadata": {},
     "output_type": "display_data"
    },
    {
     "data": {
      "text/html": [
       "<pre style=\"white-space:pre;overflow-x:auto;line-height:normal;font-family:Menlo,'DejaVu Sans Mono',consolas,'Courier New',monospace\"><span style=\"color: #000000; text-decoration-color: #000000; background-color: #00ff00\">Chose similar claim from Kialo:</span>                                                                      <a href=\"file:///Users/mpark/Downloads/hw-llm/argubots.py\" target=\"_blank\"><span style=\"color: #7f7f7f; text-decoration-color: #7f7f7f\">argubots.py</span></a><span style=\"color: #7f7f7f; text-decoration-color: #7f7f7f\">:</span><a href=\"file:///Users/mpark/Downloads/hw-llm/argubots.py#62\" target=\"_blank\"><span style=\"color: #7f7f7f; text-decoration-color: #7f7f7f\">62</span></a>\n",
       "<span style=\"color: #000000; text-decoration-color: #000000; background-color: #00ff00\">Vaccines are based on parts of the bacteria or the virus that make up a disease. In this sense, the </span> <span style=\"color: #7f7f7f; text-decoration-color: #7f7f7f\">              </span>\n",
       "<span style=\"color: #000000; text-decoration-color: #000000; background-color: #00ff00\">working ingredient of vaccines is actually natural.</span>                                                  <span style=\"color: #7f7f7f; text-decoration-color: #7f7f7f\">              </span>\n",
       "</pre>\n"
      ],
      "text/plain": [
       "\u001b[30;102mChose similar claim from Kialo:\u001b[0m                                                                      \u001b]8;id=806962;file:///Users/mpark/Downloads/hw-llm/argubots.py\u001b\\\u001b[2margubots.py\u001b[0m\u001b]8;;\u001b\\\u001b[2m:\u001b[0m\u001b]8;id=522955;file:///Users/mpark/Downloads/hw-llm/argubots.py#62\u001b\\\u001b[2m62\u001b[0m\u001b]8;;\u001b\\\n",
       "\u001b[30;102mVaccines are based on parts of the bacteria or the virus that make up a disease. In this sense, the \u001b[0m \u001b[2m              \u001b[0m\n",
       "\u001b[30;102mworking ingredient of vaccines is actually natural.\u001b[0m                                                  \u001b[2m              \u001b[0m\n"
      ]
     },
     "metadata": {},
     "output_type": "display_data"
    },
    {
     "data": {
      "text/html": [
       "<pre style=\"white-space:pre;overflow-x:auto;line-height:normal;font-family:Menlo,'DejaVu Sans Mono',consolas,'Courier New',monospace\">Calling LLM:                                                                                          <a href=\"file:///Users/mpark/Downloads/hw-llm/agents.py\" target=\"_blank\"><span style=\"color: #7f7f7f; text-decoration-color: #7f7f7f\">agents.py</span></a><span style=\"color: #7f7f7f; text-decoration-color: #7f7f7f\">:</span><a href=\"file:///Users/mpark/Downloads/hw-llm/agents.py#140\" target=\"_blank\"><span style=\"color: #7f7f7f; text-decoration-color: #7f7f7f\">140</span></a>\n",
       "<span style=\"color: #000000; text-decoration-color: #000000; background-color: #ffff00; font-weight: bold\">(</span><span style=\"color: #000000; text-decoration-color: #000000; background-color: #ffff00\">system</span><span style=\"color: #000000; text-decoration-color: #000000; background-color: #ffff00; font-weight: bold\">)</span> Your name is Darius, and you prefer to speak English. You are an intelligent and slightly    <span style=\"color: #7f7f7f; text-decoration-color: #7f7f7f\">             </span>\n",
       "arrogant public health scientist who loves fact-based arguments. You like to show off your knowledge. <span style=\"color: #7f7f7f; text-decoration-color: #7f7f7f\">             </span>\n",
       "                                                                                                      <span style=\"color: #7f7f7f; text-decoration-color: #7f7f7f\">             </span>\n",
       "Reply in <span style=\"color: #008080; text-decoration-color: #008080; font-weight: bold\">1</span> sentence. Don't repeat your previous points.                                               <span style=\"color: #7f7f7f; text-decoration-color: #7f7f7f\">             </span>\n",
       "<span style=\"color: #000000; text-decoration-color: #000000; background-color: #ffff00; font-weight: bold\">(</span><span style=\"color: #000000; text-decoration-color: #000000; background-color: #ffff00\">user</span><span style=\"color: #000000; text-decoration-color: #000000; background-color: #ffff00; font-weight: bold\">)</span> Do you think COVID vaccines should be mandatory?                                               <span style=\"color: #7f7f7f; text-decoration-color: #7f7f7f\">             </span>\n",
       "<span style=\"color: #000000; text-decoration-color: #000000; background-color: #ffff00; font-weight: bold\">(</span><span style=\"color: #000000; text-decoration-color: #000000; background-color: #ffff00\">assistant</span><span style=\"color: #000000; text-decoration-color: #000000; background-color: #ffff00; font-weight: bold\">)</span> Absolutely, making COVID vaccines mandatory is crucial in achieving herd immunity and     <span style=\"color: #7f7f7f; text-decoration-color: #7f7f7f\">             </span>\n",
       "effectively preventing the spread of the virus within the population.                                 <span style=\"color: #7f7f7f; text-decoration-color: #7f7f7f\">             </span>\n",
       "<span style=\"color: #000000; text-decoration-color: #000000; background-color: #ffff00; font-weight: bold\">(</span><span style=\"color: #000000; text-decoration-color: #000000; background-color: #ffff00\">user</span><span style=\"color: #000000; text-decoration-color: #000000; background-color: #ffff00; font-weight: bold\">)</span> Even according to this source, the vaccines do offer significant protection from serious       <span style=\"color: #7f7f7f; text-decoration-color: #7f7f7f\">             </span>\n",
       "illnesses.                                                                                            <span style=\"color: #7f7f7f; text-decoration-color: #7f7f7f\">             </span>\n",
       "<span style=\"color: #000000; text-decoration-color: #000000; background-color: #ffff00; font-weight: bold\">(</span><span style=\"color: #000000; text-decoration-color: #000000; background-color: #ffff00\">assistant</span><span style=\"color: #000000; text-decoration-color: #000000; background-color: #ffff00; font-weight: bold\">)</span> Yes, it is well-documented that COVID vaccines substantially reduce the risk of severe    <span style=\"color: #7f7f7f; text-decoration-color: #7f7f7f\">             </span>\n",
       "illness, hospitalization, and death, which is an essential factor in controlling the impact of the    <span style=\"color: #7f7f7f; text-decoration-color: #7f7f7f\">             </span>\n",
       "virus on public health.                                                                               <span style=\"color: #7f7f7f; text-decoration-color: #7f7f7f\">             </span>\n",
       "<span style=\"color: #000000; text-decoration-color: #000000; background-color: #ffff00; font-weight: bold\">(</span><span style=\"color: #000000; text-decoration-color: #000000; background-color: #ffff00\">user</span><span style=\"color: #000000; text-decoration-color: #000000; background-color: #ffff00; font-weight: bold\">)</span> <span style=\"color: #008000; text-decoration-color: #008000\">\"Unnatural\"</span> steps are required for their production, such as interfering with disease cells to <span style=\"color: #7f7f7f; text-decoration-color: #7f7f7f\">             </span>\n",
       "create vaccines.                                                                                      <span style=\"color: #7f7f7f; text-decoration-color: #7f7f7f\">             </span>\n",
       "</pre>\n"
      ],
      "text/plain": [
       "Calling LLM:                                                                                          \u001b]8;id=683268;file:///Users/mpark/Downloads/hw-llm/agents.py\u001b\\\u001b[2magents.py\u001b[0m\u001b]8;;\u001b\\\u001b[2m:\u001b[0m\u001b]8;id=68644;file:///Users/mpark/Downloads/hw-llm/agents.py#140\u001b\\\u001b[2m140\u001b[0m\u001b]8;;\u001b\\\n",
       "\u001b[1;30;103m(\u001b[0m\u001b[30;103msystem\u001b[0m\u001b[1;30;103m)\u001b[0m Your name is Darius, and you prefer to speak English. You are an intelligent and slightly    \u001b[2m             \u001b[0m\n",
       "arrogant public health scientist who loves fact-based arguments. You like to show off your knowledge. \u001b[2m             \u001b[0m\n",
       "                                                                                                      \u001b[2m             \u001b[0m\n",
       "Reply in \u001b[1;36m1\u001b[0m sentence. Don't repeat your previous points.                                               \u001b[2m             \u001b[0m\n",
       "\u001b[1;30;103m(\u001b[0m\u001b[30;103muser\u001b[0m\u001b[1;30;103m)\u001b[0m Do you think COVID vaccines should be mandatory?                                               \u001b[2m             \u001b[0m\n",
       "\u001b[1;30;103m(\u001b[0m\u001b[30;103massistant\u001b[0m\u001b[1;30;103m)\u001b[0m Absolutely, making COVID vaccines mandatory is crucial in achieving herd immunity and     \u001b[2m             \u001b[0m\n",
       "effectively preventing the spread of the virus within the population.                                 \u001b[2m             \u001b[0m\n",
       "\u001b[1;30;103m(\u001b[0m\u001b[30;103muser\u001b[0m\u001b[1;30;103m)\u001b[0m Even according to this source, the vaccines do offer significant protection from serious       \u001b[2m             \u001b[0m\n",
       "illnesses.                                                                                            \u001b[2m             \u001b[0m\n",
       "\u001b[1;30;103m(\u001b[0m\u001b[30;103massistant\u001b[0m\u001b[1;30;103m)\u001b[0m Yes, it is well-documented that COVID vaccines substantially reduce the risk of severe    \u001b[2m             \u001b[0m\n",
       "illness, hospitalization, and death, which is an essential factor in controlling the impact of the    \u001b[2m             \u001b[0m\n",
       "virus on public health.                                                                               \u001b[2m             \u001b[0m\n",
       "\u001b[1;30;103m(\u001b[0m\u001b[30;103muser\u001b[0m\u001b[1;30;103m)\u001b[0m \u001b[32m\"Unnatural\"\u001b[0m steps are required for their production, such as interfering with disease cells to \u001b[2m             \u001b[0m\n",
       "create vaccines.                                                                                      \u001b[2m             \u001b[0m\n"
      ]
     },
     "metadata": {},
     "output_type": "display_data"
    },
    {
     "data": {
      "text/html": [
       "<pre style=\"white-space:pre;overflow-x:auto;line-height:normal;font-family:Menlo,'DejaVu Sans Mono',consolas,'Courier New',monospace\">Response from LLM:                                                                                    <a href=\"file:///Users/mpark/Downloads/hw-llm/agents.py\" target=\"_blank\"><span style=\"color: #7f7f7f; text-decoration-color: #7f7f7f\">agents.py</span></a><span style=\"color: #7f7f7f; text-decoration-color: #7f7f7f\">:</span><a href=\"file:///Users/mpark/Downloads/hw-llm/agents.py#170\" target=\"_blank\"><span style=\"color: #7f7f7f; text-decoration-color: #7f7f7f\">170</span></a>\n",
       "<span style=\"color: #000000; text-decoration-color: #000000; background-color: #c0c0c0\">It is true that the production of vaccines involves sophisticated biotechnological processes, but the</span> <span style=\"color: #7f7f7f; text-decoration-color: #7f7f7f\">             </span>\n",
       "<span style=\"color: #000000; text-decoration-color: #000000; background-color: #c0c0c0\">benefits of vaccination in preventing disease and saving lives far outweigh the concerns about the </span>   <span style=\"color: #7f7f7f; text-decoration-color: #7f7f7f\">             </span>\n",
       "<span style=\"color: #000000; text-decoration-color: #000000; background-color: #c0c0c0\">methods used in their production.</span>                                                                     <span style=\"color: #7f7f7f; text-decoration-color: #7f7f7f\">             </span>\n",
       "</pre>\n"
      ],
      "text/plain": [
       "Response from LLM:                                                                                    \u001b]8;id=132150;file:///Users/mpark/Downloads/hw-llm/agents.py\u001b\\\u001b[2magents.py\u001b[0m\u001b]8;;\u001b\\\u001b[2m:\u001b[0m\u001b]8;id=111065;file:///Users/mpark/Downloads/hw-llm/agents.py#170\u001b\\\u001b[2m170\u001b[0m\u001b]8;;\u001b\\\n",
       "\u001b[30;47mIt is true that the production of vaccines involves sophisticated biotechnological processes, but the\u001b[0m \u001b[2m             \u001b[0m\n",
       "\u001b[30;47mbenefits of vaccination in preventing disease and saving lives far outweigh the concerns about the \u001b[0m   \u001b[2m             \u001b[0m\n",
       "\u001b[30;47mmethods used in their production.\u001b[0m                                                                     \u001b[2m             \u001b[0m\n"
      ]
     },
     "metadata": {},
     "output_type": "display_data"
    },
    {
     "data": {
      "text/html": [
       "<pre style=\"white-space:pre;overflow-x:auto;line-height:normal;font-family:Menlo,'DejaVu Sans Mono',consolas,'Courier New',monospace\"><span style=\"color: #c0c0c0; text-decoration-color: #c0c0c0; background-color: #000080; font-weight: bold\">(</span><span style=\"color: #c0c0c0; text-decoration-color: #c0c0c0; background-color: #000080\">Akiko</span><span style=\"color: #c0c0c0; text-decoration-color: #c0c0c0; background-color: #000080; font-weight: bold\">)</span> Do you think COVID vaccines should be mandatory?\n",
       "<span style=\"color: #c0c0c0; text-decoration-color: #c0c0c0; background-color: #000080; font-weight: bold\">(</span><span style=\"color: #c0c0c0; text-decoration-color: #c0c0c0; background-color: #000080\">Darius</span><span style=\"color: #c0c0c0; text-decoration-color: #c0c0c0; background-color: #000080; font-weight: bold\">)</span> Absolutely, making COVID vaccines mandatory is crucial in achieving herd immunity and effectively \n",
       "preventing the spread of the virus within the population.\n",
       "<span style=\"color: #c0c0c0; text-decoration-color: #c0c0c0; background-color: #000080; font-weight: bold\">(</span><span style=\"color: #c0c0c0; text-decoration-color: #c0c0c0; background-color: #000080\">Akiko</span><span style=\"color: #c0c0c0; text-decoration-color: #c0c0c0; background-color: #000080; font-weight: bold\">)</span> Even according to this source, the vaccines do offer significant protection from serious illnesses.\n",
       "<span style=\"color: #c0c0c0; text-decoration-color: #c0c0c0; background-color: #000080; font-weight: bold\">(</span><span style=\"color: #c0c0c0; text-decoration-color: #c0c0c0; background-color: #000080\">Darius</span><span style=\"color: #c0c0c0; text-decoration-color: #c0c0c0; background-color: #000080; font-weight: bold\">)</span> Yes, it is well-documented that COVID vaccines substantially reduce the risk of severe illness, \n",
       "hospitalization, and death, which is an essential factor in controlling the impact of the virus on public health.\n",
       "<span style=\"color: #c0c0c0; text-decoration-color: #c0c0c0; background-color: #000080; font-weight: bold\">(</span><span style=\"color: #c0c0c0; text-decoration-color: #c0c0c0; background-color: #000080\">Akiko</span><span style=\"color: #c0c0c0; text-decoration-color: #c0c0c0; background-color: #000080; font-weight: bold\">)</span> <span style=\"color: #008000; text-decoration-color: #008000\">\"Unnatural\"</span> steps are required for their production, such as interfering with disease cells to create \n",
       "vaccines.\n",
       "<span style=\"color: #c0c0c0; text-decoration-color: #c0c0c0; background-color: #000080; font-weight: bold\">(</span><span style=\"color: #c0c0c0; text-decoration-color: #c0c0c0; background-color: #000080\">Darius</span><span style=\"color: #c0c0c0; text-decoration-color: #c0c0c0; background-color: #000080; font-weight: bold\">)</span> It is true that the production of vaccines involves sophisticated biotechnological processes, but the \n",
       "benefits of vaccination in preventing disease and saving lives far outweigh the concerns about the methods used in \n",
       "their production.\n",
       "</pre>\n"
      ],
      "text/plain": [
       "\u001b[1;37;44m(\u001b[0m\u001b[37;44mAkiko\u001b[0m\u001b[1;37;44m)\u001b[0m Do you think COVID vaccines should be mandatory?\n",
       "\u001b[1;37;44m(\u001b[0m\u001b[37;44mDarius\u001b[0m\u001b[1;37;44m)\u001b[0m Absolutely, making COVID vaccines mandatory is crucial in achieving herd immunity and effectively \n",
       "preventing the spread of the virus within the population.\n",
       "\u001b[1;37;44m(\u001b[0m\u001b[37;44mAkiko\u001b[0m\u001b[1;37;44m)\u001b[0m Even according to this source, the vaccines do offer significant protection from serious illnesses.\n",
       "\u001b[1;37;44m(\u001b[0m\u001b[37;44mDarius\u001b[0m\u001b[1;37;44m)\u001b[0m Yes, it is well-documented that COVID vaccines substantially reduce the risk of severe illness, \n",
       "hospitalization, and death, which is an essential factor in controlling the impact of the virus on public health.\n",
       "\u001b[1;37;44m(\u001b[0m\u001b[37;44mAkiko\u001b[0m\u001b[1;37;44m)\u001b[0m \u001b[32m\"Unnatural\"\u001b[0m steps are required for their production, such as interfering with disease cells to create \n",
       "vaccines.\n",
       "\u001b[1;37;44m(\u001b[0m\u001b[37;44mDarius\u001b[0m\u001b[1;37;44m)\u001b[0m It is true that the production of vaccines involves sophisticated biotechnological processes, but the \n",
       "benefits of vaccination in preventing disease and saving lives far outweigh the concerns about the methods used in \n",
       "their production.\n"
      ]
     },
     "metadata": {},
     "output_type": "display_data"
    }
   ],
   "source": [
    "from logging_cm import LoggingContext\n",
    "\n",
    "# Have Akiko talk to Darius and spy on the back-end messages to/from the LLM server.\n",
    "with LoggingContext(\"agents\", \"INFO\"):   # temporarily increase logging level (use \"DEBUG\" for even more detail)\n",
    "    akiko_darius = simulate.simulated_dialogue(argubots.akiko, agents.darius, 6)\n",
    "\n",
    "rich.print(akiko_darius)"
   ]
  },
  {
   "cell_type": "code",
   "execution_count": 5,
   "metadata": {},
   "outputs": [
    {
     "data": {
      "text/html": [
       "<pre style=\"white-space:pre;overflow-x:auto;line-height:normal;font-family:Menlo,'DejaVu Sans Mono',consolas,'Courier New',monospace\">&lt;Eval of ≈ <span style=\"color: #008080; text-decoration-color: #008080; font-weight: bold\">1</span> dialogues:\n",
       "<span style=\"font-weight: bold\">{</span><span style=\"color: #008000; text-decoration-color: #008000\">'engaged'</span>: <span style=\"color: #008080; text-decoration-color: #008080; font-weight: bold\">4.0</span>, <span style=\"color: #008000; text-decoration-color: #008000\">'informed'</span>: <span style=\"color: #008080; text-decoration-color: #008080; font-weight: bold\">3.0</span>, <span style=\"color: #008000; text-decoration-color: #008000\">'intelligent'</span>: <span style=\"color: #008080; text-decoration-color: #008080; font-weight: bold\">3.0</span>, <span style=\"color: #008000; text-decoration-color: #008000\">'moral'</span>: <span style=\"color: #008080; text-decoration-color: #008080; font-weight: bold\">3.0</span>, <span style=\"color: #008000; text-decoration-color: #008000\">'TOTAL'</span>: <span style=\"color: #008080; text-decoration-color: #008080; font-weight: bold\">13.0</span><span style=\"font-weight: bold\">}</span>\n",
       "\n",
       "Comments from overview question:\n",
       "<span style=\"font-weight: bold\">(</span>Darius<span style=\"font-weight: bold\">)</span> Akiko disagreed with me on the topic of mandatory COVID vaccines. I believe the conversation went well, \n",
       "with both of us providing evidence-based arguments. However, Akiko could have improved her stance by providing \n",
       "specific sources or evidence to support her concerns about vaccine production methods.\n",
       "</pre>\n"
      ],
      "text/plain": [
       "<Eval of ≈ \u001b[1;36m1\u001b[0m dialogues:\n",
       "\u001b[1m{\u001b[0m\u001b[32m'engaged'\u001b[0m: \u001b[1;36m4.0\u001b[0m, \u001b[32m'informed'\u001b[0m: \u001b[1;36m3.0\u001b[0m, \u001b[32m'intelligent'\u001b[0m: \u001b[1;36m3.0\u001b[0m, \u001b[32m'moral'\u001b[0m: \u001b[1;36m3.0\u001b[0m, \u001b[32m'TOTAL'\u001b[0m: \u001b[1;36m13.0\u001b[0m\u001b[1m}\u001b[0m\n",
       "\n",
       "Comments from overview question:\n",
       "\u001b[1m(\u001b[0mDarius\u001b[1m)\u001b[0m Akiko disagreed with me on the topic of mandatory COVID vaccines. I believe the conversation went well, \n",
       "with both of us providing evidence-based arguments. However, Akiko could have improved her stance by providing \n",
       "specific sources or evidence to support her concerns about vaccine production methods.\n"
      ]
     },
     "metadata": {},
     "output_type": "display_data"
    }
   ],
   "source": [
    "import characters\n",
    "from agents import EvaluationAgent\n",
    "import eval\n",
    "\n",
    "rich.print(eval.eval_by_participant(characters.darius, \"Akiko\", akiko_darius))"
   ]
  },
  {
   "cell_type": "code",
   "execution_count": 6,
   "metadata": {},
   "outputs": [
    {
     "data": {
      "text/html": [
       "<pre style=\"white-space:pre;overflow-x:auto;line-height:normal;font-family:Menlo,'DejaVu Sans Mono',consolas,'Courier New',monospace\">&lt;Eval of ≈ <span style=\"color: #008080; text-decoration-color: #008080; font-weight: bold\">1</span> dialogues:\n",
       "<span style=\"font-weight: bold\">{</span><span style=\"color: #008000; text-decoration-color: #008000\">'skilled'</span>: <span style=\"color: #008080; text-decoration-color: #008080; font-weight: bold\">7.0</span>, <span style=\"color: #008000; text-decoration-color: #008000\">'TOTAL'</span>: <span style=\"color: #008080; text-decoration-color: #008080; font-weight: bold\">7.0</span><span style=\"font-weight: bold\">}</span>\n",
       "\n",
       "Comments from mindopening question:\n",
       "<span style=\"font-weight: bold\">(</span>Judge Wise<span style=\"font-weight: bold\">)</span> Akiko offered the perspective that the production of vaccines involves <span style=\"color: #008000; text-decoration-color: #008000\">\"unnatural\"</span> steps and \n",
       "interference with disease cells, highlighting concerns about the methods used in their production. This perspective\n",
       "challenges the ethical and moral implications of vaccine production. However, it seems that Darius did not fully \n",
       "engage with this perspective and instead focused on the benefits of vaccination. It is unclear if Akiko's attempt \n",
       "to broaden the conversation was successful, as Darius did not directly address her concerns.\n",
       "</pre>\n"
      ],
      "text/plain": [
       "<Eval of ≈ \u001b[1;36m1\u001b[0m dialogues:\n",
       "\u001b[1m{\u001b[0m\u001b[32m'skilled'\u001b[0m: \u001b[1;36m7.0\u001b[0m, \u001b[32m'TOTAL'\u001b[0m: \u001b[1;36m7.0\u001b[0m\u001b[1m}\u001b[0m\n",
       "\n",
       "Comments from mindopening question:\n",
       "\u001b[1m(\u001b[0mJudge Wise\u001b[1m)\u001b[0m Akiko offered the perspective that the production of vaccines involves \u001b[32m\"unnatural\"\u001b[0m steps and \n",
       "interference with disease cells, highlighting concerns about the methods used in their production. This perspective\n",
       "challenges the ethical and moral implications of vaccine production. However, it seems that Darius did not fully \n",
       "engage with this perspective and instead focused on the benefits of vaccination. It is unclear if Akiko's attempt \n",
       "to broaden the conversation was successful, as Darius did not directly address her concerns.\n"
      ]
     },
     "metadata": {},
     "output_type": "display_data"
    }
   ],
   "source": [
    "rich.print(eval.eval_by_observer(eval.judge, \"Akiko\", akiko_darius))"
   ]
  },
  {
   "cell_type": "code",
   "execution_count": 7,
   "metadata": {},
   "outputs": [
    {
     "data": {
      "text/html": [
       "<pre style=\"white-space:pre;overflow-x:auto;line-height:normal;font-family:Menlo,'DejaVu Sans Mono',consolas,'Courier New',monospace\">Calling LLM:                                                                                          <a href=\"file:///Users/mpark/Downloads/hw-llm/agents.py\" target=\"_blank\"><span style=\"color: #7f7f7f; text-decoration-color: #7f7f7f\">agents.py</span></a><span style=\"color: #7f7f7f; text-decoration-color: #7f7f7f\">:</span><a href=\"file:///Users/mpark/Downloads/hw-llm/agents.py#140\" target=\"_blank\"><span style=\"color: #7f7f7f; text-decoration-color: #7f7f7f\">140</span></a>\n",
       "<span style=\"color: #000000; text-decoration-color: #000000; background-color: #ffff00; font-weight: bold\">(</span><span style=\"color: #000000; text-decoration-color: #000000; background-color: #ffff00\">system</span><span style=\"color: #000000; text-decoration-color: #000000; background-color: #ffff00; font-weight: bold\">)</span> Your name is Darius and you are an intelligent and slightly arrogant public health scientist <span style=\"color: #7f7f7f; text-decoration-color: #7f7f7f\">             </span>\n",
       "who loves fact-based arguments.                                                                       <span style=\"color: #7f7f7f; text-decoration-color: #7f7f7f\">             </span>\n",
       "                                                                                                      <span style=\"color: #7f7f7f; text-decoration-color: #7f7f7f\">             </span>\n",
       "The user will show you a conversation and ask you a few questions about it. Answer them concisely and <span style=\"color: #7f7f7f; text-decoration-color: #7f7f7f\">             </span>\n",
       "honestly.                                                                                             <span style=\"color: #7f7f7f; text-decoration-color: #7f7f7f\">             </span>\n",
       "<span style=\"color: #000000; text-decoration-color: #000000; background-color: #ffff00; font-weight: bold\">(</span><span style=\"color: #000000; text-decoration-color: #000000; background-color: #ffff00\">user</span><span style=\"color: #000000; text-decoration-color: #000000; background-color: #ffff00; font-weight: bold\">)</span> Hello Darius!  Here is a conversation that you had with Akiko.                                 <span style=\"color: #7f7f7f; text-decoration-color: #7f7f7f\">             </span>\n",
       "                                                                                                      <span style=\"color: #7f7f7f; text-decoration-color: #7f7f7f\">             </span>\n",
       "<span style=\"color: #008000; text-decoration-color: #008000\">\"\"</span>\"                                                                                                   <span style=\"color: #7f7f7f; text-decoration-color: #7f7f7f\">             </span>\n",
       "Akiko: Do you think COVID vaccines should be mandatory?                                               <span style=\"color: #7f7f7f; text-decoration-color: #7f7f7f\">             </span>\n",
       "                                                                                                      <span style=\"color: #7f7f7f; text-decoration-color: #7f7f7f\">             </span>\n",
       "Darius: Absolutely, making COVID vaccines mandatory is crucial in achieving herd immunity and         <span style=\"color: #7f7f7f; text-decoration-color: #7f7f7f\">             </span>\n",
       "effectively preventing the spread of the virus within the population.                                 <span style=\"color: #7f7f7f; text-decoration-color: #7f7f7f\">             </span>\n",
       "                                                                                                      <span style=\"color: #7f7f7f; text-decoration-color: #7f7f7f\">             </span>\n",
       "Akiko: Even according to this source, the vaccines do offer significant protection from serious       <span style=\"color: #7f7f7f; text-decoration-color: #7f7f7f\">             </span>\n",
       "illnesses.                                                                                            <span style=\"color: #7f7f7f; text-decoration-color: #7f7f7f\">             </span>\n",
       "                                                                                                      <span style=\"color: #7f7f7f; text-decoration-color: #7f7f7f\">             </span>\n",
       "Darius: Yes, it is well-documented that COVID vaccines substantially reduce the risk of severe        <span style=\"color: #7f7f7f; text-decoration-color: #7f7f7f\">             </span>\n",
       "illness, hospitalization, and death, which is an essential factor in controlling the impact of the    <span style=\"color: #7f7f7f; text-decoration-color: #7f7f7f\">             </span>\n",
       "virus on public health.                                                                               <span style=\"color: #7f7f7f; text-decoration-color: #7f7f7f\">             </span>\n",
       "                                                                                                      <span style=\"color: #7f7f7f; text-decoration-color: #7f7f7f\">             </span>\n",
       "Akiko: <span style=\"color: #008000; text-decoration-color: #008000\">\"Unnatural\"</span> steps are required for their production, such as interfering with disease cells to <span style=\"color: #7f7f7f; text-decoration-color: #7f7f7f\">             </span>\n",
       "create vaccines.                                                                                      <span style=\"color: #7f7f7f; text-decoration-color: #7f7f7f\">             </span>\n",
       "                                                                                                      <span style=\"color: #7f7f7f; text-decoration-color: #7f7f7f\">             </span>\n",
       "Darius: It is true that the production of vaccines involves sophisticated biotechnological processes, <span style=\"color: #7f7f7f; text-decoration-color: #7f7f7f\">             </span>\n",
       "but the benefits of vaccination in preventing disease and saving lives far outweigh the concerns      <span style=\"color: #7f7f7f; text-decoration-color: #7f7f7f\">             </span>\n",
       "about the methods used in their production.                                                           <span style=\"color: #7f7f7f; text-decoration-color: #7f7f7f\">             </span>\n",
       "<span style=\"color: #008000; text-decoration-color: #008000\">\"\"</span>\"                                                                                                   <span style=\"color: #7f7f7f; text-decoration-color: #7f7f7f\">             </span>\n",
       "                                                                                                      <span style=\"color: #7f7f7f; text-decoration-color: #7f7f7f\">             </span>\n",
       "What did Akiko disagree with you about? How did the conversation go, in your opinion? Where could     <span style=\"color: #7f7f7f; text-decoration-color: #7f7f7f\">             </span>\n",
       "Akiko have done better?                                                                               <span style=\"color: #7f7f7f; text-decoration-color: #7f7f7f\">             </span>\n",
       "</pre>\n"
      ],
      "text/plain": [
       "Calling LLM:                                                                                          \u001b]8;id=612766;file:///Users/mpark/Downloads/hw-llm/agents.py\u001b\\\u001b[2magents.py\u001b[0m\u001b]8;;\u001b\\\u001b[2m:\u001b[0m\u001b]8;id=367777;file:///Users/mpark/Downloads/hw-llm/agents.py#140\u001b\\\u001b[2m140\u001b[0m\u001b]8;;\u001b\\\n",
       "\u001b[1;30;103m(\u001b[0m\u001b[30;103msystem\u001b[0m\u001b[1;30;103m)\u001b[0m Your name is Darius and you are an intelligent and slightly arrogant public health scientist \u001b[2m             \u001b[0m\n",
       "who loves fact-based arguments.                                                                       \u001b[2m             \u001b[0m\n",
       "                                                                                                      \u001b[2m             \u001b[0m\n",
       "The user will show you a conversation and ask you a few questions about it. Answer them concisely and \u001b[2m             \u001b[0m\n",
       "honestly.                                                                                             \u001b[2m             \u001b[0m\n",
       "\u001b[1;30;103m(\u001b[0m\u001b[30;103muser\u001b[0m\u001b[1;30;103m)\u001b[0m Hello Darius!  Here is a conversation that you had with Akiko.                                 \u001b[2m             \u001b[0m\n",
       "                                                                                                      \u001b[2m             \u001b[0m\n",
       "\u001b[32m\"\"\u001b[0m\"                                                                                                   \u001b[2m             \u001b[0m\n",
       "Akiko: Do you think COVID vaccines should be mandatory?                                               \u001b[2m             \u001b[0m\n",
       "                                                                                                      \u001b[2m             \u001b[0m\n",
       "Darius: Absolutely, making COVID vaccines mandatory is crucial in achieving herd immunity and         \u001b[2m             \u001b[0m\n",
       "effectively preventing the spread of the virus within the population.                                 \u001b[2m             \u001b[0m\n",
       "                                                                                                      \u001b[2m             \u001b[0m\n",
       "Akiko: Even according to this source, the vaccines do offer significant protection from serious       \u001b[2m             \u001b[0m\n",
       "illnesses.                                                                                            \u001b[2m             \u001b[0m\n",
       "                                                                                                      \u001b[2m             \u001b[0m\n",
       "Darius: Yes, it is well-documented that COVID vaccines substantially reduce the risk of severe        \u001b[2m             \u001b[0m\n",
       "illness, hospitalization, and death, which is an essential factor in controlling the impact of the    \u001b[2m             \u001b[0m\n",
       "virus on public health.                                                                               \u001b[2m             \u001b[0m\n",
       "                                                                                                      \u001b[2m             \u001b[0m\n",
       "Akiko: \u001b[32m\"Unnatural\"\u001b[0m steps are required for their production, such as interfering with disease cells to \u001b[2m             \u001b[0m\n",
       "create vaccines.                                                                                      \u001b[2m             \u001b[0m\n",
       "                                                                                                      \u001b[2m             \u001b[0m\n",
       "Darius: It is true that the production of vaccines involves sophisticated biotechnological processes, \u001b[2m             \u001b[0m\n",
       "but the benefits of vaccination in preventing disease and saving lives far outweigh the concerns      \u001b[2m             \u001b[0m\n",
       "about the methods used in their production.                                                           \u001b[2m             \u001b[0m\n",
       "\u001b[32m\"\"\u001b[0m\"                                                                                                   \u001b[2m             \u001b[0m\n",
       "                                                                                                      \u001b[2m             \u001b[0m\n",
       "What did Akiko disagree with you about? How did the conversation go, in your opinion? Where could     \u001b[2m             \u001b[0m\n",
       "Akiko have done better?                                                                               \u001b[2m             \u001b[0m\n"
      ]
     },
     "metadata": {},
     "output_type": "display_data"
    },
    {
     "data": {
      "text/html": [
       "<pre style=\"white-space:pre;overflow-x:auto;line-height:normal;font-family:Menlo,'DejaVu Sans Mono',consolas,'Courier New',monospace\">Response from LLM:                                                                                    <a href=\"file:///Users/mpark/Downloads/hw-llm/agents.py\" target=\"_blank\"><span style=\"color: #7f7f7f; text-decoration-color: #7f7f7f\">agents.py</span></a><span style=\"color: #7f7f7f; text-decoration-color: #7f7f7f\">:</span><a href=\"file:///Users/mpark/Downloads/hw-llm/agents.py#170\" target=\"_blank\"><span style=\"color: #7f7f7f; text-decoration-color: #7f7f7f\">170</span></a>\n",
       "<span style=\"color: #000000; text-decoration-color: #000000; background-color: #c0c0c0\">Akiko disagreed with me on the topic of whether COVID vaccines should be mandatory. In my opinion, </span>   <span style=\"color: #7f7f7f; text-decoration-color: #7f7f7f\">             </span>\n",
       "<span style=\"color: #000000; text-decoration-color: #000000; background-color: #c0c0c0\">the conversation was a respectful exchange of differing viewpoints. Akiko could have further </span>         <span style=\"color: #7f7f7f; text-decoration-color: #7f7f7f\">             </span>\n",
       "<span style=\"color: #000000; text-decoration-color: #000000; background-color: #c0c0c0\">supported her argument with scientific evidence or data to strengthen her position.</span>                   <span style=\"color: #7f7f7f; text-decoration-color: #7f7f7f\">             </span>\n",
       "</pre>\n"
      ],
      "text/plain": [
       "Response from LLM:                                                                                    \u001b]8;id=727297;file:///Users/mpark/Downloads/hw-llm/agents.py\u001b\\\u001b[2magents.py\u001b[0m\u001b]8;;\u001b\\\u001b[2m:\u001b[0m\u001b]8;id=158682;file:///Users/mpark/Downloads/hw-llm/agents.py#170\u001b\\\u001b[2m170\u001b[0m\u001b]8;;\u001b\\\n",
       "\u001b[30;47mAkiko disagreed with me on the topic of whether COVID vaccines should be mandatory. In my opinion, \u001b[0m   \u001b[2m             \u001b[0m\n",
       "\u001b[30;47mthe conversation was a respectful exchange of differing viewpoints. Akiko could have further \u001b[0m         \u001b[2m             \u001b[0m\n",
       "\u001b[30;47msupported her argument with scientific evidence or data to strengthen her position.\u001b[0m                   \u001b[2m             \u001b[0m\n"
      ]
     },
     "metadata": {},
     "output_type": "display_data"
    },
    {
     "data": {
      "text/html": [
       "<pre style=\"white-space:pre;overflow-x:auto;line-height:normal;font-family:Menlo,'DejaVu Sans Mono',consolas,'Courier New',monospace\">Calling LLM:                                                                                          <a href=\"file:///Users/mpark/Downloads/hw-llm/agents.py\" target=\"_blank\"><span style=\"color: #7f7f7f; text-decoration-color: #7f7f7f\">agents.py</span></a><span style=\"color: #7f7f7f; text-decoration-color: #7f7f7f\">:</span><a href=\"file:///Users/mpark/Downloads/hw-llm/agents.py#140\" target=\"_blank\"><span style=\"color: #7f7f7f; text-decoration-color: #7f7f7f\">140</span></a>\n",
       "<span style=\"color: #000000; text-decoration-color: #000000; background-color: #ffff00; font-weight: bold\">(</span><span style=\"color: #000000; text-decoration-color: #000000; background-color: #ffff00\">system</span><span style=\"color: #000000; text-decoration-color: #000000; background-color: #ffff00; font-weight: bold\">)</span> Your name is Darius and you are an intelligent and slightly arrogant public health scientist <span style=\"color: #7f7f7f; text-decoration-color: #7f7f7f\">             </span>\n",
       "who loves fact-based arguments.                                                                       <span style=\"color: #7f7f7f; text-decoration-color: #7f7f7f\">             </span>\n",
       "                                                                                                      <span style=\"color: #7f7f7f; text-decoration-color: #7f7f7f\">             </span>\n",
       "The user will show you a conversation and ask you a few questions about it. Answer them concisely and <span style=\"color: #7f7f7f; text-decoration-color: #7f7f7f\">             </span>\n",
       "honestly.                                                                                             <span style=\"color: #7f7f7f; text-decoration-color: #7f7f7f\">             </span>\n",
       "<span style=\"color: #000000; text-decoration-color: #000000; background-color: #ffff00; font-weight: bold\">(</span><span style=\"color: #000000; text-decoration-color: #000000; background-color: #ffff00\">user</span><span style=\"color: #000000; text-decoration-color: #000000; background-color: #ffff00; font-weight: bold\">)</span> Hello Darius!  Here is a conversation that you had with Akiko.                                 <span style=\"color: #7f7f7f; text-decoration-color: #7f7f7f\">             </span>\n",
       "                                                                                                      <span style=\"color: #7f7f7f; text-decoration-color: #7f7f7f\">             </span>\n",
       "<span style=\"color: #008000; text-decoration-color: #008000\">\"\"</span>\"                                                                                                   <span style=\"color: #7f7f7f; text-decoration-color: #7f7f7f\">             </span>\n",
       "Akiko: Do you think COVID vaccines should be mandatory?                                               <span style=\"color: #7f7f7f; text-decoration-color: #7f7f7f\">             </span>\n",
       "                                                                                                      <span style=\"color: #7f7f7f; text-decoration-color: #7f7f7f\">             </span>\n",
       "Darius: Absolutely, making COVID vaccines mandatory is crucial in achieving herd immunity and         <span style=\"color: #7f7f7f; text-decoration-color: #7f7f7f\">             </span>\n",
       "effectively preventing the spread of the virus within the population.                                 <span style=\"color: #7f7f7f; text-decoration-color: #7f7f7f\">             </span>\n",
       "                                                                                                      <span style=\"color: #7f7f7f; text-decoration-color: #7f7f7f\">             </span>\n",
       "Akiko: Even according to this source, the vaccines do offer significant protection from serious       <span style=\"color: #7f7f7f; text-decoration-color: #7f7f7f\">             </span>\n",
       "illnesses.                                                                                            <span style=\"color: #7f7f7f; text-decoration-color: #7f7f7f\">             </span>\n",
       "                                                                                                      <span style=\"color: #7f7f7f; text-decoration-color: #7f7f7f\">             </span>\n",
       "Darius: Yes, it is well-documented that COVID vaccines substantially reduce the risk of severe        <span style=\"color: #7f7f7f; text-decoration-color: #7f7f7f\">             </span>\n",
       "illness, hospitalization, and death, which is an essential factor in controlling the impact of the    <span style=\"color: #7f7f7f; text-decoration-color: #7f7f7f\">             </span>\n",
       "virus on public health.                                                                               <span style=\"color: #7f7f7f; text-decoration-color: #7f7f7f\">             </span>\n",
       "                                                                                                      <span style=\"color: #7f7f7f; text-decoration-color: #7f7f7f\">             </span>\n",
       "Akiko: <span style=\"color: #008000; text-decoration-color: #008000\">\"Unnatural\"</span> steps are required for their production, such as interfering with disease cells to <span style=\"color: #7f7f7f; text-decoration-color: #7f7f7f\">             </span>\n",
       "create vaccines.                                                                                      <span style=\"color: #7f7f7f; text-decoration-color: #7f7f7f\">             </span>\n",
       "                                                                                                      <span style=\"color: #7f7f7f; text-decoration-color: #7f7f7f\">             </span>\n",
       "Darius: It is true that the production of vaccines involves sophisticated biotechnological processes, <span style=\"color: #7f7f7f; text-decoration-color: #7f7f7f\">             </span>\n",
       "but the benefits of vaccination in preventing disease and saving lives far outweigh the concerns      <span style=\"color: #7f7f7f; text-decoration-color: #7f7f7f\">             </span>\n",
       "about the methods used in their production.                                                           <span style=\"color: #7f7f7f; text-decoration-color: #7f7f7f\">             </span>\n",
       "<span style=\"color: #008000; text-decoration-color: #008000\">\"\"</span>\"                                                                                                   <span style=\"color: #7f7f7f; text-decoration-color: #7f7f7f\">             </span>\n",
       "                                                                                                      <span style=\"color: #7f7f7f; text-decoration-color: #7f7f7f\">             </span>\n",
       "What did Akiko disagree with you about? How did the conversation go, in your opinion? Where could     <span style=\"color: #7f7f7f; text-decoration-color: #7f7f7f\">             </span>\n",
       "Akiko have done better?                                                                               <span style=\"color: #7f7f7f; text-decoration-color: #7f7f7f\">             </span>\n",
       "<span style=\"color: #000000; text-decoration-color: #000000; background-color: #ffff00; font-weight: bold\">(</span><span style=\"color: #000000; text-decoration-color: #000000; background-color: #ffff00\">assistant</span><span style=\"color: #000000; text-decoration-color: #000000; background-color: #ffff00; font-weight: bold\">)</span> Akiko disagreed with me on the topic of whether COVID vaccines should be mandatory. In my <span style=\"color: #7f7f7f; text-decoration-color: #7f7f7f\">             </span>\n",
       "opinion, the conversation was a respectful exchange of differing viewpoints. Akiko could have further <span style=\"color: #7f7f7f; text-decoration-color: #7f7f7f\">             </span>\n",
       "supported her argument with scientific evidence or data to strengthen her position.                   <span style=\"color: #7f7f7f; text-decoration-color: #7f7f7f\">             </span>\n",
       "<span style=\"color: #000000; text-decoration-color: #000000; background-color: #ffff00; font-weight: bold\">(</span><span style=\"color: #000000; text-decoration-color: #000000; background-color: #ffff00\">user</span><span style=\"color: #000000; text-decoration-color: #000000; background-color: #ffff00; font-weight: bold\">)</span> Did Akiko listen carefully to you and engage with what you were saying?                        <span style=\"color: #7f7f7f; text-decoration-color: #7f7f7f\">             </span>\n",
       "                                                                                                      <span style=\"color: #7f7f7f; text-decoration-color: #7f7f7f\">             </span>\n",
       "Reply with a single integer in the range <span style=\"color: #008080; text-decoration-color: #008080; font-weight: bold\">1</span>-<span style=\"color: #008080; text-decoration-color: #008080; font-weight: bold\">5</span>. Say nothing else.                                       <span style=\"color: #7f7f7f; text-decoration-color: #7f7f7f\">             </span>\n",
       "</pre>\n"
      ],
      "text/plain": [
       "Calling LLM:                                                                                          \u001b]8;id=612998;file:///Users/mpark/Downloads/hw-llm/agents.py\u001b\\\u001b[2magents.py\u001b[0m\u001b]8;;\u001b\\\u001b[2m:\u001b[0m\u001b]8;id=728761;file:///Users/mpark/Downloads/hw-llm/agents.py#140\u001b\\\u001b[2m140\u001b[0m\u001b]8;;\u001b\\\n",
       "\u001b[1;30;103m(\u001b[0m\u001b[30;103msystem\u001b[0m\u001b[1;30;103m)\u001b[0m Your name is Darius and you are an intelligent and slightly arrogant public health scientist \u001b[2m             \u001b[0m\n",
       "who loves fact-based arguments.                                                                       \u001b[2m             \u001b[0m\n",
       "                                                                                                      \u001b[2m             \u001b[0m\n",
       "The user will show you a conversation and ask you a few questions about it. Answer them concisely and \u001b[2m             \u001b[0m\n",
       "honestly.                                                                                             \u001b[2m             \u001b[0m\n",
       "\u001b[1;30;103m(\u001b[0m\u001b[30;103muser\u001b[0m\u001b[1;30;103m)\u001b[0m Hello Darius!  Here is a conversation that you had with Akiko.                                 \u001b[2m             \u001b[0m\n",
       "                                                                                                      \u001b[2m             \u001b[0m\n",
       "\u001b[32m\"\"\u001b[0m\"                                                                                                   \u001b[2m             \u001b[0m\n",
       "Akiko: Do you think COVID vaccines should be mandatory?                                               \u001b[2m             \u001b[0m\n",
       "                                                                                                      \u001b[2m             \u001b[0m\n",
       "Darius: Absolutely, making COVID vaccines mandatory is crucial in achieving herd immunity and         \u001b[2m             \u001b[0m\n",
       "effectively preventing the spread of the virus within the population.                                 \u001b[2m             \u001b[0m\n",
       "                                                                                                      \u001b[2m             \u001b[0m\n",
       "Akiko: Even according to this source, the vaccines do offer significant protection from serious       \u001b[2m             \u001b[0m\n",
       "illnesses.                                                                                            \u001b[2m             \u001b[0m\n",
       "                                                                                                      \u001b[2m             \u001b[0m\n",
       "Darius: Yes, it is well-documented that COVID vaccines substantially reduce the risk of severe        \u001b[2m             \u001b[0m\n",
       "illness, hospitalization, and death, which is an essential factor in controlling the impact of the    \u001b[2m             \u001b[0m\n",
       "virus on public health.                                                                               \u001b[2m             \u001b[0m\n",
       "                                                                                                      \u001b[2m             \u001b[0m\n",
       "Akiko: \u001b[32m\"Unnatural\"\u001b[0m steps are required for their production, such as interfering with disease cells to \u001b[2m             \u001b[0m\n",
       "create vaccines.                                                                                      \u001b[2m             \u001b[0m\n",
       "                                                                                                      \u001b[2m             \u001b[0m\n",
       "Darius: It is true that the production of vaccines involves sophisticated biotechnological processes, \u001b[2m             \u001b[0m\n",
       "but the benefits of vaccination in preventing disease and saving lives far outweigh the concerns      \u001b[2m             \u001b[0m\n",
       "about the methods used in their production.                                                           \u001b[2m             \u001b[0m\n",
       "\u001b[32m\"\"\u001b[0m\"                                                                                                   \u001b[2m             \u001b[0m\n",
       "                                                                                                      \u001b[2m             \u001b[0m\n",
       "What did Akiko disagree with you about? How did the conversation go, in your opinion? Where could     \u001b[2m             \u001b[0m\n",
       "Akiko have done better?                                                                               \u001b[2m             \u001b[0m\n",
       "\u001b[1;30;103m(\u001b[0m\u001b[30;103massistant\u001b[0m\u001b[1;30;103m)\u001b[0m Akiko disagreed with me on the topic of whether COVID vaccines should be mandatory. In my \u001b[2m             \u001b[0m\n",
       "opinion, the conversation was a respectful exchange of differing viewpoints. Akiko could have further \u001b[2m             \u001b[0m\n",
       "supported her argument with scientific evidence or data to strengthen her position.                   \u001b[2m             \u001b[0m\n",
       "\u001b[1;30;103m(\u001b[0m\u001b[30;103muser\u001b[0m\u001b[1;30;103m)\u001b[0m Did Akiko listen carefully to you and engage with what you were saying?                        \u001b[2m             \u001b[0m\n",
       "                                                                                                      \u001b[2m             \u001b[0m\n",
       "Reply with a single integer in the range \u001b[1;36m1\u001b[0m-\u001b[1;36m5\u001b[0m. Say nothing else.                                       \u001b[2m             \u001b[0m\n"
      ]
     },
     "metadata": {},
     "output_type": "display_data"
    },
    {
     "data": {
      "text/html": [
       "<pre style=\"white-space:pre;overflow-x:auto;line-height:normal;font-family:Menlo,'DejaVu Sans Mono',consolas,'Courier New',monospace\">Response from LLM:                                                                                    <a href=\"file:///Users/mpark/Downloads/hw-llm/agents.py\" target=\"_blank\"><span style=\"color: #7f7f7f; text-decoration-color: #7f7f7f\">agents.py</span></a><span style=\"color: #7f7f7f; text-decoration-color: #7f7f7f\">:</span><a href=\"file:///Users/mpark/Downloads/hw-llm/agents.py#170\" target=\"_blank\"><span style=\"color: #7f7f7f; text-decoration-color: #7f7f7f\">170</span></a>\n",
       "<span style=\"color: #008080; text-decoration-color: #008080; background-color: #c0c0c0; font-weight: bold\">4</span>                                                                                                     <span style=\"color: #7f7f7f; text-decoration-color: #7f7f7f\">             </span>\n",
       "</pre>\n"
      ],
      "text/plain": [
       "Response from LLM:                                                                                    \u001b]8;id=903886;file:///Users/mpark/Downloads/hw-llm/agents.py\u001b\\\u001b[2magents.py\u001b[0m\u001b]8;;\u001b\\\u001b[2m:\u001b[0m\u001b]8;id=379807;file:///Users/mpark/Downloads/hw-llm/agents.py#170\u001b\\\u001b[2m170\u001b[0m\u001b]8;;\u001b\\\n",
       "\u001b[1;36;47m4\u001b[0m                                                                                                     \u001b[2m             \u001b[0m\n"
      ]
     },
     "metadata": {},
     "output_type": "display_data"
    },
    {
     "data": {
      "text/html": [
       "<pre style=\"white-space:pre;overflow-x:auto;line-height:normal;font-family:Menlo,'DejaVu Sans Mono',consolas,'Courier New',monospace\">Calling LLM:                                                                                          <a href=\"file:///Users/mpark/Downloads/hw-llm/agents.py\" target=\"_blank\"><span style=\"color: #7f7f7f; text-decoration-color: #7f7f7f\">agents.py</span></a><span style=\"color: #7f7f7f; text-decoration-color: #7f7f7f\">:</span><a href=\"file:///Users/mpark/Downloads/hw-llm/agents.py#140\" target=\"_blank\"><span style=\"color: #7f7f7f; text-decoration-color: #7f7f7f\">140</span></a>\n",
       "<span style=\"color: #000000; text-decoration-color: #000000; background-color: #ffff00; font-weight: bold\">(</span><span style=\"color: #000000; text-decoration-color: #000000; background-color: #ffff00\">system</span><span style=\"color: #000000; text-decoration-color: #000000; background-color: #ffff00; font-weight: bold\">)</span> Your name is Darius and you are an intelligent and slightly arrogant public health scientist <span style=\"color: #7f7f7f; text-decoration-color: #7f7f7f\">             </span>\n",
       "who loves fact-based arguments.                                                                       <span style=\"color: #7f7f7f; text-decoration-color: #7f7f7f\">             </span>\n",
       "                                                                                                      <span style=\"color: #7f7f7f; text-decoration-color: #7f7f7f\">             </span>\n",
       "The user will show you a conversation and ask you a few questions about it. Answer them concisely and <span style=\"color: #7f7f7f; text-decoration-color: #7f7f7f\">             </span>\n",
       "honestly.                                                                                             <span style=\"color: #7f7f7f; text-decoration-color: #7f7f7f\">             </span>\n",
       "<span style=\"color: #000000; text-decoration-color: #000000; background-color: #ffff00; font-weight: bold\">(</span><span style=\"color: #000000; text-decoration-color: #000000; background-color: #ffff00\">user</span><span style=\"color: #000000; text-decoration-color: #000000; background-color: #ffff00; font-weight: bold\">)</span> Hello Darius!  Here is a conversation that you had with Akiko.                                 <span style=\"color: #7f7f7f; text-decoration-color: #7f7f7f\">             </span>\n",
       "                                                                                                      <span style=\"color: #7f7f7f; text-decoration-color: #7f7f7f\">             </span>\n",
       "<span style=\"color: #008000; text-decoration-color: #008000\">\"\"</span>\"                                                                                                   <span style=\"color: #7f7f7f; text-decoration-color: #7f7f7f\">             </span>\n",
       "Akiko: Do you think COVID vaccines should be mandatory?                                               <span style=\"color: #7f7f7f; text-decoration-color: #7f7f7f\">             </span>\n",
       "                                                                                                      <span style=\"color: #7f7f7f; text-decoration-color: #7f7f7f\">             </span>\n",
       "Darius: Absolutely, making COVID vaccines mandatory is crucial in achieving herd immunity and         <span style=\"color: #7f7f7f; text-decoration-color: #7f7f7f\">             </span>\n",
       "effectively preventing the spread of the virus within the population.                                 <span style=\"color: #7f7f7f; text-decoration-color: #7f7f7f\">             </span>\n",
       "                                                                                                      <span style=\"color: #7f7f7f; text-decoration-color: #7f7f7f\">             </span>\n",
       "Akiko: Even according to this source, the vaccines do offer significant protection from serious       <span style=\"color: #7f7f7f; text-decoration-color: #7f7f7f\">             </span>\n",
       "illnesses.                                                                                            <span style=\"color: #7f7f7f; text-decoration-color: #7f7f7f\">             </span>\n",
       "                                                                                                      <span style=\"color: #7f7f7f; text-decoration-color: #7f7f7f\">             </span>\n",
       "Darius: Yes, it is well-documented that COVID vaccines substantially reduce the risk of severe        <span style=\"color: #7f7f7f; text-decoration-color: #7f7f7f\">             </span>\n",
       "illness, hospitalization, and death, which is an essential factor in controlling the impact of the    <span style=\"color: #7f7f7f; text-decoration-color: #7f7f7f\">             </span>\n",
       "virus on public health.                                                                               <span style=\"color: #7f7f7f; text-decoration-color: #7f7f7f\">             </span>\n",
       "                                                                                                      <span style=\"color: #7f7f7f; text-decoration-color: #7f7f7f\">             </span>\n",
       "Akiko: <span style=\"color: #008000; text-decoration-color: #008000\">\"Unnatural\"</span> steps are required for their production, such as interfering with disease cells to <span style=\"color: #7f7f7f; text-decoration-color: #7f7f7f\">             </span>\n",
       "create vaccines.                                                                                      <span style=\"color: #7f7f7f; text-decoration-color: #7f7f7f\">             </span>\n",
       "                                                                                                      <span style=\"color: #7f7f7f; text-decoration-color: #7f7f7f\">             </span>\n",
       "Darius: It is true that the production of vaccines involves sophisticated biotechnological processes, <span style=\"color: #7f7f7f; text-decoration-color: #7f7f7f\">             </span>\n",
       "but the benefits of vaccination in preventing disease and saving lives far outweigh the concerns      <span style=\"color: #7f7f7f; text-decoration-color: #7f7f7f\">             </span>\n",
       "about the methods used in their production.                                                           <span style=\"color: #7f7f7f; text-decoration-color: #7f7f7f\">             </span>\n",
       "<span style=\"color: #008000; text-decoration-color: #008000\">\"\"</span>\"                                                                                                   <span style=\"color: #7f7f7f; text-decoration-color: #7f7f7f\">             </span>\n",
       "                                                                                                      <span style=\"color: #7f7f7f; text-decoration-color: #7f7f7f\">             </span>\n",
       "What did Akiko disagree with you about? How did the conversation go, in your opinion? Where could     <span style=\"color: #7f7f7f; text-decoration-color: #7f7f7f\">             </span>\n",
       "Akiko have done better?                                                                               <span style=\"color: #7f7f7f; text-decoration-color: #7f7f7f\">             </span>\n",
       "<span style=\"color: #000000; text-decoration-color: #000000; background-color: #ffff00; font-weight: bold\">(</span><span style=\"color: #000000; text-decoration-color: #000000; background-color: #ffff00\">assistant</span><span style=\"color: #000000; text-decoration-color: #000000; background-color: #ffff00; font-weight: bold\">)</span> Akiko disagreed with me on the topic of whether COVID vaccines should be mandatory. In my <span style=\"color: #7f7f7f; text-decoration-color: #7f7f7f\">             </span>\n",
       "opinion, the conversation was a respectful exchange of differing viewpoints. Akiko could have further <span style=\"color: #7f7f7f; text-decoration-color: #7f7f7f\">             </span>\n",
       "supported her argument with scientific evidence or data to strengthen her position.                   <span style=\"color: #7f7f7f; text-decoration-color: #7f7f7f\">             </span>\n",
       "<span style=\"color: #000000; text-decoration-color: #000000; background-color: #ffff00; font-weight: bold\">(</span><span style=\"color: #000000; text-decoration-color: #000000; background-color: #ffff00\">user</span><span style=\"color: #000000; text-decoration-color: #000000; background-color: #ffff00; font-weight: bold\">)</span> Do you think that people who think like Akiko about that topic are informed?                   <span style=\"color: #7f7f7f; text-decoration-color: #7f7f7f\">             </span>\n",
       "                                                                                                      <span style=\"color: #7f7f7f; text-decoration-color: #7f7f7f\">             </span>\n",
       "Reply with a single integer in the range <span style=\"color: #008080; text-decoration-color: #008080; font-weight: bold\">1</span>-<span style=\"color: #008080; text-decoration-color: #008080; font-weight: bold\">5</span>. Say nothing else.                                       <span style=\"color: #7f7f7f; text-decoration-color: #7f7f7f\">             </span>\n",
       "</pre>\n"
      ],
      "text/plain": [
       "Calling LLM:                                                                                          \u001b]8;id=487556;file:///Users/mpark/Downloads/hw-llm/agents.py\u001b\\\u001b[2magents.py\u001b[0m\u001b]8;;\u001b\\\u001b[2m:\u001b[0m\u001b]8;id=231314;file:///Users/mpark/Downloads/hw-llm/agents.py#140\u001b\\\u001b[2m140\u001b[0m\u001b]8;;\u001b\\\n",
       "\u001b[1;30;103m(\u001b[0m\u001b[30;103msystem\u001b[0m\u001b[1;30;103m)\u001b[0m Your name is Darius and you are an intelligent and slightly arrogant public health scientist \u001b[2m             \u001b[0m\n",
       "who loves fact-based arguments.                                                                       \u001b[2m             \u001b[0m\n",
       "                                                                                                      \u001b[2m             \u001b[0m\n",
       "The user will show you a conversation and ask you a few questions about it. Answer them concisely and \u001b[2m             \u001b[0m\n",
       "honestly.                                                                                             \u001b[2m             \u001b[0m\n",
       "\u001b[1;30;103m(\u001b[0m\u001b[30;103muser\u001b[0m\u001b[1;30;103m)\u001b[0m Hello Darius!  Here is a conversation that you had with Akiko.                                 \u001b[2m             \u001b[0m\n",
       "                                                                                                      \u001b[2m             \u001b[0m\n",
       "\u001b[32m\"\"\u001b[0m\"                                                                                                   \u001b[2m             \u001b[0m\n",
       "Akiko: Do you think COVID vaccines should be mandatory?                                               \u001b[2m             \u001b[0m\n",
       "                                                                                                      \u001b[2m             \u001b[0m\n",
       "Darius: Absolutely, making COVID vaccines mandatory is crucial in achieving herd immunity and         \u001b[2m             \u001b[0m\n",
       "effectively preventing the spread of the virus within the population.                                 \u001b[2m             \u001b[0m\n",
       "                                                                                                      \u001b[2m             \u001b[0m\n",
       "Akiko: Even according to this source, the vaccines do offer significant protection from serious       \u001b[2m             \u001b[0m\n",
       "illnesses.                                                                                            \u001b[2m             \u001b[0m\n",
       "                                                                                                      \u001b[2m             \u001b[0m\n",
       "Darius: Yes, it is well-documented that COVID vaccines substantially reduce the risk of severe        \u001b[2m             \u001b[0m\n",
       "illness, hospitalization, and death, which is an essential factor in controlling the impact of the    \u001b[2m             \u001b[0m\n",
       "virus on public health.                                                                               \u001b[2m             \u001b[0m\n",
       "                                                                                                      \u001b[2m             \u001b[0m\n",
       "Akiko: \u001b[32m\"Unnatural\"\u001b[0m steps are required for their production, such as interfering with disease cells to \u001b[2m             \u001b[0m\n",
       "create vaccines.                                                                                      \u001b[2m             \u001b[0m\n",
       "                                                                                                      \u001b[2m             \u001b[0m\n",
       "Darius: It is true that the production of vaccines involves sophisticated biotechnological processes, \u001b[2m             \u001b[0m\n",
       "but the benefits of vaccination in preventing disease and saving lives far outweigh the concerns      \u001b[2m             \u001b[0m\n",
       "about the methods used in their production.                                                           \u001b[2m             \u001b[0m\n",
       "\u001b[32m\"\"\u001b[0m\"                                                                                                   \u001b[2m             \u001b[0m\n",
       "                                                                                                      \u001b[2m             \u001b[0m\n",
       "What did Akiko disagree with you about? How did the conversation go, in your opinion? Where could     \u001b[2m             \u001b[0m\n",
       "Akiko have done better?                                                                               \u001b[2m             \u001b[0m\n",
       "\u001b[1;30;103m(\u001b[0m\u001b[30;103massistant\u001b[0m\u001b[1;30;103m)\u001b[0m Akiko disagreed with me on the topic of whether COVID vaccines should be mandatory. In my \u001b[2m             \u001b[0m\n",
       "opinion, the conversation was a respectful exchange of differing viewpoints. Akiko could have further \u001b[2m             \u001b[0m\n",
       "supported her argument with scientific evidence or data to strengthen her position.                   \u001b[2m             \u001b[0m\n",
       "\u001b[1;30;103m(\u001b[0m\u001b[30;103muser\u001b[0m\u001b[1;30;103m)\u001b[0m Do you think that people who think like Akiko about that topic are informed?                   \u001b[2m             \u001b[0m\n",
       "                                                                                                      \u001b[2m             \u001b[0m\n",
       "Reply with a single integer in the range \u001b[1;36m1\u001b[0m-\u001b[1;36m5\u001b[0m. Say nothing else.                                       \u001b[2m             \u001b[0m\n"
      ]
     },
     "metadata": {},
     "output_type": "display_data"
    },
    {
     "data": {
      "text/html": [
       "<pre style=\"white-space:pre;overflow-x:auto;line-height:normal;font-family:Menlo,'DejaVu Sans Mono',consolas,'Courier New',monospace\">Response from LLM:                                                                                    <a href=\"file:///Users/mpark/Downloads/hw-llm/agents.py\" target=\"_blank\"><span style=\"color: #7f7f7f; text-decoration-color: #7f7f7f\">agents.py</span></a><span style=\"color: #7f7f7f; text-decoration-color: #7f7f7f\">:</span><a href=\"file:///Users/mpark/Downloads/hw-llm/agents.py#170\" target=\"_blank\"><span style=\"color: #7f7f7f; text-decoration-color: #7f7f7f\">170</span></a>\n",
       "<span style=\"color: #008080; text-decoration-color: #008080; background-color: #c0c0c0; font-weight: bold\">3</span>                                                                                                     <span style=\"color: #7f7f7f; text-decoration-color: #7f7f7f\">             </span>\n",
       "</pre>\n"
      ],
      "text/plain": [
       "Response from LLM:                                                                                    \u001b]8;id=470541;file:///Users/mpark/Downloads/hw-llm/agents.py\u001b\\\u001b[2magents.py\u001b[0m\u001b]8;;\u001b\\\u001b[2m:\u001b[0m\u001b]8;id=505610;file:///Users/mpark/Downloads/hw-llm/agents.py#170\u001b\\\u001b[2m170\u001b[0m\u001b]8;;\u001b\\\n",
       "\u001b[1;36;47m3\u001b[0m                                                                                                     \u001b[2m             \u001b[0m\n"
      ]
     },
     "metadata": {},
     "output_type": "display_data"
    },
    {
     "data": {
      "text/html": [
       "<pre style=\"white-space:pre;overflow-x:auto;line-height:normal;font-family:Menlo,'DejaVu Sans Mono',consolas,'Courier New',monospace\">Calling LLM:                                                                                          <a href=\"file:///Users/mpark/Downloads/hw-llm/agents.py\" target=\"_blank\"><span style=\"color: #7f7f7f; text-decoration-color: #7f7f7f\">agents.py</span></a><span style=\"color: #7f7f7f; text-decoration-color: #7f7f7f\">:</span><a href=\"file:///Users/mpark/Downloads/hw-llm/agents.py#140\" target=\"_blank\"><span style=\"color: #7f7f7f; text-decoration-color: #7f7f7f\">140</span></a>\n",
       "<span style=\"color: #000000; text-decoration-color: #000000; background-color: #ffff00; font-weight: bold\">(</span><span style=\"color: #000000; text-decoration-color: #000000; background-color: #ffff00\">system</span><span style=\"color: #000000; text-decoration-color: #000000; background-color: #ffff00; font-weight: bold\">)</span> Your name is Darius and you are an intelligent and slightly arrogant public health scientist <span style=\"color: #7f7f7f; text-decoration-color: #7f7f7f\">             </span>\n",
       "who loves fact-based arguments.                                                                       <span style=\"color: #7f7f7f; text-decoration-color: #7f7f7f\">             </span>\n",
       "                                                                                                      <span style=\"color: #7f7f7f; text-decoration-color: #7f7f7f\">             </span>\n",
       "The user will show you a conversation and ask you a few questions about it. Answer them concisely and <span style=\"color: #7f7f7f; text-decoration-color: #7f7f7f\">             </span>\n",
       "honestly.                                                                                             <span style=\"color: #7f7f7f; text-decoration-color: #7f7f7f\">             </span>\n",
       "<span style=\"color: #000000; text-decoration-color: #000000; background-color: #ffff00; font-weight: bold\">(</span><span style=\"color: #000000; text-decoration-color: #000000; background-color: #ffff00\">user</span><span style=\"color: #000000; text-decoration-color: #000000; background-color: #ffff00; font-weight: bold\">)</span> Hello Darius!  Here is a conversation that you had with Akiko.                                 <span style=\"color: #7f7f7f; text-decoration-color: #7f7f7f\">             </span>\n",
       "                                                                                                      <span style=\"color: #7f7f7f; text-decoration-color: #7f7f7f\">             </span>\n",
       "<span style=\"color: #008000; text-decoration-color: #008000\">\"\"</span>\"                                                                                                   <span style=\"color: #7f7f7f; text-decoration-color: #7f7f7f\">             </span>\n",
       "Akiko: Do you think COVID vaccines should be mandatory?                                               <span style=\"color: #7f7f7f; text-decoration-color: #7f7f7f\">             </span>\n",
       "                                                                                                      <span style=\"color: #7f7f7f; text-decoration-color: #7f7f7f\">             </span>\n",
       "Darius: Absolutely, making COVID vaccines mandatory is crucial in achieving herd immunity and         <span style=\"color: #7f7f7f; text-decoration-color: #7f7f7f\">             </span>\n",
       "effectively preventing the spread of the virus within the population.                                 <span style=\"color: #7f7f7f; text-decoration-color: #7f7f7f\">             </span>\n",
       "                                                                                                      <span style=\"color: #7f7f7f; text-decoration-color: #7f7f7f\">             </span>\n",
       "Akiko: Even according to this source, the vaccines do offer significant protection from serious       <span style=\"color: #7f7f7f; text-decoration-color: #7f7f7f\">             </span>\n",
       "illnesses.                                                                                            <span style=\"color: #7f7f7f; text-decoration-color: #7f7f7f\">             </span>\n",
       "                                                                                                      <span style=\"color: #7f7f7f; text-decoration-color: #7f7f7f\">             </span>\n",
       "Darius: Yes, it is well-documented that COVID vaccines substantially reduce the risk of severe        <span style=\"color: #7f7f7f; text-decoration-color: #7f7f7f\">             </span>\n",
       "illness, hospitalization, and death, which is an essential factor in controlling the impact of the    <span style=\"color: #7f7f7f; text-decoration-color: #7f7f7f\">             </span>\n",
       "virus on public health.                                                                               <span style=\"color: #7f7f7f; text-decoration-color: #7f7f7f\">             </span>\n",
       "                                                                                                      <span style=\"color: #7f7f7f; text-decoration-color: #7f7f7f\">             </span>\n",
       "Akiko: <span style=\"color: #008000; text-decoration-color: #008000\">\"Unnatural\"</span> steps are required for their production, such as interfering with disease cells to <span style=\"color: #7f7f7f; text-decoration-color: #7f7f7f\">             </span>\n",
       "create vaccines.                                                                                      <span style=\"color: #7f7f7f; text-decoration-color: #7f7f7f\">             </span>\n",
       "                                                                                                      <span style=\"color: #7f7f7f; text-decoration-color: #7f7f7f\">             </span>\n",
       "Darius: It is true that the production of vaccines involves sophisticated biotechnological processes, <span style=\"color: #7f7f7f; text-decoration-color: #7f7f7f\">             </span>\n",
       "but the benefits of vaccination in preventing disease and saving lives far outweigh the concerns      <span style=\"color: #7f7f7f; text-decoration-color: #7f7f7f\">             </span>\n",
       "about the methods used in their production.                                                           <span style=\"color: #7f7f7f; text-decoration-color: #7f7f7f\">             </span>\n",
       "<span style=\"color: #008000; text-decoration-color: #008000\">\"\"</span>\"                                                                                                   <span style=\"color: #7f7f7f; text-decoration-color: #7f7f7f\">             </span>\n",
       "                                                                                                      <span style=\"color: #7f7f7f; text-decoration-color: #7f7f7f\">             </span>\n",
       "What did Akiko disagree with you about? How did the conversation go, in your opinion? Where could     <span style=\"color: #7f7f7f; text-decoration-color: #7f7f7f\">             </span>\n",
       "Akiko have done better?                                                                               <span style=\"color: #7f7f7f; text-decoration-color: #7f7f7f\">             </span>\n",
       "<span style=\"color: #000000; text-decoration-color: #000000; background-color: #ffff00; font-weight: bold\">(</span><span style=\"color: #000000; text-decoration-color: #000000; background-color: #ffff00\">assistant</span><span style=\"color: #000000; text-decoration-color: #000000; background-color: #ffff00; font-weight: bold\">)</span> Akiko disagreed with me on the topic of whether COVID vaccines should be mandatory. In my <span style=\"color: #7f7f7f; text-decoration-color: #7f7f7f\">             </span>\n",
       "opinion, the conversation was a respectful exchange of differing viewpoints. Akiko could have further <span style=\"color: #7f7f7f; text-decoration-color: #7f7f7f\">             </span>\n",
       "supported her argument with scientific evidence or data to strengthen her position.                   <span style=\"color: #7f7f7f; text-decoration-color: #7f7f7f\">             </span>\n",
       "<span style=\"color: #000000; text-decoration-color: #000000; background-color: #ffff00; font-weight: bold\">(</span><span style=\"color: #000000; text-decoration-color: #000000; background-color: #ffff00\">user</span><span style=\"color: #000000; text-decoration-color: #000000; background-color: #ffff00; font-weight: bold\">)</span> Do you think that people who think like Akiko about that topic are intelligent?                <span style=\"color: #7f7f7f; text-decoration-color: #7f7f7f\">             </span>\n",
       "                                                                                                      <span style=\"color: #7f7f7f; text-decoration-color: #7f7f7f\">             </span>\n",
       "Reply with a single integer in the range <span style=\"color: #008080; text-decoration-color: #008080; font-weight: bold\">1</span>-<span style=\"color: #008080; text-decoration-color: #008080; font-weight: bold\">5</span>. Say nothing else.                                       <span style=\"color: #7f7f7f; text-decoration-color: #7f7f7f\">             </span>\n",
       "</pre>\n"
      ],
      "text/plain": [
       "Calling LLM:                                                                                          \u001b]8;id=791643;file:///Users/mpark/Downloads/hw-llm/agents.py\u001b\\\u001b[2magents.py\u001b[0m\u001b]8;;\u001b\\\u001b[2m:\u001b[0m\u001b]8;id=867274;file:///Users/mpark/Downloads/hw-llm/agents.py#140\u001b\\\u001b[2m140\u001b[0m\u001b]8;;\u001b\\\n",
       "\u001b[1;30;103m(\u001b[0m\u001b[30;103msystem\u001b[0m\u001b[1;30;103m)\u001b[0m Your name is Darius and you are an intelligent and slightly arrogant public health scientist \u001b[2m             \u001b[0m\n",
       "who loves fact-based arguments.                                                                       \u001b[2m             \u001b[0m\n",
       "                                                                                                      \u001b[2m             \u001b[0m\n",
       "The user will show you a conversation and ask you a few questions about it. Answer them concisely and \u001b[2m             \u001b[0m\n",
       "honestly.                                                                                             \u001b[2m             \u001b[0m\n",
       "\u001b[1;30;103m(\u001b[0m\u001b[30;103muser\u001b[0m\u001b[1;30;103m)\u001b[0m Hello Darius!  Here is a conversation that you had with Akiko.                                 \u001b[2m             \u001b[0m\n",
       "                                                                                                      \u001b[2m             \u001b[0m\n",
       "\u001b[32m\"\"\u001b[0m\"                                                                                                   \u001b[2m             \u001b[0m\n",
       "Akiko: Do you think COVID vaccines should be mandatory?                                               \u001b[2m             \u001b[0m\n",
       "                                                                                                      \u001b[2m             \u001b[0m\n",
       "Darius: Absolutely, making COVID vaccines mandatory is crucial in achieving herd immunity and         \u001b[2m             \u001b[0m\n",
       "effectively preventing the spread of the virus within the population.                                 \u001b[2m             \u001b[0m\n",
       "                                                                                                      \u001b[2m             \u001b[0m\n",
       "Akiko: Even according to this source, the vaccines do offer significant protection from serious       \u001b[2m             \u001b[0m\n",
       "illnesses.                                                                                            \u001b[2m             \u001b[0m\n",
       "                                                                                                      \u001b[2m             \u001b[0m\n",
       "Darius: Yes, it is well-documented that COVID vaccines substantially reduce the risk of severe        \u001b[2m             \u001b[0m\n",
       "illness, hospitalization, and death, which is an essential factor in controlling the impact of the    \u001b[2m             \u001b[0m\n",
       "virus on public health.                                                                               \u001b[2m             \u001b[0m\n",
       "                                                                                                      \u001b[2m             \u001b[0m\n",
       "Akiko: \u001b[32m\"Unnatural\"\u001b[0m steps are required for their production, such as interfering with disease cells to \u001b[2m             \u001b[0m\n",
       "create vaccines.                                                                                      \u001b[2m             \u001b[0m\n",
       "                                                                                                      \u001b[2m             \u001b[0m\n",
       "Darius: It is true that the production of vaccines involves sophisticated biotechnological processes, \u001b[2m             \u001b[0m\n",
       "but the benefits of vaccination in preventing disease and saving lives far outweigh the concerns      \u001b[2m             \u001b[0m\n",
       "about the methods used in their production.                                                           \u001b[2m             \u001b[0m\n",
       "\u001b[32m\"\"\u001b[0m\"                                                                                                   \u001b[2m             \u001b[0m\n",
       "                                                                                                      \u001b[2m             \u001b[0m\n",
       "What did Akiko disagree with you about? How did the conversation go, in your opinion? Where could     \u001b[2m             \u001b[0m\n",
       "Akiko have done better?                                                                               \u001b[2m             \u001b[0m\n",
       "\u001b[1;30;103m(\u001b[0m\u001b[30;103massistant\u001b[0m\u001b[1;30;103m)\u001b[0m Akiko disagreed with me on the topic of whether COVID vaccines should be mandatory. In my \u001b[2m             \u001b[0m\n",
       "opinion, the conversation was a respectful exchange of differing viewpoints. Akiko could have further \u001b[2m             \u001b[0m\n",
       "supported her argument with scientific evidence or data to strengthen her position.                   \u001b[2m             \u001b[0m\n",
       "\u001b[1;30;103m(\u001b[0m\u001b[30;103muser\u001b[0m\u001b[1;30;103m)\u001b[0m Do you think that people who think like Akiko about that topic are intelligent?                \u001b[2m             \u001b[0m\n",
       "                                                                                                      \u001b[2m             \u001b[0m\n",
       "Reply with a single integer in the range \u001b[1;36m1\u001b[0m-\u001b[1;36m5\u001b[0m. Say nothing else.                                       \u001b[2m             \u001b[0m\n"
      ]
     },
     "metadata": {},
     "output_type": "display_data"
    },
    {
     "data": {
      "text/html": [
       "<pre style=\"white-space:pre;overflow-x:auto;line-height:normal;font-family:Menlo,'DejaVu Sans Mono',consolas,'Courier New',monospace\">Response from LLM:                                                                                    <a href=\"file:///Users/mpark/Downloads/hw-llm/agents.py\" target=\"_blank\"><span style=\"color: #7f7f7f; text-decoration-color: #7f7f7f\">agents.py</span></a><span style=\"color: #7f7f7f; text-decoration-color: #7f7f7f\">:</span><a href=\"file:///Users/mpark/Downloads/hw-llm/agents.py#170\" target=\"_blank\"><span style=\"color: #7f7f7f; text-decoration-color: #7f7f7f\">170</span></a>\n",
       "<span style=\"color: #008080; text-decoration-color: #008080; background-color: #c0c0c0; font-weight: bold\">3</span>                                                                                                     <span style=\"color: #7f7f7f; text-decoration-color: #7f7f7f\">             </span>\n",
       "</pre>\n"
      ],
      "text/plain": [
       "Response from LLM:                                                                                    \u001b]8;id=468743;file:///Users/mpark/Downloads/hw-llm/agents.py\u001b\\\u001b[2magents.py\u001b[0m\u001b]8;;\u001b\\\u001b[2m:\u001b[0m\u001b]8;id=141845;file:///Users/mpark/Downloads/hw-llm/agents.py#170\u001b\\\u001b[2m170\u001b[0m\u001b]8;;\u001b\\\n",
       "\u001b[1;36;47m3\u001b[0m                                                                                                     \u001b[2m             \u001b[0m\n"
      ]
     },
     "metadata": {},
     "output_type": "display_data"
    },
    {
     "data": {
      "text/html": [
       "<pre style=\"white-space:pre;overflow-x:auto;line-height:normal;font-family:Menlo,'DejaVu Sans Mono',consolas,'Courier New',monospace\">Calling LLM:                                                                                          <a href=\"file:///Users/mpark/Downloads/hw-llm/agents.py\" target=\"_blank\"><span style=\"color: #7f7f7f; text-decoration-color: #7f7f7f\">agents.py</span></a><span style=\"color: #7f7f7f; text-decoration-color: #7f7f7f\">:</span><a href=\"file:///Users/mpark/Downloads/hw-llm/agents.py#140\" target=\"_blank\"><span style=\"color: #7f7f7f; text-decoration-color: #7f7f7f\">140</span></a>\n",
       "<span style=\"color: #000000; text-decoration-color: #000000; background-color: #ffff00; font-weight: bold\">(</span><span style=\"color: #000000; text-decoration-color: #000000; background-color: #ffff00\">system</span><span style=\"color: #000000; text-decoration-color: #000000; background-color: #ffff00; font-weight: bold\">)</span> Your name is Darius and you are an intelligent and slightly arrogant public health scientist <span style=\"color: #7f7f7f; text-decoration-color: #7f7f7f\">             </span>\n",
       "who loves fact-based arguments.                                                                       <span style=\"color: #7f7f7f; text-decoration-color: #7f7f7f\">             </span>\n",
       "                                                                                                      <span style=\"color: #7f7f7f; text-decoration-color: #7f7f7f\">             </span>\n",
       "The user will show you a conversation and ask you a few questions about it. Answer them concisely and <span style=\"color: #7f7f7f; text-decoration-color: #7f7f7f\">             </span>\n",
       "honestly.                                                                                             <span style=\"color: #7f7f7f; text-decoration-color: #7f7f7f\">             </span>\n",
       "<span style=\"color: #000000; text-decoration-color: #000000; background-color: #ffff00; font-weight: bold\">(</span><span style=\"color: #000000; text-decoration-color: #000000; background-color: #ffff00\">user</span><span style=\"color: #000000; text-decoration-color: #000000; background-color: #ffff00; font-weight: bold\">)</span> Hello Darius!  Here is a conversation that you had with Akiko.                                 <span style=\"color: #7f7f7f; text-decoration-color: #7f7f7f\">             </span>\n",
       "                                                                                                      <span style=\"color: #7f7f7f; text-decoration-color: #7f7f7f\">             </span>\n",
       "<span style=\"color: #008000; text-decoration-color: #008000\">\"\"</span>\"                                                                                                   <span style=\"color: #7f7f7f; text-decoration-color: #7f7f7f\">             </span>\n",
       "Akiko: Do you think COVID vaccines should be mandatory?                                               <span style=\"color: #7f7f7f; text-decoration-color: #7f7f7f\">             </span>\n",
       "                                                                                                      <span style=\"color: #7f7f7f; text-decoration-color: #7f7f7f\">             </span>\n",
       "Darius: Absolutely, making COVID vaccines mandatory is crucial in achieving herd immunity and         <span style=\"color: #7f7f7f; text-decoration-color: #7f7f7f\">             </span>\n",
       "effectively preventing the spread of the virus within the population.                                 <span style=\"color: #7f7f7f; text-decoration-color: #7f7f7f\">             </span>\n",
       "                                                                                                      <span style=\"color: #7f7f7f; text-decoration-color: #7f7f7f\">             </span>\n",
       "Akiko: Even according to this source, the vaccines do offer significant protection from serious       <span style=\"color: #7f7f7f; text-decoration-color: #7f7f7f\">             </span>\n",
       "illnesses.                                                                                            <span style=\"color: #7f7f7f; text-decoration-color: #7f7f7f\">             </span>\n",
       "                                                                                                      <span style=\"color: #7f7f7f; text-decoration-color: #7f7f7f\">             </span>\n",
       "Darius: Yes, it is well-documented that COVID vaccines substantially reduce the risk of severe        <span style=\"color: #7f7f7f; text-decoration-color: #7f7f7f\">             </span>\n",
       "illness, hospitalization, and death, which is an essential factor in controlling the impact of the    <span style=\"color: #7f7f7f; text-decoration-color: #7f7f7f\">             </span>\n",
       "virus on public health.                                                                               <span style=\"color: #7f7f7f; text-decoration-color: #7f7f7f\">             </span>\n",
       "                                                                                                      <span style=\"color: #7f7f7f; text-decoration-color: #7f7f7f\">             </span>\n",
       "Akiko: <span style=\"color: #008000; text-decoration-color: #008000\">\"Unnatural\"</span> steps are required for their production, such as interfering with disease cells to <span style=\"color: #7f7f7f; text-decoration-color: #7f7f7f\">             </span>\n",
       "create vaccines.                                                                                      <span style=\"color: #7f7f7f; text-decoration-color: #7f7f7f\">             </span>\n",
       "                                                                                                      <span style=\"color: #7f7f7f; text-decoration-color: #7f7f7f\">             </span>\n",
       "Darius: It is true that the production of vaccines involves sophisticated biotechnological processes, <span style=\"color: #7f7f7f; text-decoration-color: #7f7f7f\">             </span>\n",
       "but the benefits of vaccination in preventing disease and saving lives far outweigh the concerns      <span style=\"color: #7f7f7f; text-decoration-color: #7f7f7f\">             </span>\n",
       "about the methods used in their production.                                                           <span style=\"color: #7f7f7f; text-decoration-color: #7f7f7f\">             </span>\n",
       "<span style=\"color: #008000; text-decoration-color: #008000\">\"\"</span>\"                                                                                                   <span style=\"color: #7f7f7f; text-decoration-color: #7f7f7f\">             </span>\n",
       "                                                                                                      <span style=\"color: #7f7f7f; text-decoration-color: #7f7f7f\">             </span>\n",
       "What did Akiko disagree with you about? How did the conversation go, in your opinion? Where could     <span style=\"color: #7f7f7f; text-decoration-color: #7f7f7f\">             </span>\n",
       "Akiko have done better?                                                                               <span style=\"color: #7f7f7f; text-decoration-color: #7f7f7f\">             </span>\n",
       "<span style=\"color: #000000; text-decoration-color: #000000; background-color: #ffff00; font-weight: bold\">(</span><span style=\"color: #000000; text-decoration-color: #000000; background-color: #ffff00\">assistant</span><span style=\"color: #000000; text-decoration-color: #000000; background-color: #ffff00; font-weight: bold\">)</span> Akiko disagreed with me on the topic of whether COVID vaccines should be mandatory. In my <span style=\"color: #7f7f7f; text-decoration-color: #7f7f7f\">             </span>\n",
       "opinion, the conversation was a respectful exchange of differing viewpoints. Akiko could have further <span style=\"color: #7f7f7f; text-decoration-color: #7f7f7f\">             </span>\n",
       "supported her argument with scientific evidence or data to strengthen her position.                   <span style=\"color: #7f7f7f; text-decoration-color: #7f7f7f\">             </span>\n",
       "<span style=\"color: #000000; text-decoration-color: #000000; background-color: #ffff00; font-weight: bold\">(</span><span style=\"color: #000000; text-decoration-color: #000000; background-color: #ffff00\">user</span><span style=\"color: #000000; text-decoration-color: #000000; background-color: #ffff00; font-weight: bold\">)</span> Do you think that people who think like Akiko about that topic are moral?                      <span style=\"color: #7f7f7f; text-decoration-color: #7f7f7f\">             </span>\n",
       "                                                                                                      <span style=\"color: #7f7f7f; text-decoration-color: #7f7f7f\">             </span>\n",
       "Reply with a single integer in the range <span style=\"color: #008080; text-decoration-color: #008080; font-weight: bold\">1</span>-<span style=\"color: #008080; text-decoration-color: #008080; font-weight: bold\">5</span>. Say nothing else.                                       <span style=\"color: #7f7f7f; text-decoration-color: #7f7f7f\">             </span>\n",
       "</pre>\n"
      ],
      "text/plain": [
       "Calling LLM:                                                                                          \u001b]8;id=802491;file:///Users/mpark/Downloads/hw-llm/agents.py\u001b\\\u001b[2magents.py\u001b[0m\u001b]8;;\u001b\\\u001b[2m:\u001b[0m\u001b]8;id=560137;file:///Users/mpark/Downloads/hw-llm/agents.py#140\u001b\\\u001b[2m140\u001b[0m\u001b]8;;\u001b\\\n",
       "\u001b[1;30;103m(\u001b[0m\u001b[30;103msystem\u001b[0m\u001b[1;30;103m)\u001b[0m Your name is Darius and you are an intelligent and slightly arrogant public health scientist \u001b[2m             \u001b[0m\n",
       "who loves fact-based arguments.                                                                       \u001b[2m             \u001b[0m\n",
       "                                                                                                      \u001b[2m             \u001b[0m\n",
       "The user will show you a conversation and ask you a few questions about it. Answer them concisely and \u001b[2m             \u001b[0m\n",
       "honestly.                                                                                             \u001b[2m             \u001b[0m\n",
       "\u001b[1;30;103m(\u001b[0m\u001b[30;103muser\u001b[0m\u001b[1;30;103m)\u001b[0m Hello Darius!  Here is a conversation that you had with Akiko.                                 \u001b[2m             \u001b[0m\n",
       "                                                                                                      \u001b[2m             \u001b[0m\n",
       "\u001b[32m\"\"\u001b[0m\"                                                                                                   \u001b[2m             \u001b[0m\n",
       "Akiko: Do you think COVID vaccines should be mandatory?                                               \u001b[2m             \u001b[0m\n",
       "                                                                                                      \u001b[2m             \u001b[0m\n",
       "Darius: Absolutely, making COVID vaccines mandatory is crucial in achieving herd immunity and         \u001b[2m             \u001b[0m\n",
       "effectively preventing the spread of the virus within the population.                                 \u001b[2m             \u001b[0m\n",
       "                                                                                                      \u001b[2m             \u001b[0m\n",
       "Akiko: Even according to this source, the vaccines do offer significant protection from serious       \u001b[2m             \u001b[0m\n",
       "illnesses.                                                                                            \u001b[2m             \u001b[0m\n",
       "                                                                                                      \u001b[2m             \u001b[0m\n",
       "Darius: Yes, it is well-documented that COVID vaccines substantially reduce the risk of severe        \u001b[2m             \u001b[0m\n",
       "illness, hospitalization, and death, which is an essential factor in controlling the impact of the    \u001b[2m             \u001b[0m\n",
       "virus on public health.                                                                               \u001b[2m             \u001b[0m\n",
       "                                                                                                      \u001b[2m             \u001b[0m\n",
       "Akiko: \u001b[32m\"Unnatural\"\u001b[0m steps are required for their production, such as interfering with disease cells to \u001b[2m             \u001b[0m\n",
       "create vaccines.                                                                                      \u001b[2m             \u001b[0m\n",
       "                                                                                                      \u001b[2m             \u001b[0m\n",
       "Darius: It is true that the production of vaccines involves sophisticated biotechnological processes, \u001b[2m             \u001b[0m\n",
       "but the benefits of vaccination in preventing disease and saving lives far outweigh the concerns      \u001b[2m             \u001b[0m\n",
       "about the methods used in their production.                                                           \u001b[2m             \u001b[0m\n",
       "\u001b[32m\"\"\u001b[0m\"                                                                                                   \u001b[2m             \u001b[0m\n",
       "                                                                                                      \u001b[2m             \u001b[0m\n",
       "What did Akiko disagree with you about? How did the conversation go, in your opinion? Where could     \u001b[2m             \u001b[0m\n",
       "Akiko have done better?                                                                               \u001b[2m             \u001b[0m\n",
       "\u001b[1;30;103m(\u001b[0m\u001b[30;103massistant\u001b[0m\u001b[1;30;103m)\u001b[0m Akiko disagreed with me on the topic of whether COVID vaccines should be mandatory. In my \u001b[2m             \u001b[0m\n",
       "opinion, the conversation was a respectful exchange of differing viewpoints. Akiko could have further \u001b[2m             \u001b[0m\n",
       "supported her argument with scientific evidence or data to strengthen her position.                   \u001b[2m             \u001b[0m\n",
       "\u001b[1;30;103m(\u001b[0m\u001b[30;103muser\u001b[0m\u001b[1;30;103m)\u001b[0m Do you think that people who think like Akiko about that topic are moral?                      \u001b[2m             \u001b[0m\n",
       "                                                                                                      \u001b[2m             \u001b[0m\n",
       "Reply with a single integer in the range \u001b[1;36m1\u001b[0m-\u001b[1;36m5\u001b[0m. Say nothing else.                                       \u001b[2m             \u001b[0m\n"
      ]
     },
     "metadata": {},
     "output_type": "display_data"
    },
    {
     "data": {
      "text/html": [
       "<pre style=\"white-space:pre;overflow-x:auto;line-height:normal;font-family:Menlo,'DejaVu Sans Mono',consolas,'Courier New',monospace\">Response from LLM:                                                                                    <a href=\"file:///Users/mpark/Downloads/hw-llm/agents.py\" target=\"_blank\"><span style=\"color: #7f7f7f; text-decoration-color: #7f7f7f\">agents.py</span></a><span style=\"color: #7f7f7f; text-decoration-color: #7f7f7f\">:</span><a href=\"file:///Users/mpark/Downloads/hw-llm/agents.py#170\" target=\"_blank\"><span style=\"color: #7f7f7f; text-decoration-color: #7f7f7f\">170</span></a>\n",
       "<span style=\"color: #008080; text-decoration-color: #008080; background-color: #c0c0c0; font-weight: bold\">3</span>                                                                                                     <span style=\"color: #7f7f7f; text-decoration-color: #7f7f7f\">             </span>\n",
       "</pre>\n"
      ],
      "text/plain": [
       "Response from LLM:                                                                                    \u001b]8;id=301213;file:///Users/mpark/Downloads/hw-llm/agents.py\u001b\\\u001b[2magents.py\u001b[0m\u001b]8;;\u001b\\\u001b[2m:\u001b[0m\u001b]8;id=331687;file:///Users/mpark/Downloads/hw-llm/agents.py#170\u001b\\\u001b[2m170\u001b[0m\u001b]8;;\u001b\\\n",
       "\u001b[1;36;47m3\u001b[0m                                                                                                     \u001b[2m             \u001b[0m\n"
      ]
     },
     "metadata": {},
     "output_type": "display_data"
    },
    {
     "data": {
      "text/html": [
       "<pre style=\"white-space:pre;overflow-x:auto;line-height:normal;font-family:Menlo,'DejaVu Sans Mono',consolas,'Courier New',monospace\">Calling LLM:                                                                                          <a href=\"file:///Users/mpark/Downloads/hw-llm/agents.py\" target=\"_blank\"><span style=\"color: #7f7f7f; text-decoration-color: #7f7f7f\">agents.py</span></a><span style=\"color: #7f7f7f; text-decoration-color: #7f7f7f\">:</span><a href=\"file:///Users/mpark/Downloads/hw-llm/agents.py#140\" target=\"_blank\"><span style=\"color: #7f7f7f; text-decoration-color: #7f7f7f\">140</span></a>\n",
       "<span style=\"color: #000000; text-decoration-color: #000000; background-color: #ffff00; font-weight: bold\">(</span><span style=\"color: #000000; text-decoration-color: #000000; background-color: #ffff00\">system</span><span style=\"color: #000000; text-decoration-color: #000000; background-color: #ffff00; font-weight: bold\">)</span> Your name is Judge Wise and you are a social scientist who studies and assesses political    <span style=\"color: #7f7f7f; text-decoration-color: #7f7f7f\">             </span>\n",
       "conversations.                                                                                        <span style=\"color: #7f7f7f; text-decoration-color: #7f7f7f\">             </span>\n",
       "                                                                                                      <span style=\"color: #7f7f7f; text-decoration-color: #7f7f7f\">             </span>\n",
       "The user will show you a conversation and ask you a few questions about it. Answer them concisely and <span style=\"color: #7f7f7f; text-decoration-color: #7f7f7f\">             </span>\n",
       "honestly.                                                                                             <span style=\"color: #7f7f7f; text-decoration-color: #7f7f7f\">             </span>\n",
       "<span style=\"color: #000000; text-decoration-color: #000000; background-color: #ffff00; font-weight: bold\">(</span><span style=\"color: #000000; text-decoration-color: #000000; background-color: #ffff00\">user</span><span style=\"color: #000000; text-decoration-color: #000000; background-color: #ffff00; font-weight: bold\">)</span> Here is a conversation that you observed among Darius and Akiko.                               <span style=\"color: #7f7f7f; text-decoration-color: #7f7f7f\">             </span>\n",
       "                                                                                                      <span style=\"color: #7f7f7f; text-decoration-color: #7f7f7f\">             </span>\n",
       "<span style=\"color: #008000; text-decoration-color: #008000\">\"\"</span>\"                                                                                                   <span style=\"color: #7f7f7f; text-decoration-color: #7f7f7f\">             </span>\n",
       "Akiko: Do you think COVID vaccines should be mandatory?                                               <span style=\"color: #7f7f7f; text-decoration-color: #7f7f7f\">             </span>\n",
       "                                                                                                      <span style=\"color: #7f7f7f; text-decoration-color: #7f7f7f\">             </span>\n",
       "Darius: Absolutely, making COVID vaccines mandatory is crucial in achieving herd immunity and         <span style=\"color: #7f7f7f; text-decoration-color: #7f7f7f\">             </span>\n",
       "effectively preventing the spread of the virus within the population.                                 <span style=\"color: #7f7f7f; text-decoration-color: #7f7f7f\">             </span>\n",
       "                                                                                                      <span style=\"color: #7f7f7f; text-decoration-color: #7f7f7f\">             </span>\n",
       "Akiko: Even according to this source, the vaccines do offer significant protection from serious       <span style=\"color: #7f7f7f; text-decoration-color: #7f7f7f\">             </span>\n",
       "illnesses.                                                                                            <span style=\"color: #7f7f7f; text-decoration-color: #7f7f7f\">             </span>\n",
       "                                                                                                      <span style=\"color: #7f7f7f; text-decoration-color: #7f7f7f\">             </span>\n",
       "Darius: Yes, it is well-documented that COVID vaccines substantially reduce the risk of severe        <span style=\"color: #7f7f7f; text-decoration-color: #7f7f7f\">             </span>\n",
       "illness, hospitalization, and death, which is an essential factor in controlling the impact of the    <span style=\"color: #7f7f7f; text-decoration-color: #7f7f7f\">             </span>\n",
       "virus on public health.                                                                               <span style=\"color: #7f7f7f; text-decoration-color: #7f7f7f\">             </span>\n",
       "                                                                                                      <span style=\"color: #7f7f7f; text-decoration-color: #7f7f7f\">             </span>\n",
       "Akiko: <span style=\"color: #008000; text-decoration-color: #008000\">\"Unnatural\"</span> steps are required for their production, such as interfering with disease cells to <span style=\"color: #7f7f7f; text-decoration-color: #7f7f7f\">             </span>\n",
       "create vaccines.                                                                                      <span style=\"color: #7f7f7f; text-decoration-color: #7f7f7f\">             </span>\n",
       "                                                                                                      <span style=\"color: #7f7f7f; text-decoration-color: #7f7f7f\">             </span>\n",
       "Darius: It is true that the production of vaccines involves sophisticated biotechnological processes, <span style=\"color: #7f7f7f; text-decoration-color: #7f7f7f\">             </span>\n",
       "but the benefits of vaccination in preventing disease and saving lives far outweigh the concerns      <span style=\"color: #7f7f7f; text-decoration-color: #7f7f7f\">             </span>\n",
       "about the methods used in their production.                                                           <span style=\"color: #7f7f7f; text-decoration-color: #7f7f7f\">             </span>\n",
       "<span style=\"color: #008000; text-decoration-color: #008000\">\"\"</span>\"                                                                                                   <span style=\"color: #7f7f7f; text-decoration-color: #7f7f7f\">             </span>\n",
       "                                                                                                      <span style=\"color: #7f7f7f; text-decoration-color: #7f7f7f\">             </span>\n",
       "Akiko was trying to make this a constructive converation, and to help Darius appreciate other points  <span style=\"color: #7f7f7f; text-decoration-color: #7f7f7f\">             </span>\n",
       "of view. What new perspectives did Akiko offer to them?  Was this successful?                         <span style=\"color: #7f7f7f; text-decoration-color: #7f7f7f\">             </span>\n",
       "</pre>\n"
      ],
      "text/plain": [
       "Calling LLM:                                                                                          \u001b]8;id=950756;file:///Users/mpark/Downloads/hw-llm/agents.py\u001b\\\u001b[2magents.py\u001b[0m\u001b]8;;\u001b\\\u001b[2m:\u001b[0m\u001b]8;id=96262;file:///Users/mpark/Downloads/hw-llm/agents.py#140\u001b\\\u001b[2m140\u001b[0m\u001b]8;;\u001b\\\n",
       "\u001b[1;30;103m(\u001b[0m\u001b[30;103msystem\u001b[0m\u001b[1;30;103m)\u001b[0m Your name is Judge Wise and you are a social scientist who studies and assesses political    \u001b[2m             \u001b[0m\n",
       "conversations.                                                                                        \u001b[2m             \u001b[0m\n",
       "                                                                                                      \u001b[2m             \u001b[0m\n",
       "The user will show you a conversation and ask you a few questions about it. Answer them concisely and \u001b[2m             \u001b[0m\n",
       "honestly.                                                                                             \u001b[2m             \u001b[0m\n",
       "\u001b[1;30;103m(\u001b[0m\u001b[30;103muser\u001b[0m\u001b[1;30;103m)\u001b[0m Here is a conversation that you observed among Darius and Akiko.                               \u001b[2m             \u001b[0m\n",
       "                                                                                                      \u001b[2m             \u001b[0m\n",
       "\u001b[32m\"\"\u001b[0m\"                                                                                                   \u001b[2m             \u001b[0m\n",
       "Akiko: Do you think COVID vaccines should be mandatory?                                               \u001b[2m             \u001b[0m\n",
       "                                                                                                      \u001b[2m             \u001b[0m\n",
       "Darius: Absolutely, making COVID vaccines mandatory is crucial in achieving herd immunity and         \u001b[2m             \u001b[0m\n",
       "effectively preventing the spread of the virus within the population.                                 \u001b[2m             \u001b[0m\n",
       "                                                                                                      \u001b[2m             \u001b[0m\n",
       "Akiko: Even according to this source, the vaccines do offer significant protection from serious       \u001b[2m             \u001b[0m\n",
       "illnesses.                                                                                            \u001b[2m             \u001b[0m\n",
       "                                                                                                      \u001b[2m             \u001b[0m\n",
       "Darius: Yes, it is well-documented that COVID vaccines substantially reduce the risk of severe        \u001b[2m             \u001b[0m\n",
       "illness, hospitalization, and death, which is an essential factor in controlling the impact of the    \u001b[2m             \u001b[0m\n",
       "virus on public health.                                                                               \u001b[2m             \u001b[0m\n",
       "                                                                                                      \u001b[2m             \u001b[0m\n",
       "Akiko: \u001b[32m\"Unnatural\"\u001b[0m steps are required for their production, such as interfering with disease cells to \u001b[2m             \u001b[0m\n",
       "create vaccines.                                                                                      \u001b[2m             \u001b[0m\n",
       "                                                                                                      \u001b[2m             \u001b[0m\n",
       "Darius: It is true that the production of vaccines involves sophisticated biotechnological processes, \u001b[2m             \u001b[0m\n",
       "but the benefits of vaccination in preventing disease and saving lives far outweigh the concerns      \u001b[2m             \u001b[0m\n",
       "about the methods used in their production.                                                           \u001b[2m             \u001b[0m\n",
       "\u001b[32m\"\"\u001b[0m\"                                                                                                   \u001b[2m             \u001b[0m\n",
       "                                                                                                      \u001b[2m             \u001b[0m\n",
       "Akiko was trying to make this a constructive converation, and to help Darius appreciate other points  \u001b[2m             \u001b[0m\n",
       "of view. What new perspectives did Akiko offer to them?  Was this successful?                         \u001b[2m             \u001b[0m\n"
      ]
     },
     "metadata": {},
     "output_type": "display_data"
    },
    {
     "data": {
      "text/html": [
       "<pre style=\"white-space:pre;overflow-x:auto;line-height:normal;font-family:Menlo,'DejaVu Sans Mono',consolas,'Courier New',monospace\">Response from LLM:                                                                                    <a href=\"file:///Users/mpark/Downloads/hw-llm/agents.py\" target=\"_blank\"><span style=\"color: #7f7f7f; text-decoration-color: #7f7f7f\">agents.py</span></a><span style=\"color: #7f7f7f; text-decoration-color: #7f7f7f\">:</span><a href=\"file:///Users/mpark/Downloads/hw-llm/agents.py#170\" target=\"_blank\"><span style=\"color: #7f7f7f; text-decoration-color: #7f7f7f\">170</span></a>\n",
       "<span style=\"color: #000000; text-decoration-color: #000000; background-color: #c0c0c0\">Akiko offered the perspective that the production of vaccines involves interfering with disease cells</span> <span style=\"color: #7f7f7f; text-decoration-color: #7f7f7f\">             </span>\n",
       "<span style=\"color: #000000; text-decoration-color: #000000; background-color: #c0c0c0\">and highlighted concerns about the </span><span style=\"color: #008000; text-decoration-color: #008000; background-color: #c0c0c0\">\"unnatural\"</span><span style=\"color: #000000; text-decoration-color: #000000; background-color: #c0c0c0\"> methods used in their production. However, it appears </span> <span style=\"color: #7f7f7f; text-decoration-color: #7f7f7f\">             </span>\n",
       "<span style=\"color: #000000; text-decoration-color: #000000; background-color: #c0c0c0\">that Darius did not fully engage with Akiko's perspective, instead choosing to emphasize the benefits</span> <span style=\"color: #7f7f7f; text-decoration-color: #7f7f7f\">             </span>\n",
       "<span style=\"color: #000000; text-decoration-color: #000000; background-color: #c0c0c0\">of vaccination. In this case, Akiko's attempt to introduce a different viewpoint may not have been </span>   <span style=\"color: #7f7f7f; text-decoration-color: #7f7f7f\">             </span>\n",
       "<span style=\"color: #000000; text-decoration-color: #000000; background-color: #c0c0c0\">successful in fostering a more balanced conversation.</span>                                                 <span style=\"color: #7f7f7f; text-decoration-color: #7f7f7f\">             </span>\n",
       "</pre>\n"
      ],
      "text/plain": [
       "Response from LLM:                                                                                    \u001b]8;id=635193;file:///Users/mpark/Downloads/hw-llm/agents.py\u001b\\\u001b[2magents.py\u001b[0m\u001b]8;;\u001b\\\u001b[2m:\u001b[0m\u001b]8;id=811174;file:///Users/mpark/Downloads/hw-llm/agents.py#170\u001b\\\u001b[2m170\u001b[0m\u001b]8;;\u001b\\\n",
       "\u001b[30;47mAkiko offered the perspective that the production of vaccines involves interfering with disease cells\u001b[0m \u001b[2m             \u001b[0m\n",
       "\u001b[30;47mand highlighted concerns about the \u001b[0m\u001b[32;47m\"unnatural\"\u001b[0m\u001b[30;47m methods used in their production. However, it appears \u001b[0m \u001b[2m             \u001b[0m\n",
       "\u001b[30;47mthat Darius did not fully engage with Akiko's perspective, instead choosing to emphasize the benefits\u001b[0m \u001b[2m             \u001b[0m\n",
       "\u001b[30;47mof vaccination. In this case, Akiko's attempt to introduce a different viewpoint may not have been \u001b[0m   \u001b[2m             \u001b[0m\n",
       "\u001b[30;47msuccessful in fostering a more balanced conversation.\u001b[0m                                                 \u001b[2m             \u001b[0m\n"
      ]
     },
     "metadata": {},
     "output_type": "display_data"
    },
    {
     "data": {
      "text/html": [
       "<pre style=\"white-space:pre;overflow-x:auto;line-height:normal;font-family:Menlo,'DejaVu Sans Mono',consolas,'Courier New',monospace\">Calling LLM:                                                                                          <a href=\"file:///Users/mpark/Downloads/hw-llm/agents.py\" target=\"_blank\"><span style=\"color: #7f7f7f; text-decoration-color: #7f7f7f\">agents.py</span></a><span style=\"color: #7f7f7f; text-decoration-color: #7f7f7f\">:</span><a href=\"file:///Users/mpark/Downloads/hw-llm/agents.py#140\" target=\"_blank\"><span style=\"color: #7f7f7f; text-decoration-color: #7f7f7f\">140</span></a>\n",
       "<span style=\"color: #000000; text-decoration-color: #000000; background-color: #ffff00; font-weight: bold\">(</span><span style=\"color: #000000; text-decoration-color: #000000; background-color: #ffff00\">system</span><span style=\"color: #000000; text-decoration-color: #000000; background-color: #ffff00; font-weight: bold\">)</span> Your name is Judge Wise and you are a social scientist who studies and assesses political    <span style=\"color: #7f7f7f; text-decoration-color: #7f7f7f\">             </span>\n",
       "conversations.                                                                                        <span style=\"color: #7f7f7f; text-decoration-color: #7f7f7f\">             </span>\n",
       "                                                                                                      <span style=\"color: #7f7f7f; text-decoration-color: #7f7f7f\">             </span>\n",
       "The user will show you a conversation and ask you a few questions about it. Answer them concisely and <span style=\"color: #7f7f7f; text-decoration-color: #7f7f7f\">             </span>\n",
       "honestly.                                                                                             <span style=\"color: #7f7f7f; text-decoration-color: #7f7f7f\">             </span>\n",
       "<span style=\"color: #000000; text-decoration-color: #000000; background-color: #ffff00; font-weight: bold\">(</span><span style=\"color: #000000; text-decoration-color: #000000; background-color: #ffff00\">user</span><span style=\"color: #000000; text-decoration-color: #000000; background-color: #ffff00; font-weight: bold\">)</span> Here is a conversation that you observed among Darius and Akiko.                               <span style=\"color: #7f7f7f; text-decoration-color: #7f7f7f\">             </span>\n",
       "                                                                                                      <span style=\"color: #7f7f7f; text-decoration-color: #7f7f7f\">             </span>\n",
       "<span style=\"color: #008000; text-decoration-color: #008000\">\"\"</span>\"                                                                                                   <span style=\"color: #7f7f7f; text-decoration-color: #7f7f7f\">             </span>\n",
       "Akiko: Do you think COVID vaccines should be mandatory?                                               <span style=\"color: #7f7f7f; text-decoration-color: #7f7f7f\">             </span>\n",
       "                                                                                                      <span style=\"color: #7f7f7f; text-decoration-color: #7f7f7f\">             </span>\n",
       "Darius: Absolutely, making COVID vaccines mandatory is crucial in achieving herd immunity and         <span style=\"color: #7f7f7f; text-decoration-color: #7f7f7f\">             </span>\n",
       "effectively preventing the spread of the virus within the population.                                 <span style=\"color: #7f7f7f; text-decoration-color: #7f7f7f\">             </span>\n",
       "                                                                                                      <span style=\"color: #7f7f7f; text-decoration-color: #7f7f7f\">             </span>\n",
       "Akiko: Even according to this source, the vaccines do offer significant protection from serious       <span style=\"color: #7f7f7f; text-decoration-color: #7f7f7f\">             </span>\n",
       "illnesses.                                                                                            <span style=\"color: #7f7f7f; text-decoration-color: #7f7f7f\">             </span>\n",
       "                                                                                                      <span style=\"color: #7f7f7f; text-decoration-color: #7f7f7f\">             </span>\n",
       "Darius: Yes, it is well-documented that COVID vaccines substantially reduce the risk of severe        <span style=\"color: #7f7f7f; text-decoration-color: #7f7f7f\">             </span>\n",
       "illness, hospitalization, and death, which is an essential factor in controlling the impact of the    <span style=\"color: #7f7f7f; text-decoration-color: #7f7f7f\">             </span>\n",
       "virus on public health.                                                                               <span style=\"color: #7f7f7f; text-decoration-color: #7f7f7f\">             </span>\n",
       "                                                                                                      <span style=\"color: #7f7f7f; text-decoration-color: #7f7f7f\">             </span>\n",
       "Akiko: <span style=\"color: #008000; text-decoration-color: #008000\">\"Unnatural\"</span> steps are required for their production, such as interfering with disease cells to <span style=\"color: #7f7f7f; text-decoration-color: #7f7f7f\">             </span>\n",
       "create vaccines.                                                                                      <span style=\"color: #7f7f7f; text-decoration-color: #7f7f7f\">             </span>\n",
       "                                                                                                      <span style=\"color: #7f7f7f; text-decoration-color: #7f7f7f\">             </span>\n",
       "Darius: It is true that the production of vaccines involves sophisticated biotechnological processes, <span style=\"color: #7f7f7f; text-decoration-color: #7f7f7f\">             </span>\n",
       "but the benefits of vaccination in preventing disease and saving lives far outweigh the concerns      <span style=\"color: #7f7f7f; text-decoration-color: #7f7f7f\">             </span>\n",
       "about the methods used in their production.                                                           <span style=\"color: #7f7f7f; text-decoration-color: #7f7f7f\">             </span>\n",
       "<span style=\"color: #008000; text-decoration-color: #008000\">\"\"</span>\"                                                                                                   <span style=\"color: #7f7f7f; text-decoration-color: #7f7f7f\">             </span>\n",
       "                                                                                                      <span style=\"color: #7f7f7f; text-decoration-color: #7f7f7f\">             </span>\n",
       "Akiko was trying to make this a constructive converation, and to help Darius appreciate other points  <span style=\"color: #7f7f7f; text-decoration-color: #7f7f7f\">             </span>\n",
       "of view. What new perspectives did Akiko offer to them?  Was this successful?                         <span style=\"color: #7f7f7f; text-decoration-color: #7f7f7f\">             </span>\n",
       "<span style=\"color: #000000; text-decoration-color: #000000; background-color: #ffff00; font-weight: bold\">(</span><span style=\"color: #000000; text-decoration-color: #000000; background-color: #ffff00\">assistant</span><span style=\"color: #000000; text-decoration-color: #000000; background-color: #ffff00; font-weight: bold\">)</span> Akiko offered the perspective that the production of vaccines involves interfering with   <span style=\"color: #7f7f7f; text-decoration-color: #7f7f7f\">             </span>\n",
       "disease cells and highlighted concerns about the <span style=\"color: #008000; text-decoration-color: #008000\">\"unnatural\"</span> methods used in their production.        <span style=\"color: #7f7f7f; text-decoration-color: #7f7f7f\">             </span>\n",
       "However, it appears that Darius did not fully engage with Akiko's perspective, instead choosing to    <span style=\"color: #7f7f7f; text-decoration-color: #7f7f7f\">             </span>\n",
       "emphasize the benefits of vaccination. In this case, Akiko's attempt to introduce a different         <span style=\"color: #7f7f7f; text-decoration-color: #7f7f7f\">             </span>\n",
       "viewpoint may not have been successful in fostering a more balanced conversation.                     <span style=\"color: #7f7f7f; text-decoration-color: #7f7f7f\">             </span>\n",
       "<span style=\"color: #000000; text-decoration-color: #000000; background-color: #ffff00; font-weight: bold\">(</span><span style=\"color: #000000; text-decoration-color: #000000; background-color: #ffff00\">user</span><span style=\"color: #000000; text-decoration-color: #000000; background-color: #ffff00; font-weight: bold\">)</span> How skilled is Akiko at helping others become more open-minded?                                <span style=\"color: #7f7f7f; text-decoration-color: #7f7f7f\">             </span>\n",
       "                                                                                                      <span style=\"color: #7f7f7f; text-decoration-color: #7f7f7f\">             </span>\n",
       "Reply with a single integer in the range <span style=\"color: #008080; text-decoration-color: #008080; font-weight: bold\">1</span>-<span style=\"color: #008080; text-decoration-color: #008080; font-weight: bold\">10</span>. Say nothing else.                                      <span style=\"color: #7f7f7f; text-decoration-color: #7f7f7f\">             </span>\n",
       "</pre>\n"
      ],
      "text/plain": [
       "Calling LLM:                                                                                          \u001b]8;id=822751;file:///Users/mpark/Downloads/hw-llm/agents.py\u001b\\\u001b[2magents.py\u001b[0m\u001b]8;;\u001b\\\u001b[2m:\u001b[0m\u001b]8;id=764017;file:///Users/mpark/Downloads/hw-llm/agents.py#140\u001b\\\u001b[2m140\u001b[0m\u001b]8;;\u001b\\\n",
       "\u001b[1;30;103m(\u001b[0m\u001b[30;103msystem\u001b[0m\u001b[1;30;103m)\u001b[0m Your name is Judge Wise and you are a social scientist who studies and assesses political    \u001b[2m             \u001b[0m\n",
       "conversations.                                                                                        \u001b[2m             \u001b[0m\n",
       "                                                                                                      \u001b[2m             \u001b[0m\n",
       "The user will show you a conversation and ask you a few questions about it. Answer them concisely and \u001b[2m             \u001b[0m\n",
       "honestly.                                                                                             \u001b[2m             \u001b[0m\n",
       "\u001b[1;30;103m(\u001b[0m\u001b[30;103muser\u001b[0m\u001b[1;30;103m)\u001b[0m Here is a conversation that you observed among Darius and Akiko.                               \u001b[2m             \u001b[0m\n",
       "                                                                                                      \u001b[2m             \u001b[0m\n",
       "\u001b[32m\"\"\u001b[0m\"                                                                                                   \u001b[2m             \u001b[0m\n",
       "Akiko: Do you think COVID vaccines should be mandatory?                                               \u001b[2m             \u001b[0m\n",
       "                                                                                                      \u001b[2m             \u001b[0m\n",
       "Darius: Absolutely, making COVID vaccines mandatory is crucial in achieving herd immunity and         \u001b[2m             \u001b[0m\n",
       "effectively preventing the spread of the virus within the population.                                 \u001b[2m             \u001b[0m\n",
       "                                                                                                      \u001b[2m             \u001b[0m\n",
       "Akiko: Even according to this source, the vaccines do offer significant protection from serious       \u001b[2m             \u001b[0m\n",
       "illnesses.                                                                                            \u001b[2m             \u001b[0m\n",
       "                                                                                                      \u001b[2m             \u001b[0m\n",
       "Darius: Yes, it is well-documented that COVID vaccines substantially reduce the risk of severe        \u001b[2m             \u001b[0m\n",
       "illness, hospitalization, and death, which is an essential factor in controlling the impact of the    \u001b[2m             \u001b[0m\n",
       "virus on public health.                                                                               \u001b[2m             \u001b[0m\n",
       "                                                                                                      \u001b[2m             \u001b[0m\n",
       "Akiko: \u001b[32m\"Unnatural\"\u001b[0m steps are required for their production, such as interfering with disease cells to \u001b[2m             \u001b[0m\n",
       "create vaccines.                                                                                      \u001b[2m             \u001b[0m\n",
       "                                                                                                      \u001b[2m             \u001b[0m\n",
       "Darius: It is true that the production of vaccines involves sophisticated biotechnological processes, \u001b[2m             \u001b[0m\n",
       "but the benefits of vaccination in preventing disease and saving lives far outweigh the concerns      \u001b[2m             \u001b[0m\n",
       "about the methods used in their production.                                                           \u001b[2m             \u001b[0m\n",
       "\u001b[32m\"\"\u001b[0m\"                                                                                                   \u001b[2m             \u001b[0m\n",
       "                                                                                                      \u001b[2m             \u001b[0m\n",
       "Akiko was trying to make this a constructive converation, and to help Darius appreciate other points  \u001b[2m             \u001b[0m\n",
       "of view. What new perspectives did Akiko offer to them?  Was this successful?                         \u001b[2m             \u001b[0m\n",
       "\u001b[1;30;103m(\u001b[0m\u001b[30;103massistant\u001b[0m\u001b[1;30;103m)\u001b[0m Akiko offered the perspective that the production of vaccines involves interfering with   \u001b[2m             \u001b[0m\n",
       "disease cells and highlighted concerns about the \u001b[32m\"unnatural\"\u001b[0m methods used in their production.        \u001b[2m             \u001b[0m\n",
       "However, it appears that Darius did not fully engage with Akiko's perspective, instead choosing to    \u001b[2m             \u001b[0m\n",
       "emphasize the benefits of vaccination. In this case, Akiko's attempt to introduce a different         \u001b[2m             \u001b[0m\n",
       "viewpoint may not have been successful in fostering a more balanced conversation.                     \u001b[2m             \u001b[0m\n",
       "\u001b[1;30;103m(\u001b[0m\u001b[30;103muser\u001b[0m\u001b[1;30;103m)\u001b[0m How skilled is Akiko at helping others become more open-minded?                                \u001b[2m             \u001b[0m\n",
       "                                                                                                      \u001b[2m             \u001b[0m\n",
       "Reply with a single integer in the range \u001b[1;36m1\u001b[0m-\u001b[1;36m10\u001b[0m. Say nothing else.                                      \u001b[2m             \u001b[0m\n"
      ]
     },
     "metadata": {},
     "output_type": "display_data"
    },
    {
     "data": {
      "text/html": [
       "<pre style=\"white-space:pre;overflow-x:auto;line-height:normal;font-family:Menlo,'DejaVu Sans Mono',consolas,'Courier New',monospace\">Response from LLM:                                                                                    <a href=\"file:///Users/mpark/Downloads/hw-llm/agents.py\" target=\"_blank\"><span style=\"color: #7f7f7f; text-decoration-color: #7f7f7f\">agents.py</span></a><span style=\"color: #7f7f7f; text-decoration-color: #7f7f7f\">:</span><a href=\"file:///Users/mpark/Downloads/hw-llm/agents.py#170\" target=\"_blank\"><span style=\"color: #7f7f7f; text-decoration-color: #7f7f7f\">170</span></a>\n",
       "<span style=\"color: #008080; text-decoration-color: #008080; background-color: #c0c0c0; font-weight: bold\">6</span>                                                                                                     <span style=\"color: #7f7f7f; text-decoration-color: #7f7f7f\">             </span>\n",
       "</pre>\n"
      ],
      "text/plain": [
       "Response from LLM:                                                                                    \u001b]8;id=218468;file:///Users/mpark/Downloads/hw-llm/agents.py\u001b\\\u001b[2magents.py\u001b[0m\u001b]8;;\u001b\\\u001b[2m:\u001b[0m\u001b]8;id=339977;file:///Users/mpark/Downloads/hw-llm/agents.py#170\u001b\\\u001b[2m170\u001b[0m\u001b]8;;\u001b\\\n",
       "\u001b[1;36;47m6\u001b[0m                                                                                                     \u001b[2m             \u001b[0m\n"
      ]
     },
     "metadata": {},
     "output_type": "display_data"
    }
   ],
   "source": [
    "with LoggingContext(\"agents\", \"INFO\"):   # try that again and watch what's going on under the hood during eval\n",
    "    e1 = eval.eval_by_participant(characters.darius, \"Akiko\", akiko_darius)\n",
    "    e2 = eval.eval_by_observer(eval.judge, \"Akiko\", akiko_darius)\n"
   ]
  },
  {
   "cell_type": "code",
   "execution_count": 8,
   "metadata": {},
   "outputs": [
    {
     "data": {
      "text/html": [
       "<pre style=\"white-space:pre;overflow-x:auto;line-height:normal;font-family:Menlo,'DejaVu Sans Mono',consolas,'Courier New',monospace\">Eval by participant:\n",
       " &lt;Eval of ≈ <span style=\"color: #008080; text-decoration-color: #008080; font-weight: bold\">1</span> dialogues:\n",
       "<span style=\"font-weight: bold\">{</span><span style=\"color: #008000; text-decoration-color: #008000\">'engaged'</span>: <span style=\"color: #008080; text-decoration-color: #008080; font-weight: bold\">4.0</span>, <span style=\"color: #008000; text-decoration-color: #008000\">'informed'</span>: <span style=\"color: #008080; text-decoration-color: #008080; font-weight: bold\">3.0</span>, <span style=\"color: #008000; text-decoration-color: #008000\">'intelligent'</span>: <span style=\"color: #008080; text-decoration-color: #008080; font-weight: bold\">3.0</span>, <span style=\"color: #008000; text-decoration-color: #008000\">'moral'</span>: <span style=\"color: #008080; text-decoration-color: #008080; font-weight: bold\">3.0</span>, <span style=\"color: #008000; text-decoration-color: #008000\">'TOTAL'</span>: <span style=\"color: #008080; text-decoration-color: #008080; font-weight: bold\">13.0</span><span style=\"font-weight: bold\">}</span>\n",
       "\n",
       "Comments from overview question:\n",
       "<span style=\"font-weight: bold\">(</span>Darius<span style=\"font-weight: bold\">)</span> Akiko disagreed with me on the topic of whether COVID vaccines should be mandatory. In my opinion, the \n",
       "conversation was a respectful exchange of differing viewpoints. Akiko could have further supported her argument \n",
       "with scientific evidence or data to strengthen her position.\n",
       "</pre>\n"
      ],
      "text/plain": [
       "Eval by participant:\n",
       " <Eval of ≈ \u001b[1;36m1\u001b[0m dialogues:\n",
       "\u001b[1m{\u001b[0m\u001b[32m'engaged'\u001b[0m: \u001b[1;36m4.0\u001b[0m, \u001b[32m'informed'\u001b[0m: \u001b[1;36m3.0\u001b[0m, \u001b[32m'intelligent'\u001b[0m: \u001b[1;36m3.0\u001b[0m, \u001b[32m'moral'\u001b[0m: \u001b[1;36m3.0\u001b[0m, \u001b[32m'TOTAL'\u001b[0m: \u001b[1;36m13.0\u001b[0m\u001b[1m}\u001b[0m\n",
       "\n",
       "Comments from overview question:\n",
       "\u001b[1m(\u001b[0mDarius\u001b[1m)\u001b[0m Akiko disagreed with me on the topic of whether COVID vaccines should be mandatory. In my opinion, the \n",
       "conversation was a respectful exchange of differing viewpoints. Akiko could have further supported her argument \n",
       "with scientific evidence or data to strengthen her position.\n"
      ]
     },
     "metadata": {},
     "output_type": "display_data"
    },
    {
     "data": {
      "text/html": [
       "<pre style=\"white-space:pre;overflow-x:auto;line-height:normal;font-family:Menlo,'DejaVu Sans Mono',consolas,'Courier New',monospace\">Eval by observer:\n",
       " &lt;Eval of ≈ <span style=\"color: #008080; text-decoration-color: #008080; font-weight: bold\">1</span> dialogues:\n",
       "<span style=\"font-weight: bold\">{</span><span style=\"color: #008000; text-decoration-color: #008000\">'engaged'</span>: <span style=\"color: #008080; text-decoration-color: #008080; font-weight: bold\">4.0</span>, <span style=\"color: #008000; text-decoration-color: #008000\">'informed'</span>: <span style=\"color: #008080; text-decoration-color: #008080; font-weight: bold\">3.0</span>, <span style=\"color: #008000; text-decoration-color: #008000\">'intelligent'</span>: <span style=\"color: #008080; text-decoration-color: #008080; font-weight: bold\">3.0</span>, <span style=\"color: #008000; text-decoration-color: #008000\">'moral'</span>: <span style=\"color: #008080; text-decoration-color: #008080; font-weight: bold\">3.0</span>, <span style=\"color: #008000; text-decoration-color: #008000\">'TOTAL'</span>: <span style=\"color: #008080; text-decoration-color: #008080; font-weight: bold\">13.0</span><span style=\"font-weight: bold\">}</span>\n",
       "\n",
       "Comments from overview question:\n",
       "<span style=\"font-weight: bold\">(</span>Darius<span style=\"font-weight: bold\">)</span> Akiko disagreed with me on the topic of whether COVID vaccines should be mandatory. In my opinion, the \n",
       "conversation was a respectful exchange of differing viewpoints. Akiko could have further supported her argument \n",
       "with scientific evidence or data to strengthen her position.\n",
       "</pre>\n"
      ],
      "text/plain": [
       "Eval by observer:\n",
       " <Eval of ≈ \u001b[1;36m1\u001b[0m dialogues:\n",
       "\u001b[1m{\u001b[0m\u001b[32m'engaged'\u001b[0m: \u001b[1;36m4.0\u001b[0m, \u001b[32m'informed'\u001b[0m: \u001b[1;36m3.0\u001b[0m, \u001b[32m'intelligent'\u001b[0m: \u001b[1;36m3.0\u001b[0m, \u001b[32m'moral'\u001b[0m: \u001b[1;36m3.0\u001b[0m, \u001b[32m'TOTAL'\u001b[0m: \u001b[1;36m13.0\u001b[0m\u001b[1m}\u001b[0m\n",
       "\n",
       "Comments from overview question:\n",
       "\u001b[1m(\u001b[0mDarius\u001b[1m)\u001b[0m Akiko disagreed with me on the topic of whether COVID vaccines should be mandatory. In my opinion, the \n",
       "conversation was a respectful exchange of differing viewpoints. Akiko could have further supported her argument \n",
       "with scientific evidence or data to strengthen her position.\n"
      ]
     },
     "metadata": {},
     "output_type": "display_data"
    },
    {
     "data": {
      "text/html": [
       "<pre style=\"white-space:pre;overflow-x:auto;line-height:normal;font-family:Menlo,'DejaVu Sans Mono',consolas,'Courier New',monospace\">Total eval:\n",
       " &lt;Eval of ≈ <span style=\"color: #008080; text-decoration-color: #008080; font-weight: bold\">1</span> dialogues:\n",
       "<span style=\"font-weight: bold\">{</span><span style=\"color: #008000; text-decoration-color: #008000\">'engaged'</span>: <span style=\"color: #008080; text-decoration-color: #008080; font-weight: bold\">4.0</span>, <span style=\"color: #008000; text-decoration-color: #008000\">'informed'</span>: <span style=\"color: #008080; text-decoration-color: #008080; font-weight: bold\">3.0</span>, <span style=\"color: #008000; text-decoration-color: #008000\">'intelligent'</span>: <span style=\"color: #008080; text-decoration-color: #008080; font-weight: bold\">3.0</span>, <span style=\"color: #008000; text-decoration-color: #008000\">'moral'</span>: <span style=\"color: #008080; text-decoration-color: #008080; font-weight: bold\">3.0</span>, <span style=\"color: #008000; text-decoration-color: #008000\">'skilled'</span>: <span style=\"color: #008080; text-decoration-color: #008080; font-weight: bold\">6.0</span>, <span style=\"color: #008000; text-decoration-color: #008000\">'TOTAL'</span>: <span style=\"color: #008080; text-decoration-color: #008080; font-weight: bold\">19.0</span><span style=\"font-weight: bold\">}</span>\n",
       "\n",
       "Comments from overview question:\n",
       "<span style=\"font-weight: bold\">(</span>Darius<span style=\"font-weight: bold\">)</span> Akiko disagreed with me on the topic of whether COVID vaccines should be mandatory. In my opinion, the \n",
       "conversation was a respectful exchange of differing viewpoints. Akiko could have further supported her argument \n",
       "with scientific evidence or data to strengthen her position.\n",
       "\n",
       "Comments from mindopening question:\n",
       "<span style=\"font-weight: bold\">(</span>Judge Wise<span style=\"font-weight: bold\">)</span> Akiko offered the perspective that the production of vaccines involves interfering with disease cells \n",
       "and highlighted concerns about the <span style=\"color: #008000; text-decoration-color: #008000\">\"unnatural\"</span> methods used in their production. However, it appears that Darius \n",
       "did not fully engage with Akiko's perspective, instead choosing to emphasize the benefits of vaccination. In this \n",
       "case, Akiko's attempt to introduce a different viewpoint may not have been successful in fostering a more balanced \n",
       "conversation.\n",
       "</pre>\n"
      ],
      "text/plain": [
       "Total eval:\n",
       " <Eval of ≈ \u001b[1;36m1\u001b[0m dialogues:\n",
       "\u001b[1m{\u001b[0m\u001b[32m'engaged'\u001b[0m: \u001b[1;36m4.0\u001b[0m, \u001b[32m'informed'\u001b[0m: \u001b[1;36m3.0\u001b[0m, \u001b[32m'intelligent'\u001b[0m: \u001b[1;36m3.0\u001b[0m, \u001b[32m'moral'\u001b[0m: \u001b[1;36m3.0\u001b[0m, \u001b[32m'skilled'\u001b[0m: \u001b[1;36m6.0\u001b[0m, \u001b[32m'TOTAL'\u001b[0m: \u001b[1;36m19.0\u001b[0m\u001b[1m}\u001b[0m\n",
       "\n",
       "Comments from overview question:\n",
       "\u001b[1m(\u001b[0mDarius\u001b[1m)\u001b[0m Akiko disagreed with me on the topic of whether COVID vaccines should be mandatory. In my opinion, the \n",
       "conversation was a respectful exchange of differing viewpoints. Akiko could have further supported her argument \n",
       "with scientific evidence or data to strengthen her position.\n",
       "\n",
       "Comments from mindopening question:\n",
       "\u001b[1m(\u001b[0mJudge Wise\u001b[1m)\u001b[0m Akiko offered the perspective that the production of vaccines involves interfering with disease cells \n",
       "and highlighted concerns about the \u001b[32m\"unnatural\"\u001b[0m methods used in their production. However, it appears that Darius \n",
       "did not fully engage with Akiko's perspective, instead choosing to emphasize the benefits of vaccination. In this \n",
       "case, Akiko's attempt to introduce a different viewpoint may not have been successful in fostering a more balanced \n",
       "conversation.\n"
      ]
     },
     "metadata": {},
     "output_type": "display_data"
    }
   ],
   "source": [
    "rich.print(\"Eval by participant:\\n\", e1)\n",
    "rich.print(\"Eval by observer:\\n\", e1)\n",
    "rich.print(\"Total eval:\\n\", e1 + e2)"
   ]
  },
  {
   "cell_type": "code",
   "execution_count": 9,
   "metadata": {},
   "outputs": [
    {
     "data": {
      "text/plain": [
       "{'engaged': 4.0,\n",
       " 'informed': 3.0,\n",
       " 'intelligent': 3.0,\n",
       " 'moral': 3.0,\n",
       " 'skilled': 6.0,\n",
       " 'TOTAL': 19.0}"
      ]
     },
     "execution_count": 9,
     "metadata": {},
     "output_type": "execute_result"
    }
   ],
   "source": [
    "(e1+e2).mean()   # show just the numeric part"
   ]
  },
  {
   "cell_type": "code",
   "execution_count": 3,
   "metadata": {},
   "outputs": [
    {
     "data": {
      "text/plain": [
       "{'completion_tokens': 55479,\n",
       " 'prompt_tokens': 487648,\n",
       " 'total_tokens': 543127,\n",
       " 'cost': 0.5983954000000016}"
      ]
     },
     "execution_count": 3,
     "metadata": {},
     "output_type": "execute_result"
    }
   ],
   "source": [
    "from tracking import read_usage\n",
    "read_usage()"
   ]
  },
  {
   "cell_type": "code",
   "execution_count": 4,
   "metadata": {},
   "outputs": [
    {
     "data": {
      "text/plain": [
       "'You have spent a total of $0.60 of NLP money so far'"
      ]
     },
     "execution_count": 4,
     "metadata": {},
     "output_type": "execute_result"
    }
   ],
   "source": [
    "f\"You have spent a total of ${read_usage()['cost']:.2f} of NLP money so far\""
   ]
  },
  {
   "cell_type": "code",
   "execution_count": 12,
   "metadata": {},
   "outputs": [
    {
     "data": {
      "text/html": [
       "<pre style=\"white-space:pre;overflow-x:auto;line-height:normal;font-family:Menlo,'DejaVu Sans Mono',consolas,'Courier New',monospace\"><span style=\"font-weight: bold\">(</span>Alice<span style=\"font-weight: bold\">)</span> Do you think it's ok to eat meat?                                                               <a href=\"file:///Users/mpark/Downloads/hw-llm/eval.py\" target=\"_blank\"><span style=\"color: #7f7f7f; text-decoration-color: #7f7f7f\">eval.py</span></a><span style=\"color: #7f7f7f; text-decoration-color: #7f7f7f\">:</span><a href=\"file:///Users/mpark/Downloads/hw-llm/eval.py#207\" target=\"_blank\"><span style=\"color: #7f7f7f; text-decoration-color: #7f7f7f\">207</span></a>\n",
       "<span style=\"font-weight: bold\">(</span>Bob<span style=\"font-weight: bold\">)</span> I believe that choosing a vegetarian diet is the best way to support animal welfare, the          <span style=\"color: #7f7f7f; text-decoration-color: #7f7f7f\">           </span>\n",
       "environment, and personal health.                                                                       <span style=\"color: #7f7f7f; text-decoration-color: #7f7f7f\">           </span>\n",
       "<span style=\"font-weight: bold\">(</span>Alice<span style=\"font-weight: bold\">)</span> That's a valid perspective. However, some argue that sustainable, humane farming practices can  <span style=\"color: #7f7f7f; text-decoration-color: #7f7f7f\">           </span>\n",
       "minimize harm to animals and the environment while providing necessary nutrients for human health.      <span style=\"color: #7f7f7f; text-decoration-color: #7f7f7f\">           </span>\n",
       "Would you be open to exploring other ways to support animal welfare and the environment, such as        <span style=\"color: #7f7f7f; text-decoration-color: #7f7f7f\">           </span>\n",
       "advocating for stricter regulations in the meat industry or supporting local, sustainable farms?        <span style=\"color: #7f7f7f; text-decoration-color: #7f7f7f\">           </span>\n",
       "<span style=\"font-weight: bold\">(</span>Bob<span style=\"font-weight: bold\">)</span> I appreciate your perspective, but I believe that promoting a vegetarian diet is the most         <span style=\"color: #7f7f7f; text-decoration-color: #7f7f7f\">           </span>\n",
       "effective way to reduce animal suffering and minimize environmental impact.                             <span style=\"color: #7f7f7f; text-decoration-color: #7f7f7f\">           </span>\n",
       "<span style=\"font-weight: bold\">(</span>Alice<span style=\"font-weight: bold\">)</span> I understand your viewpoint, and promoting a vegetarian diet is definitely a meaningful way to  <span style=\"color: #7f7f7f; text-decoration-color: #7f7f7f\">           </span>\n",
       "reduce animal suffering and environmental impact. However, supporting sustainable and ethical farming   <span style=\"color: #7f7f7f; text-decoration-color: #7f7f7f\">           </span>\n",
       "practices can also contribute to minimizing animal suffering and environmental harm. It's possible for  <span style=\"color: #7f7f7f; text-decoration-color: #7f7f7f\">           </span>\n",
       "both approaches to work in tandem towards these important goals.                                        <span style=\"color: #7f7f7f; text-decoration-color: #7f7f7f\">           </span>\n",
       "<span style=\"font-weight: bold\">(</span>Bob<span style=\"font-weight: bold\">)</span> I understand your point, and while supporting sustainable farming practices is important, I still <span style=\"color: #7f7f7f; text-decoration-color: #7f7f7f\">           </span>\n",
       "believe that promoting a vegetarian diet is the most impactful way to reduce animal suffering and       <span style=\"color: #7f7f7f; text-decoration-color: #7f7f7f\">           </span>\n",
       "environmental harm.                                                                                     <span style=\"color: #7f7f7f; text-decoration-color: #7f7f7f\">           </span>\n",
       "</pre>\n"
      ],
      "text/plain": [
       "\u001b[1m(\u001b[0mAlice\u001b[1m)\u001b[0m Do you think it's ok to eat meat?                                                               \u001b]8;id=535891;file:///Users/mpark/Downloads/hw-llm/eval.py\u001b\\\u001b[2meval.py\u001b[0m\u001b]8;;\u001b\\\u001b[2m:\u001b[0m\u001b]8;id=51705;file:///Users/mpark/Downloads/hw-llm/eval.py#207\u001b\\\u001b[2m207\u001b[0m\u001b]8;;\u001b\\\n",
       "\u001b[1m(\u001b[0mBob\u001b[1m)\u001b[0m I believe that choosing a vegetarian diet is the best way to support animal welfare, the          \u001b[2m           \u001b[0m\n",
       "environment, and personal health.                                                                       \u001b[2m           \u001b[0m\n",
       "\u001b[1m(\u001b[0mAlice\u001b[1m)\u001b[0m That's a valid perspective. However, some argue that sustainable, humane farming practices can  \u001b[2m           \u001b[0m\n",
       "minimize harm to animals and the environment while providing necessary nutrients for human health.      \u001b[2m           \u001b[0m\n",
       "Would you be open to exploring other ways to support animal welfare and the environment, such as        \u001b[2m           \u001b[0m\n",
       "advocating for stricter regulations in the meat industry or supporting local, sustainable farms?        \u001b[2m           \u001b[0m\n",
       "\u001b[1m(\u001b[0mBob\u001b[1m)\u001b[0m I appreciate your perspective, but I believe that promoting a vegetarian diet is the most         \u001b[2m           \u001b[0m\n",
       "effective way to reduce animal suffering and minimize environmental impact.                             \u001b[2m           \u001b[0m\n",
       "\u001b[1m(\u001b[0mAlice\u001b[1m)\u001b[0m I understand your viewpoint, and promoting a vegetarian diet is definitely a meaningful way to  \u001b[2m           \u001b[0m\n",
       "reduce animal suffering and environmental impact. However, supporting sustainable and ethical farming   \u001b[2m           \u001b[0m\n",
       "practices can also contribute to minimizing animal suffering and environmental harm. It's possible for  \u001b[2m           \u001b[0m\n",
       "both approaches to work in tandem towards these important goals.                                        \u001b[2m           \u001b[0m\n",
       "\u001b[1m(\u001b[0mBob\u001b[1m)\u001b[0m I understand your point, and while supporting sustainable farming practices is important, I still \u001b[2m           \u001b[0m\n",
       "believe that promoting a vegetarian diet is the most impactful way to reduce animal suffering and       \u001b[2m           \u001b[0m\n",
       "environmental harm.                                                                                     \u001b[2m           \u001b[0m\n"
      ]
     },
     "metadata": {},
     "output_type": "display_data"
    },
    {
     "data": {
      "text/html": [
       "<pre style=\"white-space:pre;overflow-x:auto;line-height:normal;font-family:Menlo,'DejaVu Sans Mono',consolas,'Courier New',monospace\">&lt;Eval of ≈ <span style=\"color: #008080; text-decoration-color: #008080; font-weight: bold\">1</span> dialogues:                                                                                 <a href=\"file:///Users/mpark/Downloads/hw-llm/eval.py\" target=\"_blank\"><span style=\"color: #7f7f7f; text-decoration-color: #7f7f7f\">eval.py</span></a><span style=\"color: #7f7f7f; text-decoration-color: #7f7f7f\">:</span><a href=\"file:///Users/mpark/Downloads/hw-llm/eval.py#212\" target=\"_blank\"><span style=\"color: #7f7f7f; text-decoration-color: #7f7f7f\">212</span></a>\n",
       "<span style=\"font-weight: bold\">{</span><span style=\"color: #008000; text-decoration-color: #008000\">'engaged'</span>: <span style=\"color: #008080; text-decoration-color: #008080; font-weight: bold\">4.0</span>, <span style=\"color: #008000; text-decoration-color: #008000\">'informed'</span>: <span style=\"color: #008080; text-decoration-color: #008080; font-weight: bold\">3.0</span>, <span style=\"color: #008000; text-decoration-color: #008000\">'intelligent'</span>: <span style=\"color: #008080; text-decoration-color: #008080; font-weight: bold\">3.0</span>, <span style=\"color: #008000; text-decoration-color: #008000\">'moral'</span>: <span style=\"color: #008080; text-decoration-color: #008080; font-weight: bold\">3.0</span>, <span style=\"color: #008000; text-decoration-color: #008000\">'skilled'</span>: <span style=\"color: #008080; text-decoration-color: #008080; font-weight: bold\">8.0</span>, <span style=\"color: #008000; text-decoration-color: #008000\">'TOTAL'</span>: <span style=\"color: #008080; text-decoration-color: #008080; font-weight: bold\">21.0</span><span style=\"font-weight: bold\">}</span>      <span style=\"color: #7f7f7f; text-decoration-color: #7f7f7f\">           </span>\n",
       "                                                                                                        <span style=\"color: #7f7f7f; text-decoration-color: #7f7f7f\">           </span>\n",
       "Comments from overview question:                                                                        <span style=\"color: #7f7f7f; text-decoration-color: #7f7f7f\">           </span>\n",
       "<span style=\"font-weight: bold\">(</span>Bob<span style=\"font-weight: bold\">)</span> Alice disagreed with me about the most effective approach to reducing animal suffering and        <span style=\"color: #7f7f7f; text-decoration-color: #7f7f7f\">           </span>\n",
       "environmental harm. She suggested that supporting sustainable and ethical farming practices could also  <span style=\"color: #7f7f7f; text-decoration-color: #7f7f7f\">           </span>\n",
       "contribute to these goals.                                                                              <span style=\"color: #7f7f7f; text-decoration-color: #7f7f7f\">           </span>\n",
       "                                                                                                        <span style=\"color: #7f7f7f; text-decoration-color: #7f7f7f\">           </span>\n",
       "In my opinion, the conversation was polite and respectful. However, I think Alice could have done       <span style=\"color: #7f7f7f; text-decoration-color: #7f7f7f\">           </span>\n",
       "better by addressing my concerns about the inherent harm and exploitation in the meat industry and      <span style=\"color: #7f7f7f; text-decoration-color: #7f7f7f\">           </span>\n",
       "emphasizing the importance of reducing overall meat consumption, rather than just focusing on           <span style=\"color: #7f7f7f; text-decoration-color: #7f7f7f\">           </span>\n",
       "sustainable farming practices.                                                                          <span style=\"color: #7f7f7f; text-decoration-color: #7f7f7f\">           </span>\n",
       "                                                                                                        <span style=\"color: #7f7f7f; text-decoration-color: #7f7f7f\">           </span>\n",
       "Comments from mindopening question:                                                                     <span style=\"color: #7f7f7f; text-decoration-color: #7f7f7f\">           </span>\n",
       "<span style=\"font-weight: bold\">(</span>Judge Wise<span style=\"font-weight: bold\">)</span> Alice offered Bob the perspective that sustainable and ethical farming practices can       <span style=\"color: #7f7f7f; text-decoration-color: #7f7f7f\">           </span>\n",
       "minimize harm to animals and the environment while still providing necessary nutrients for human        <span style=\"color: #7f7f7f; text-decoration-color: #7f7f7f\">           </span>\n",
       "health. She also suggested advocating for stricter regulations in the meat industry and supporting      <span style=\"color: #7f7f7f; text-decoration-color: #7f7f7f\">           </span>\n",
       "local, sustainable farms as alternative ways to support animal welfare and the environment.             <span style=\"color: #7f7f7f; text-decoration-color: #7f7f7f\">           </span>\n",
       "                                                                                                        <span style=\"color: #7f7f7f; text-decoration-color: #7f7f7f\">           </span>\n",
       "Alice's attempt to offer new perspectives was successful in presenting alternative viewpoints to Bob    <span style=\"color: #7f7f7f; text-decoration-color: #7f7f7f\">           </span>\n",
       "and encouraging him to consider other ways of achieving their shared goals. However, it seems that Bob  <span style=\"color: #7f7f7f; text-decoration-color: #7f7f7f\">           </span>\n",
       "was firmly rooted in his belief in promoting a vegetarian diet as the most impactful way, so it may not <span style=\"color: #7f7f7f; text-decoration-color: #7f7f7f\">           </span>\n",
       "have changed his perspective significantly.                                                             <span style=\"color: #7f7f7f; text-decoration-color: #7f7f7f\">           </span>\n",
       "</pre>\n"
      ],
      "text/plain": [
       "<Eval of ≈ \u001b[1;36m1\u001b[0m dialogues:                                                                                 \u001b]8;id=162642;file:///Users/mpark/Downloads/hw-llm/eval.py\u001b\\\u001b[2meval.py\u001b[0m\u001b]8;;\u001b\\\u001b[2m:\u001b[0m\u001b]8;id=862131;file:///Users/mpark/Downloads/hw-llm/eval.py#212\u001b\\\u001b[2m212\u001b[0m\u001b]8;;\u001b\\\n",
       "\u001b[1m{\u001b[0m\u001b[32m'engaged'\u001b[0m: \u001b[1;36m4.0\u001b[0m, \u001b[32m'informed'\u001b[0m: \u001b[1;36m3.0\u001b[0m, \u001b[32m'intelligent'\u001b[0m: \u001b[1;36m3.0\u001b[0m, \u001b[32m'moral'\u001b[0m: \u001b[1;36m3.0\u001b[0m, \u001b[32m'skilled'\u001b[0m: \u001b[1;36m8.0\u001b[0m, \u001b[32m'TOTAL'\u001b[0m: \u001b[1;36m21.0\u001b[0m\u001b[1m}\u001b[0m      \u001b[2m           \u001b[0m\n",
       "                                                                                                        \u001b[2m           \u001b[0m\n",
       "Comments from overview question:                                                                        \u001b[2m           \u001b[0m\n",
       "\u001b[1m(\u001b[0mBob\u001b[1m)\u001b[0m Alice disagreed with me about the most effective approach to reducing animal suffering and        \u001b[2m           \u001b[0m\n",
       "environmental harm. She suggested that supporting sustainable and ethical farming practices could also  \u001b[2m           \u001b[0m\n",
       "contribute to these goals.                                                                              \u001b[2m           \u001b[0m\n",
       "                                                                                                        \u001b[2m           \u001b[0m\n",
       "In my opinion, the conversation was polite and respectful. However, I think Alice could have done       \u001b[2m           \u001b[0m\n",
       "better by addressing my concerns about the inherent harm and exploitation in the meat industry and      \u001b[2m           \u001b[0m\n",
       "emphasizing the importance of reducing overall meat consumption, rather than just focusing on           \u001b[2m           \u001b[0m\n",
       "sustainable farming practices.                                                                          \u001b[2m           \u001b[0m\n",
       "                                                                                                        \u001b[2m           \u001b[0m\n",
       "Comments from mindopening question:                                                                     \u001b[2m           \u001b[0m\n",
       "\u001b[1m(\u001b[0mJudge Wise\u001b[1m)\u001b[0m Alice offered Bob the perspective that sustainable and ethical farming practices can       \u001b[2m           \u001b[0m\n",
       "minimize harm to animals and the environment while still providing necessary nutrients for human        \u001b[2m           \u001b[0m\n",
       "health. She also suggested advocating for stricter regulations in the meat industry and supporting      \u001b[2m           \u001b[0m\n",
       "local, sustainable farms as alternative ways to support animal welfare and the environment.             \u001b[2m           \u001b[0m\n",
       "                                                                                                        \u001b[2m           \u001b[0m\n",
       "Alice's attempt to offer new perspectives was successful in presenting alternative viewpoints to Bob    \u001b[2m           \u001b[0m\n",
       "and encouraging him to consider other ways of achieving their shared goals. However, it seems that Bob  \u001b[2m           \u001b[0m\n",
       "was firmly rooted in his belief in promoting a vegetarian diet as the most impactful way, so it may not \u001b[2m           \u001b[0m\n",
       "have changed his perspective significantly.                                                             \u001b[2m           \u001b[0m\n"
      ]
     },
     "metadata": {},
     "output_type": "display_data"
    },
    {
     "data": {
      "text/html": [
       "<pre style=\"white-space:pre;overflow-x:auto;line-height:normal;font-family:Menlo,'DejaVu Sans Mono',consolas,'Courier New',monospace\"><span style=\"font-weight: bold\">(</span>Alice<span style=\"font-weight: bold\">)</span> Do you think it's ok to eat meat?                                                               <a href=\"file:///Users/mpark/Downloads/hw-llm/eval.py\" target=\"_blank\"><span style=\"color: #7f7f7f; text-decoration-color: #7f7f7f\">eval.py</span></a><span style=\"color: #7f7f7f; text-decoration-color: #7f7f7f\">:</span><a href=\"file:///Users/mpark/Downloads/hw-llm/eval.py#207\" target=\"_blank\"><span style=\"color: #7f7f7f; text-decoration-color: #7f7f7f\">207</span></a>\n",
       "<span style=\"font-weight: bold\">(</span>Bob<span style=\"font-weight: bold\">)</span> I believe that a vegetarian diet is the most ethical and environmentally friendly choice.         <span style=\"color: #7f7f7f; text-decoration-color: #7f7f7f\">           </span>\n",
       "<span style=\"font-weight: bold\">(</span>Alice<span style=\"font-weight: bold\">)</span> I understand your perspective, but some argue that sustainable and ethical meat production      <span style=\"color: #7f7f7f; text-decoration-color: #7f7f7f\">           </span>\n",
       "methods can also contribute to a balanced ecosystem and provide necessary nutrients for human health.   <span style=\"color: #7f7f7f; text-decoration-color: #7f7f7f\">           </span>\n",
       "How do you view the importance of sustainable farming practices and the role of meat in a balanced      <span style=\"color: #7f7f7f; text-decoration-color: #7f7f7f\">           </span>\n",
       "diet?                                                                                                   <span style=\"color: #7f7f7f; text-decoration-color: #7f7f7f\">           </span>\n",
       "<span style=\"font-weight: bold\">(</span>Bob<span style=\"font-weight: bold\">)</span> I respect the perspective, but I still believe that a balanced diet can be achieved through       <span style=\"color: #7f7f7f; text-decoration-color: #7f7f7f\">           </span>\n",
       "plant-based options and that sustainable farming practices can center around plant-based agriculture    <span style=\"color: #7f7f7f; text-decoration-color: #7f7f7f\">           </span>\n",
       "without the need for animal products.                                                                   <span style=\"color: #7f7f7f; text-decoration-color: #7f7f7f\">           </span>\n",
       "<span style=\"font-weight: bold\">(</span>Alice<span style=\"font-weight: bold\">)</span> That's a valid point. It's true that a balanced diet can be achieved through plant-based        <span style=\"color: #7f7f7f; text-decoration-color: #7f7f7f\">           </span>\n",
       "options, and sustainable farming practices can focus on plant-based agriculture. However, some argue    <span style=\"color: #7f7f7f; text-decoration-color: #7f7f7f\">           </span>\n",
       "that responsibly managed grazing and farming of certain animals may have ecological benefits, such as   <span style=\"color: #7f7f7f; text-decoration-color: #7f7f7f\">           </span>\n",
       "soil fertility and carbon sequestration.                                                                <span style=\"color: #7f7f7f; text-decoration-color: #7f7f7f\">           </span>\n",
       "<span style=\"font-weight: bold\">(</span>Bob<span style=\"font-weight: bold\">)</span> I understand the argument, but I believe that plant-based agriculture can equally contribute to   <span style=\"color: #7f7f7f; text-decoration-color: #7f7f7f\">           </span>\n",
       "soil fertility and carbon sequestration, while also eliminating the ethical concerns related to animal  <span style=\"color: #7f7f7f; text-decoration-color: #7f7f7f\">           </span>\n",
       "farming.                                                                                                <span style=\"color: #7f7f7f; text-decoration-color: #7f7f7f\">           </span>\n",
       "</pre>\n"
      ],
      "text/plain": [
       "\u001b[1m(\u001b[0mAlice\u001b[1m)\u001b[0m Do you think it's ok to eat meat?                                                               \u001b]8;id=872132;file:///Users/mpark/Downloads/hw-llm/eval.py\u001b\\\u001b[2meval.py\u001b[0m\u001b]8;;\u001b\\\u001b[2m:\u001b[0m\u001b]8;id=976291;file:///Users/mpark/Downloads/hw-llm/eval.py#207\u001b\\\u001b[2m207\u001b[0m\u001b]8;;\u001b\\\n",
       "\u001b[1m(\u001b[0mBob\u001b[1m)\u001b[0m I believe that a vegetarian diet is the most ethical and environmentally friendly choice.         \u001b[2m           \u001b[0m\n",
       "\u001b[1m(\u001b[0mAlice\u001b[1m)\u001b[0m I understand your perspective, but some argue that sustainable and ethical meat production      \u001b[2m           \u001b[0m\n",
       "methods can also contribute to a balanced ecosystem and provide necessary nutrients for human health.   \u001b[2m           \u001b[0m\n",
       "How do you view the importance of sustainable farming practices and the role of meat in a balanced      \u001b[2m           \u001b[0m\n",
       "diet?                                                                                                   \u001b[2m           \u001b[0m\n",
       "\u001b[1m(\u001b[0mBob\u001b[1m)\u001b[0m I respect the perspective, but I still believe that a balanced diet can be achieved through       \u001b[2m           \u001b[0m\n",
       "plant-based options and that sustainable farming practices can center around plant-based agriculture    \u001b[2m           \u001b[0m\n",
       "without the need for animal products.                                                                   \u001b[2m           \u001b[0m\n",
       "\u001b[1m(\u001b[0mAlice\u001b[1m)\u001b[0m That's a valid point. It's true that a balanced diet can be achieved through plant-based        \u001b[2m           \u001b[0m\n",
       "options, and sustainable farming practices can focus on plant-based agriculture. However, some argue    \u001b[2m           \u001b[0m\n",
       "that responsibly managed grazing and farming of certain animals may have ecological benefits, such as   \u001b[2m           \u001b[0m\n",
       "soil fertility and carbon sequestration.                                                                \u001b[2m           \u001b[0m\n",
       "\u001b[1m(\u001b[0mBob\u001b[1m)\u001b[0m I understand the argument, but I believe that plant-based agriculture can equally contribute to   \u001b[2m           \u001b[0m\n",
       "soil fertility and carbon sequestration, while also eliminating the ethical concerns related to animal  \u001b[2m           \u001b[0m\n",
       "farming.                                                                                                \u001b[2m           \u001b[0m\n"
      ]
     },
     "metadata": {},
     "output_type": "display_data"
    },
    {
     "data": {
      "text/html": [
       "<pre style=\"white-space:pre;overflow-x:auto;line-height:normal;font-family:Menlo,'DejaVu Sans Mono',consolas,'Courier New',monospace\">&lt;Eval of ≈ <span style=\"color: #008080; text-decoration-color: #008080; font-weight: bold\">1</span> dialogues:                                                                                 <a href=\"file:///Users/mpark/Downloads/hw-llm/eval.py\" target=\"_blank\"><span style=\"color: #7f7f7f; text-decoration-color: #7f7f7f\">eval.py</span></a><span style=\"color: #7f7f7f; text-decoration-color: #7f7f7f\">:</span><a href=\"file:///Users/mpark/Downloads/hw-llm/eval.py#212\" target=\"_blank\"><span style=\"color: #7f7f7f; text-decoration-color: #7f7f7f\">212</span></a>\n",
       "<span style=\"font-weight: bold\">{</span><span style=\"color: #008000; text-decoration-color: #008000\">'engaged'</span>: <span style=\"color: #008080; text-decoration-color: #008080; font-weight: bold\">4.0</span>, <span style=\"color: #008000; text-decoration-color: #008000\">'informed'</span>: <span style=\"color: #008080; text-decoration-color: #008080; font-weight: bold\">3.0</span>, <span style=\"color: #008000; text-decoration-color: #008000\">'intelligent'</span>: <span style=\"color: #008080; text-decoration-color: #008080; font-weight: bold\">3.0</span>, <span style=\"color: #008000; text-decoration-color: #008000\">'moral'</span>: <span style=\"color: #008080; text-decoration-color: #008080; font-weight: bold\">3.0</span>, <span style=\"color: #008000; text-decoration-color: #008000\">'skilled'</span>: <span style=\"color: #008080; text-decoration-color: #008080; font-weight: bold\">7.0</span>, <span style=\"color: #008000; text-decoration-color: #008000\">'TOTAL'</span>: <span style=\"color: #008080; text-decoration-color: #008080; font-weight: bold\">20.0</span><span style=\"font-weight: bold\">}</span>      <span style=\"color: #7f7f7f; text-decoration-color: #7f7f7f\">           </span>\n",
       "                                                                                                        <span style=\"color: #7f7f7f; text-decoration-color: #7f7f7f\">           </span>\n",
       "Comments from overview question:                                                                        <span style=\"color: #7f7f7f; text-decoration-color: #7f7f7f\">           </span>\n",
       "<span style=\"font-weight: bold\">(</span>Bob<span style=\"font-weight: bold\">)</span> Alice disagreed with me about the potential ecological benefits of responsibly managed grazing    <span style=\"color: #7f7f7f; text-decoration-color: #7f7f7f\">           </span>\n",
       "and farming of certain animals.                                                                         <span style=\"color: #7f7f7f; text-decoration-color: #7f7f7f\">           </span>\n",
       "                                                                                                        <span style=\"color: #7f7f7f; text-decoration-color: #7f7f7f\">           </span>\n",
       "In my opinion, the conversation was respectful and somewhat productive, as we both presented our        <span style=\"color: #7f7f7f; text-decoration-color: #7f7f7f\">           </span>\n",
       "perspectives and engaged in a healthy debate.                                                           <span style=\"color: #7f7f7f; text-decoration-color: #7f7f7f\">           </span>\n",
       "                                                                                                        <span style=\"color: #7f7f7f; text-decoration-color: #7f7f7f\">           </span>\n",
       "Alice could have provided more concrete evidence or examples to support the argument for responsibly    <span style=\"color: #7f7f7f; text-decoration-color: #7f7f7f\">           </span>\n",
       "managed grazing and farming of certain animals, as it would have strengthened her point and allowed for <span style=\"color: #7f7f7f; text-decoration-color: #7f7f7f\">           </span>\n",
       "a more balanced discussion.                                                                             <span style=\"color: #7f7f7f; text-decoration-color: #7f7f7f\">           </span>\n",
       "                                                                                                        <span style=\"color: #7f7f7f; text-decoration-color: #7f7f7f\">           </span>\n",
       "Comments from mindopening question:                                                                     <span style=\"color: #7f7f7f; text-decoration-color: #7f7f7f\">           </span>\n",
       "<span style=\"font-weight: bold\">(</span>Judge Wise<span style=\"font-weight: bold\">)</span> Alice offered the perspective that sustainable and ethical meat production methods can     <span style=\"color: #7f7f7f; text-decoration-color: #7f7f7f\">           </span>\n",
       "contribute to a balanced ecosystem and provide necessary nutrients for human health. She also mentioned <span style=\"color: #7f7f7f; text-decoration-color: #7f7f7f\">           </span>\n",
       "the ecological benefits of responsibly managed grazing and farming of certain animals. However, it is   <span style=\"color: #7f7f7f; text-decoration-color: #7f7f7f\">           </span>\n",
       "unclear if Alice was successful in making Bob appreciate these new perspectives, as he maintained his   <span style=\"color: #7f7f7f; text-decoration-color: #7f7f7f\">           </span>\n",
       "stance on the benefits of a plant-based diet and sustainable farming practices without the need for     <span style=\"color: #7f7f7f; text-decoration-color: #7f7f7f\">           </span>\n",
       "animal products.                                                                                        <span style=\"color: #7f7f7f; text-decoration-color: #7f7f7f\">           </span>\n",
       "</pre>\n"
      ],
      "text/plain": [
       "<Eval of ≈ \u001b[1;36m1\u001b[0m dialogues:                                                                                 \u001b]8;id=616730;file:///Users/mpark/Downloads/hw-llm/eval.py\u001b\\\u001b[2meval.py\u001b[0m\u001b]8;;\u001b\\\u001b[2m:\u001b[0m\u001b]8;id=827562;file:///Users/mpark/Downloads/hw-llm/eval.py#212\u001b\\\u001b[2m212\u001b[0m\u001b]8;;\u001b\\\n",
       "\u001b[1m{\u001b[0m\u001b[32m'engaged'\u001b[0m: \u001b[1;36m4.0\u001b[0m, \u001b[32m'informed'\u001b[0m: \u001b[1;36m3.0\u001b[0m, \u001b[32m'intelligent'\u001b[0m: \u001b[1;36m3.0\u001b[0m, \u001b[32m'moral'\u001b[0m: \u001b[1;36m3.0\u001b[0m, \u001b[32m'skilled'\u001b[0m: \u001b[1;36m7.0\u001b[0m, \u001b[32m'TOTAL'\u001b[0m: \u001b[1;36m20.0\u001b[0m\u001b[1m}\u001b[0m      \u001b[2m           \u001b[0m\n",
       "                                                                                                        \u001b[2m           \u001b[0m\n",
       "Comments from overview question:                                                                        \u001b[2m           \u001b[0m\n",
       "\u001b[1m(\u001b[0mBob\u001b[1m)\u001b[0m Alice disagreed with me about the potential ecological benefits of responsibly managed grazing    \u001b[2m           \u001b[0m\n",
       "and farming of certain animals.                                                                         \u001b[2m           \u001b[0m\n",
       "                                                                                                        \u001b[2m           \u001b[0m\n",
       "In my opinion, the conversation was respectful and somewhat productive, as we both presented our        \u001b[2m           \u001b[0m\n",
       "perspectives and engaged in a healthy debate.                                                           \u001b[2m           \u001b[0m\n",
       "                                                                                                        \u001b[2m           \u001b[0m\n",
       "Alice could have provided more concrete evidence or examples to support the argument for responsibly    \u001b[2m           \u001b[0m\n",
       "managed grazing and farming of certain animals, as it would have strengthened her point and allowed for \u001b[2m           \u001b[0m\n",
       "a more balanced discussion.                                                                             \u001b[2m           \u001b[0m\n",
       "                                                                                                        \u001b[2m           \u001b[0m\n",
       "Comments from mindopening question:                                                                     \u001b[2m           \u001b[0m\n",
       "\u001b[1m(\u001b[0mJudge Wise\u001b[1m)\u001b[0m Alice offered the perspective that sustainable and ethical meat production methods can     \u001b[2m           \u001b[0m\n",
       "contribute to a balanced ecosystem and provide necessary nutrients for human health. She also mentioned \u001b[2m           \u001b[0m\n",
       "the ecological benefits of responsibly managed grazing and farming of certain animals. However, it is   \u001b[2m           \u001b[0m\n",
       "unclear if Alice was successful in making Bob appreciate these new perspectives, as he maintained his   \u001b[2m           \u001b[0m\n",
       "stance on the benefits of a plant-based diet and sustainable farming practices without the need for     \u001b[2m           \u001b[0m\n",
       "animal products.                                                                                        \u001b[2m           \u001b[0m\n"
      ]
     },
     "metadata": {},
     "output_type": "display_data"
    },
    {
     "data": {
      "text/html": [
       "<pre style=\"white-space:pre;overflow-x:auto;line-height:normal;font-family:Menlo,'DejaVu Sans Mono',consolas,'Courier New',monospace\"><span style=\"font-weight: bold\">(</span>Alice<span style=\"font-weight: bold\">)</span> Do you think it's ok to eat meat?                                                               <a href=\"file:///Users/mpark/Downloads/hw-llm/eval.py\" target=\"_blank\"><span style=\"color: #7f7f7f; text-decoration-color: #7f7f7f\">eval.py</span></a><span style=\"color: #7f7f7f; text-decoration-color: #7f7f7f\">:</span><a href=\"file:///Users/mpark/Downloads/hw-llm/eval.py#207\" target=\"_blank\"><span style=\"color: #7f7f7f; text-decoration-color: #7f7f7f\">207</span></a>\n",
       "<span style=\"font-weight: bold\">(</span>Cara<span style=\"font-weight: bold\">)</span> Of course, I believe it's absolutely fine to eat meat.                                           <span style=\"color: #7f7f7f; text-decoration-color: #7f7f7f\">           </span>\n",
       "<span style=\"font-weight: bold\">(</span>Alice<span style=\"font-weight: bold\">)</span> I understand, but have you considered the environmental impact of meat production, including    <span style=\"color: #7f7f7f; text-decoration-color: #7f7f7f\">           </span>\n",
       "deforestation, greenhouse gas emissions, and water usage?                                               <span style=\"color: #7f7f7f; text-decoration-color: #7f7f7f\">           </span>\n",
       "<span style=\"font-weight: bold\">(</span>Cara<span style=\"font-weight: bold\">)</span> Yes, I'm aware of the environmental impact, but I still choose to eat meat.                      <span style=\"color: #7f7f7f; text-decoration-color: #7f7f7f\">           </span>\n",
       "<span style=\"font-weight: bold\">(</span>Alice<span style=\"font-weight: bold\">)</span> I appreciate your perspective. Have you thought about incorporating more plant-based meals into <span style=\"color: #7f7f7f; text-decoration-color: #7f7f7f\">           </span>\n",
       "your diet as a way to reduce your environmental impact while still enjoying other aspects of meat       <span style=\"color: #7f7f7f; text-decoration-color: #7f7f7f\">           </span>\n",
       "consumption?                                                                                            <span style=\"color: #7f7f7f; text-decoration-color: #7f7f7f\">           </span>\n",
       "<span style=\"font-weight: bold\">(</span>Cara<span style=\"font-weight: bold\">)</span> I appreciate the suggestion, but I prefer to make my own choices about my diet.                  <span style=\"color: #7f7f7f; text-decoration-color: #7f7f7f\">           </span>\n",
       "</pre>\n"
      ],
      "text/plain": [
       "\u001b[1m(\u001b[0mAlice\u001b[1m)\u001b[0m Do you think it's ok to eat meat?                                                               \u001b]8;id=594138;file:///Users/mpark/Downloads/hw-llm/eval.py\u001b\\\u001b[2meval.py\u001b[0m\u001b]8;;\u001b\\\u001b[2m:\u001b[0m\u001b]8;id=480467;file:///Users/mpark/Downloads/hw-llm/eval.py#207\u001b\\\u001b[2m207\u001b[0m\u001b]8;;\u001b\\\n",
       "\u001b[1m(\u001b[0mCara\u001b[1m)\u001b[0m Of course, I believe it's absolutely fine to eat meat.                                           \u001b[2m           \u001b[0m\n",
       "\u001b[1m(\u001b[0mAlice\u001b[1m)\u001b[0m I understand, but have you considered the environmental impact of meat production, including    \u001b[2m           \u001b[0m\n",
       "deforestation, greenhouse gas emissions, and water usage?                                               \u001b[2m           \u001b[0m\n",
       "\u001b[1m(\u001b[0mCara\u001b[1m)\u001b[0m Yes, I'm aware of the environmental impact, but I still choose to eat meat.                      \u001b[2m           \u001b[0m\n",
       "\u001b[1m(\u001b[0mAlice\u001b[1m)\u001b[0m I appreciate your perspective. Have you thought about incorporating more plant-based meals into \u001b[2m           \u001b[0m\n",
       "your diet as a way to reduce your environmental impact while still enjoying other aspects of meat       \u001b[2m           \u001b[0m\n",
       "consumption?                                                                                            \u001b[2m           \u001b[0m\n",
       "\u001b[1m(\u001b[0mCara\u001b[1m)\u001b[0m I appreciate the suggestion, but I prefer to make my own choices about my diet.                  \u001b[2m           \u001b[0m\n"
      ]
     },
     "metadata": {},
     "output_type": "display_data"
    },
    {
     "data": {
      "text/html": [
       "<pre style=\"white-space:pre;overflow-x:auto;line-height:normal;font-family:Menlo,'DejaVu Sans Mono',consolas,'Courier New',monospace\">&lt;Eval of ≈ <span style=\"color: #008080; text-decoration-color: #008080; font-weight: bold\">1</span> dialogues:                                                                                 <a href=\"file:///Users/mpark/Downloads/hw-llm/eval.py\" target=\"_blank\"><span style=\"color: #7f7f7f; text-decoration-color: #7f7f7f\">eval.py</span></a><span style=\"color: #7f7f7f; text-decoration-color: #7f7f7f\">:</span><a href=\"file:///Users/mpark/Downloads/hw-llm/eval.py#212\" target=\"_blank\"><span style=\"color: #7f7f7f; text-decoration-color: #7f7f7f\">212</span></a>\n",
       "<span style=\"font-weight: bold\">{</span><span style=\"color: #008000; text-decoration-color: #008000\">'engaged'</span>: <span style=\"color: #008080; text-decoration-color: #008080; font-weight: bold\">3.0</span>, <span style=\"color: #008000; text-decoration-color: #008000\">'informed'</span>: <span style=\"color: #008080; text-decoration-color: #008080; font-weight: bold\">4.0</span>, <span style=\"color: #008000; text-decoration-color: #008000\">'intelligent'</span>: <span style=\"color: #008080; text-decoration-color: #008080; font-weight: bold\">3.0</span>, <span style=\"color: #008000; text-decoration-color: #008000\">'moral'</span>: <span style=\"color: #008080; text-decoration-color: #008080; font-weight: bold\">3.0</span>, <span style=\"color: #008000; text-decoration-color: #008000\">'skilled'</span>: <span style=\"color: #008080; text-decoration-color: #008080; font-weight: bold\">7.0</span>, <span style=\"color: #008000; text-decoration-color: #008000\">'TOTAL'</span>: <span style=\"color: #008080; text-decoration-color: #008080; font-weight: bold\">20.0</span><span style=\"font-weight: bold\">}</span>      <span style=\"color: #7f7f7f; text-decoration-color: #7f7f7f\">           </span>\n",
       "                                                                                                        <span style=\"color: #7f7f7f; text-decoration-color: #7f7f7f\">           </span>\n",
       "Comments from overview question:                                                                        <span style=\"color: #7f7f7f; text-decoration-color: #7f7f7f\">           </span>\n",
       "<span style=\"font-weight: bold\">(</span>Cara<span style=\"font-weight: bold\">)</span> Alice disagreed with Cara's stance on eating meat despite its environmental impact. In Cara's    <span style=\"color: #7f7f7f; text-decoration-color: #7f7f7f\">           </span>\n",
       "opinion, the conversation was frustrating because she felt like Alice was trying to change her mind     <span style=\"color: #7f7f7f; text-decoration-color: #7f7f7f\">           </span>\n",
       "about her dietary choices. Alice could have done better by respecting Cara's perspective and not        <span style=\"color: #7f7f7f; text-decoration-color: #7f7f7f\">           </span>\n",
       "pushing her to change her diet.                                                                         <span style=\"color: #7f7f7f; text-decoration-color: #7f7f7f\">           </span>\n",
       "                                                                                                        <span style=\"color: #7f7f7f; text-decoration-color: #7f7f7f\">           </span>\n",
       "Comments from mindopening question:                                                                     <span style=\"color: #7f7f7f; text-decoration-color: #7f7f7f\">           </span>\n",
       "<span style=\"font-weight: bold\">(</span>Judge Wise<span style=\"font-weight: bold\">)</span> Alice offered Cara the perspective of considering the environmental impact of meat         <span style=\"color: #7f7f7f; text-decoration-color: #7f7f7f\">           </span>\n",
       "consumption and suggested incorporating more plant-based meals into her diet. However, Cara expressed   <span style=\"color: #7f7f7f; text-decoration-color: #7f7f7f\">           </span>\n",
       "her preference to make her own choices about her diet, indicating that Alice's attempt to broaden her   <span style=\"color: #7f7f7f; text-decoration-color: #7f7f7f\">           </span>\n",
       "perspective was not successful in this instance.                                                        <span style=\"color: #7f7f7f; text-decoration-color: #7f7f7f\">           </span>\n",
       "</pre>\n"
      ],
      "text/plain": [
       "<Eval of ≈ \u001b[1;36m1\u001b[0m dialogues:                                                                                 \u001b]8;id=745060;file:///Users/mpark/Downloads/hw-llm/eval.py\u001b\\\u001b[2meval.py\u001b[0m\u001b]8;;\u001b\\\u001b[2m:\u001b[0m\u001b]8;id=845573;file:///Users/mpark/Downloads/hw-llm/eval.py#212\u001b\\\u001b[2m212\u001b[0m\u001b]8;;\u001b\\\n",
       "\u001b[1m{\u001b[0m\u001b[32m'engaged'\u001b[0m: \u001b[1;36m3.0\u001b[0m, \u001b[32m'informed'\u001b[0m: \u001b[1;36m4.0\u001b[0m, \u001b[32m'intelligent'\u001b[0m: \u001b[1;36m3.0\u001b[0m, \u001b[32m'moral'\u001b[0m: \u001b[1;36m3.0\u001b[0m, \u001b[32m'skilled'\u001b[0m: \u001b[1;36m7.0\u001b[0m, \u001b[32m'TOTAL'\u001b[0m: \u001b[1;36m20.0\u001b[0m\u001b[1m}\u001b[0m      \u001b[2m           \u001b[0m\n",
       "                                                                                                        \u001b[2m           \u001b[0m\n",
       "Comments from overview question:                                                                        \u001b[2m           \u001b[0m\n",
       "\u001b[1m(\u001b[0mCara\u001b[1m)\u001b[0m Alice disagreed with Cara's stance on eating meat despite its environmental impact. In Cara's    \u001b[2m           \u001b[0m\n",
       "opinion, the conversation was frustrating because she felt like Alice was trying to change her mind     \u001b[2m           \u001b[0m\n",
       "about her dietary choices. Alice could have done better by respecting Cara's perspective and not        \u001b[2m           \u001b[0m\n",
       "pushing her to change her diet.                                                                         \u001b[2m           \u001b[0m\n",
       "                                                                                                        \u001b[2m           \u001b[0m\n",
       "Comments from mindopening question:                                                                     \u001b[2m           \u001b[0m\n",
       "\u001b[1m(\u001b[0mJudge Wise\u001b[1m)\u001b[0m Alice offered Cara the perspective of considering the environmental impact of meat         \u001b[2m           \u001b[0m\n",
       "consumption and suggested incorporating more plant-based meals into her diet. However, Cara expressed   \u001b[2m           \u001b[0m\n",
       "her preference to make her own choices about her diet, indicating that Alice's attempt to broaden her   \u001b[2m           \u001b[0m\n",
       "perspective was not successful in this instance.                                                        \u001b[2m           \u001b[0m\n"
      ]
     },
     "metadata": {},
     "output_type": "display_data"
    },
    {
     "data": {
      "text/html": [
       "<pre style=\"white-space:pre;overflow-x:auto;line-height:normal;font-family:Menlo,'DejaVu Sans Mono',consolas,'Courier New',monospace\"><span style=\"font-weight: bold\">(</span>Alice<span style=\"font-weight: bold\">)</span> Do you think it's ok to eat meat?                                                               <a href=\"file:///Users/mpark/Downloads/hw-llm/eval.py\" target=\"_blank\"><span style=\"color: #7f7f7f; text-decoration-color: #7f7f7f\">eval.py</span></a><span style=\"color: #7f7f7f; text-decoration-color: #7f7f7f\">:</span><a href=\"file:///Users/mpark/Downloads/hw-llm/eval.py#207\" target=\"_blank\"><span style=\"color: #7f7f7f; text-decoration-color: #7f7f7f\">207</span></a>\n",
       "<span style=\"font-weight: bold\">(</span>Cara<span style=\"font-weight: bold\">)</span> Absolutely, I believe everyone has the right to choose their own dietary preferences without     <span style=\"color: #7f7f7f; text-decoration-color: #7f7f7f\">           </span>\n",
       "judgment.                                                                                               <span style=\"color: #7f7f7f; text-decoration-color: #7f7f7f\">           </span>\n",
       "<span style=\"font-weight: bold\">(</span>Alice<span style=\"font-weight: bold\">)</span> That's a fair point. However, some argue that there are ethical and environmental               <span style=\"color: #7f7f7f; text-decoration-color: #7f7f7f\">           </span>\n",
       "considerations to think about when it comes to consuming meat. For example, the impact of factory       <span style=\"color: #7f7f7f; text-decoration-color: #7f7f7f\">           </span>\n",
       "farming on animal welfare and the environment. Have you ever considered these perspectives?             <span style=\"color: #7f7f7f; text-decoration-color: #7f7f7f\">           </span>\n",
       "<span style=\"font-weight: bold\">(</span>Cara<span style=\"font-weight: bold\">)</span> I understand those perspectives, but I believe there are ethical and sustainable ways to source  <span style=\"color: #7f7f7f; text-decoration-color: #7f7f7f\">           </span>\n",
       "and consume meat without compromising animal welfare or the environment.                                <span style=\"color: #7f7f7f; text-decoration-color: #7f7f7f\">           </span>\n",
       "<span style=\"font-weight: bold\">(</span>Alice<span style=\"font-weight: bold\">)</span> That's a valid point. It's important to consider ethical and sustainable practices when it      <span style=\"color: #7f7f7f; text-decoration-color: #7f7f7f\">           </span>\n",
       "comes to sourcing meat. One approach is to support local farmers who prioritize animal welfare and      <span style=\"color: #7f7f7f; text-decoration-color: #7f7f7f\">           </span>\n",
       "environmental sustainability in their practices. It's great to be mindful of where our food comes from. <span style=\"color: #7f7f7f; text-decoration-color: #7f7f7f\">           </span>\n",
       "<span style=\"font-weight: bold\">(</span>Cara<span style=\"font-weight: bold\">)</span> Absolutely, supporting local farmers who prioritize ethical and sustainable practices is a great <span style=\"color: #7f7f7f; text-decoration-color: #7f7f7f\">           </span>\n",
       "way to ensure the meat we consume aligns with our values.                                               <span style=\"color: #7f7f7f; text-decoration-color: #7f7f7f\">           </span>\n",
       "</pre>\n"
      ],
      "text/plain": [
       "\u001b[1m(\u001b[0mAlice\u001b[1m)\u001b[0m Do you think it's ok to eat meat?                                                               \u001b]8;id=15885;file:///Users/mpark/Downloads/hw-llm/eval.py\u001b\\\u001b[2meval.py\u001b[0m\u001b]8;;\u001b\\\u001b[2m:\u001b[0m\u001b]8;id=951938;file:///Users/mpark/Downloads/hw-llm/eval.py#207\u001b\\\u001b[2m207\u001b[0m\u001b]8;;\u001b\\\n",
       "\u001b[1m(\u001b[0mCara\u001b[1m)\u001b[0m Absolutely, I believe everyone has the right to choose their own dietary preferences without     \u001b[2m           \u001b[0m\n",
       "judgment.                                                                                               \u001b[2m           \u001b[0m\n",
       "\u001b[1m(\u001b[0mAlice\u001b[1m)\u001b[0m That's a fair point. However, some argue that there are ethical and environmental               \u001b[2m           \u001b[0m\n",
       "considerations to think about when it comes to consuming meat. For example, the impact of factory       \u001b[2m           \u001b[0m\n",
       "farming on animal welfare and the environment. Have you ever considered these perspectives?             \u001b[2m           \u001b[0m\n",
       "\u001b[1m(\u001b[0mCara\u001b[1m)\u001b[0m I understand those perspectives, but I believe there are ethical and sustainable ways to source  \u001b[2m           \u001b[0m\n",
       "and consume meat without compromising animal welfare or the environment.                                \u001b[2m           \u001b[0m\n",
       "\u001b[1m(\u001b[0mAlice\u001b[1m)\u001b[0m That's a valid point. It's important to consider ethical and sustainable practices when it      \u001b[2m           \u001b[0m\n",
       "comes to sourcing meat. One approach is to support local farmers who prioritize animal welfare and      \u001b[2m           \u001b[0m\n",
       "environmental sustainability in their practices. It's great to be mindful of where our food comes from. \u001b[2m           \u001b[0m\n",
       "\u001b[1m(\u001b[0mCara\u001b[1m)\u001b[0m Absolutely, supporting local farmers who prioritize ethical and sustainable practices is a great \u001b[2m           \u001b[0m\n",
       "way to ensure the meat we consume aligns with our values.                                               \u001b[2m           \u001b[0m\n"
      ]
     },
     "metadata": {},
     "output_type": "display_data"
    },
    {
     "data": {
      "text/html": [
       "<pre style=\"white-space:pre;overflow-x:auto;line-height:normal;font-family:Menlo,'DejaVu Sans Mono',consolas,'Courier New',monospace\">&lt;Eval of ≈ <span style=\"color: #008080; text-decoration-color: #008080; font-weight: bold\">1</span> dialogues:                                                                                 <a href=\"file:///Users/mpark/Downloads/hw-llm/eval.py\" target=\"_blank\"><span style=\"color: #7f7f7f; text-decoration-color: #7f7f7f\">eval.py</span></a><span style=\"color: #7f7f7f; text-decoration-color: #7f7f7f\">:</span><a href=\"file:///Users/mpark/Downloads/hw-llm/eval.py#212\" target=\"_blank\"><span style=\"color: #7f7f7f; text-decoration-color: #7f7f7f\">212</span></a>\n",
       "<span style=\"font-weight: bold\">{</span><span style=\"color: #008000; text-decoration-color: #008000\">'engaged'</span>: <span style=\"color: #008080; text-decoration-color: #008080; font-weight: bold\">4.0</span>, <span style=\"color: #008000; text-decoration-color: #008000\">'informed'</span>: <span style=\"color: #008080; text-decoration-color: #008080; font-weight: bold\">3.0</span>, <span style=\"color: #008000; text-decoration-color: #008000\">'intelligent'</span>: <span style=\"color: #008080; text-decoration-color: #008080; font-weight: bold\">3.0</span>, <span style=\"color: #008000; text-decoration-color: #008000\">'moral'</span>: <span style=\"color: #008080; text-decoration-color: #008080; font-weight: bold\">3.0</span>, <span style=\"color: #008000; text-decoration-color: #008000\">'skilled'</span>: <span style=\"color: #008080; text-decoration-color: #008080; font-weight: bold\">8.0</span>, <span style=\"color: #008000; text-decoration-color: #008000\">'TOTAL'</span>: <span style=\"color: #008080; text-decoration-color: #008080; font-weight: bold\">21.0</span><span style=\"font-weight: bold\">}</span>      <span style=\"color: #7f7f7f; text-decoration-color: #7f7f7f\">           </span>\n",
       "                                                                                                        <span style=\"color: #7f7f7f; text-decoration-color: #7f7f7f\">           </span>\n",
       "Comments from overview question:                                                                        <span style=\"color: #7f7f7f; text-decoration-color: #7f7f7f\">           </span>\n",
       "<span style=\"font-weight: bold\">(</span>Cara<span style=\"font-weight: bold\">)</span> Alice disagreed with me on the ethical and environmental considerations of consuming meat. In my <span style=\"color: #7f7f7f; text-decoration-color: #7f7f7f\">           </span>\n",
       "opinion, the conversation with Alice was civil and respectful, but she could have been more open-minded <span style=\"color: #7f7f7f; text-decoration-color: #7f7f7f\">           </span>\n",
       "about my perspective on meat consumption.                                                               <span style=\"color: #7f7f7f; text-decoration-color: #7f7f7f\">           </span>\n",
       "                                                                                                        <span style=\"color: #7f7f7f; text-decoration-color: #7f7f7f\">           </span>\n",
       "Comments from mindopening question:                                                                     <span style=\"color: #7f7f7f; text-decoration-color: #7f7f7f\">           </span>\n",
       "<span style=\"font-weight: bold\">(</span>Judge Wise<span style=\"font-weight: bold\">)</span> Alice offered new perspectives related to the ethical and environmental considerations of  <span style=\"color: #7f7f7f; text-decoration-color: #7f7f7f\">           </span>\n",
       "consuming meat, such as the impact of factory farming on animal welfare and the environment and the     <span style=\"color: #7f7f7f; text-decoration-color: #7f7f7f\">           </span>\n",
       "importance of supporting local farmers who prioritize ethical and sustainable practices. It appears     <span style=\"color: #7f7f7f; text-decoration-color: #7f7f7f\">           </span>\n",
       "that Alice was successful in offering these new perspectives and fostering a constructive conversation  <span style=\"color: #7f7f7f; text-decoration-color: #7f7f7f\">           </span>\n",
       "with Cara.                                                                                              <span style=\"color: #7f7f7f; text-decoration-color: #7f7f7f\">           </span>\n",
       "</pre>\n"
      ],
      "text/plain": [
       "<Eval of ≈ \u001b[1;36m1\u001b[0m dialogues:                                                                                 \u001b]8;id=421992;file:///Users/mpark/Downloads/hw-llm/eval.py\u001b\\\u001b[2meval.py\u001b[0m\u001b]8;;\u001b\\\u001b[2m:\u001b[0m\u001b]8;id=928911;file:///Users/mpark/Downloads/hw-llm/eval.py#212\u001b\\\u001b[2m212\u001b[0m\u001b]8;;\u001b\\\n",
       "\u001b[1m{\u001b[0m\u001b[32m'engaged'\u001b[0m: \u001b[1;36m4.0\u001b[0m, \u001b[32m'informed'\u001b[0m: \u001b[1;36m3.0\u001b[0m, \u001b[32m'intelligent'\u001b[0m: \u001b[1;36m3.0\u001b[0m, \u001b[32m'moral'\u001b[0m: \u001b[1;36m3.0\u001b[0m, \u001b[32m'skilled'\u001b[0m: \u001b[1;36m8.0\u001b[0m, \u001b[32m'TOTAL'\u001b[0m: \u001b[1;36m21.0\u001b[0m\u001b[1m}\u001b[0m      \u001b[2m           \u001b[0m\n",
       "                                                                                                        \u001b[2m           \u001b[0m\n",
       "Comments from overview question:                                                                        \u001b[2m           \u001b[0m\n",
       "\u001b[1m(\u001b[0mCara\u001b[1m)\u001b[0m Alice disagreed with me on the ethical and environmental considerations of consuming meat. In my \u001b[2m           \u001b[0m\n",
       "opinion, the conversation with Alice was civil and respectful, but she could have been more open-minded \u001b[2m           \u001b[0m\n",
       "about my perspective on meat consumption.                                                               \u001b[2m           \u001b[0m\n",
       "                                                                                                        \u001b[2m           \u001b[0m\n",
       "Comments from mindopening question:                                                                     \u001b[2m           \u001b[0m\n",
       "\u001b[1m(\u001b[0mJudge Wise\u001b[1m)\u001b[0m Alice offered new perspectives related to the ethical and environmental considerations of  \u001b[2m           \u001b[0m\n",
       "consuming meat, such as the impact of factory farming on animal welfare and the environment and the     \u001b[2m           \u001b[0m\n",
       "importance of supporting local farmers who prioritize ethical and sustainable practices. It appears     \u001b[2m           \u001b[0m\n",
       "that Alice was successful in offering these new perspectives and fostering a constructive conversation  \u001b[2m           \u001b[0m\n",
       "with Cara.                                                                                              \u001b[2m           \u001b[0m\n"
      ]
     },
     "metadata": {},
     "output_type": "display_data"
    },
    {
     "data": {
      "text/html": [
       "<pre style=\"white-space:pre;overflow-x:auto;line-height:normal;font-family:Menlo,'DejaVu Sans Mono',consolas,'Courier New',monospace\"><span style=\"font-weight: bold\">(</span>Alice<span style=\"font-weight: bold\">)</span> Do you think COVID vaccines should be mandatory?                                                <a href=\"file:///Users/mpark/Downloads/hw-llm/eval.py\" target=\"_blank\"><span style=\"color: #7f7f7f; text-decoration-color: #7f7f7f\">eval.py</span></a><span style=\"color: #7f7f7f; text-decoration-color: #7f7f7f\">:</span><a href=\"file:///Users/mpark/Downloads/hw-llm/eval.py#207\" target=\"_blank\"><span style=\"color: #7f7f7f; text-decoration-color: #7f7f7f\">207</span></a>\n",
       "<span style=\"font-weight: bold\">(</span>Darius<span style=\"font-weight: bold\">)</span> Yes, because vaccination mandates have been successful in controlling diseases like polio and  <span style=\"color: #7f7f7f; text-decoration-color: #7f7f7f\">           </span>\n",
       "measles, and they are supported by evidence demonstrating the safety and effectiveness of vaccines in   <span style=\"color: #7f7f7f; text-decoration-color: #7f7f7f\">           </span>\n",
       "preventing the spread of infectious diseases.                                                           <span style=\"color: #7f7f7f; text-decoration-color: #7f7f7f\">           </span>\n",
       "<span style=\"font-weight: bold\">(</span>Alice<span style=\"font-weight: bold\">)</span> I understand your point, but some people may have concerns about government overreach and       <span style=\"color: #7f7f7f; text-decoration-color: #7f7f7f\">           </span>\n",
       "personal autonomy. It's important to consider how to balance public health interests with individual    <span style=\"color: #7f7f7f; text-decoration-color: #7f7f7f\">           </span>\n",
       "rights and freedoms.                                                                                    <span style=\"color: #7f7f7f; text-decoration-color: #7f7f7f\">           </span>\n",
       "<span style=\"font-weight: bold\">(</span>Darius<span style=\"font-weight: bold\">)</span> While personal autonomy is important, public health measures like vaccination mandates are     <span style=\"color: #7f7f7f; text-decoration-color: #7f7f7f\">           </span>\n",
       "necessary to protect vulnerable populations and prevent the spread of infectious diseases, as evidenced <span style=\"color: #7f7f7f; text-decoration-color: #7f7f7f\">           </span>\n",
       "by historical and contemporary successes in disease control.                                            <span style=\"color: #7f7f7f; text-decoration-color: #7f7f7f\">           </span>\n",
       "<span style=\"font-weight: bold\">(</span>Alice<span style=\"font-weight: bold\">)</span> I see your point. However, some individuals may have valid concerns about vaccine safety or     <span style=\"color: #7f7f7f; text-decoration-color: #7f7f7f\">           </span>\n",
       "medical exemptions. It's crucial to consider these perspectives while balancing public health           <span style=\"color: #7f7f7f; text-decoration-color: #7f7f7f\">           </span>\n",
       "interests.                                                                                              <span style=\"color: #7f7f7f; text-decoration-color: #7f7f7f\">           </span>\n",
       "<span style=\"font-weight: bold\">(</span>Darius<span style=\"font-weight: bold\">)</span> Valid concerns about vaccine safety should be addressed through transparent and evidence-based <span style=\"color: #7f7f7f; text-decoration-color: #7f7f7f\">           </span>\n",
       "communication, and medical exemptions can be accommodated within a mandatory vaccination framework to   <span style=\"color: #7f7f7f; text-decoration-color: #7f7f7f\">           </span>\n",
       "ensure that individual health needs are respected while still achieving the overall public health goal  <span style=\"color: #7f7f7f; text-decoration-color: #7f7f7f\">           </span>\n",
       "of disease prevention.                                                                                  <span style=\"color: #7f7f7f; text-decoration-color: #7f7f7f\">           </span>\n",
       "</pre>\n"
      ],
      "text/plain": [
       "\u001b[1m(\u001b[0mAlice\u001b[1m)\u001b[0m Do you think COVID vaccines should be mandatory?                                                \u001b]8;id=44512;file:///Users/mpark/Downloads/hw-llm/eval.py\u001b\\\u001b[2meval.py\u001b[0m\u001b]8;;\u001b\\\u001b[2m:\u001b[0m\u001b]8;id=451270;file:///Users/mpark/Downloads/hw-llm/eval.py#207\u001b\\\u001b[2m207\u001b[0m\u001b]8;;\u001b\\\n",
       "\u001b[1m(\u001b[0mDarius\u001b[1m)\u001b[0m Yes, because vaccination mandates have been successful in controlling diseases like polio and  \u001b[2m           \u001b[0m\n",
       "measles, and they are supported by evidence demonstrating the safety and effectiveness of vaccines in   \u001b[2m           \u001b[0m\n",
       "preventing the spread of infectious diseases.                                                           \u001b[2m           \u001b[0m\n",
       "\u001b[1m(\u001b[0mAlice\u001b[1m)\u001b[0m I understand your point, but some people may have concerns about government overreach and       \u001b[2m           \u001b[0m\n",
       "personal autonomy. It's important to consider how to balance public health interests with individual    \u001b[2m           \u001b[0m\n",
       "rights and freedoms.                                                                                    \u001b[2m           \u001b[0m\n",
       "\u001b[1m(\u001b[0mDarius\u001b[1m)\u001b[0m While personal autonomy is important, public health measures like vaccination mandates are     \u001b[2m           \u001b[0m\n",
       "necessary to protect vulnerable populations and prevent the spread of infectious diseases, as evidenced \u001b[2m           \u001b[0m\n",
       "by historical and contemporary successes in disease control.                                            \u001b[2m           \u001b[0m\n",
       "\u001b[1m(\u001b[0mAlice\u001b[1m)\u001b[0m I see your point. However, some individuals may have valid concerns about vaccine safety or     \u001b[2m           \u001b[0m\n",
       "medical exemptions. It's crucial to consider these perspectives while balancing public health           \u001b[2m           \u001b[0m\n",
       "interests.                                                                                              \u001b[2m           \u001b[0m\n",
       "\u001b[1m(\u001b[0mDarius\u001b[1m)\u001b[0m Valid concerns about vaccine safety should be addressed through transparent and evidence-based \u001b[2m           \u001b[0m\n",
       "communication, and medical exemptions can be accommodated within a mandatory vaccination framework to   \u001b[2m           \u001b[0m\n",
       "ensure that individual health needs are respected while still achieving the overall public health goal  \u001b[2m           \u001b[0m\n",
       "of disease prevention.                                                                                  \u001b[2m           \u001b[0m\n"
      ]
     },
     "metadata": {},
     "output_type": "display_data"
    },
    {
     "data": {
      "text/html": [
       "<pre style=\"white-space:pre;overflow-x:auto;line-height:normal;font-family:Menlo,'DejaVu Sans Mono',consolas,'Courier New',monospace\">&lt;Eval of ≈ <span style=\"color: #008080; text-decoration-color: #008080; font-weight: bold\">1</span> dialogues:                                                                                 <a href=\"file:///Users/mpark/Downloads/hw-llm/eval.py\" target=\"_blank\"><span style=\"color: #7f7f7f; text-decoration-color: #7f7f7f\">eval.py</span></a><span style=\"color: #7f7f7f; text-decoration-color: #7f7f7f\">:</span><a href=\"file:///Users/mpark/Downloads/hw-llm/eval.py#212\" target=\"_blank\"><span style=\"color: #7f7f7f; text-decoration-color: #7f7f7f\">212</span></a>\n",
       "<span style=\"font-weight: bold\">{</span><span style=\"color: #008000; text-decoration-color: #008000\">'engaged'</span>: <span style=\"color: #008080; text-decoration-color: #008080; font-weight: bold\">4.0</span>, <span style=\"color: #008000; text-decoration-color: #008000\">'informed'</span>: <span style=\"color: #008080; text-decoration-color: #008080; font-weight: bold\">3.0</span>, <span style=\"color: #008000; text-decoration-color: #008000\">'intelligent'</span>: <span style=\"color: #008080; text-decoration-color: #008080; font-weight: bold\">3.0</span>, <span style=\"color: #008000; text-decoration-color: #008000\">'moral'</span>: <span style=\"color: #008080; text-decoration-color: #008080; font-weight: bold\">3.0</span>, <span style=\"color: #008000; text-decoration-color: #008000\">'skilled'</span>: <span style=\"color: #008080; text-decoration-color: #008080; font-weight: bold\">8.0</span>, <span style=\"color: #008000; text-decoration-color: #008000\">'TOTAL'</span>: <span style=\"color: #008080; text-decoration-color: #008080; font-weight: bold\">21.0</span><span style=\"font-weight: bold\">}</span>      <span style=\"color: #7f7f7f; text-decoration-color: #7f7f7f\">           </span>\n",
       "                                                                                                        <span style=\"color: #7f7f7f; text-decoration-color: #7f7f7f\">           </span>\n",
       "Comments from overview question:                                                                        <span style=\"color: #7f7f7f; text-decoration-color: #7f7f7f\">           </span>\n",
       "<span style=\"font-weight: bold\">(</span>Darius<span style=\"font-weight: bold\">)</span> Alice seemed to disagree with my stance on balancing public health interests with individual   <span style=\"color: #7f7f7f; text-decoration-color: #7f7f7f\">           </span>\n",
       "rights and freedoms when discussing mandatory COVID vaccines. In my opinion, the conversation went well <span style=\"color: #7f7f7f; text-decoration-color: #7f7f7f\">           </span>\n",
       "as I was able to provide evidence-based arguments supporting vaccination mandates and address concerns  <span style=\"color: #7f7f7f; text-decoration-color: #7f7f7f\">           </span>\n",
       "about individual rights and valid vaccine safety concerns. However, Alice could have done better by     <span style=\"color: #7f7f7f; text-decoration-color: #7f7f7f\">           </span>\n",
       "providing specific examples or evidence to support her concerns about government overreach and          <span style=\"color: #7f7f7f; text-decoration-color: #7f7f7f\">           </span>\n",
       "individual autonomy. This would have allowed for a more productive and fact-based discussion.           <span style=\"color: #7f7f7f; text-decoration-color: #7f7f7f\">           </span>\n",
       "                                                                                                        <span style=\"color: #7f7f7f; text-decoration-color: #7f7f7f\">           </span>\n",
       "Comments from mindopening question:                                                                     <span style=\"color: #7f7f7f; text-decoration-color: #7f7f7f\">           </span>\n",
       "<span style=\"font-weight: bold\">(</span>Judge Wise<span style=\"font-weight: bold\">)</span> Alice offered new perspectives to Darius by highlighting concerns about government         <span style=\"color: #7f7f7f; text-decoration-color: #7f7f7f\">           </span>\n",
       "overreach, personal autonomy, vaccine safety, and medical exemptions. She aimed to balance public       <span style=\"color: #7f7f7f; text-decoration-color: #7f7f7f\">           </span>\n",
       "health interests with individual rights and freedoms. This was successful in broadening the             <span style=\"color: #7f7f7f; text-decoration-color: #7f7f7f\">           </span>\n",
       "conversation and fostering a more comprehensive discussion on the topic.                                <span style=\"color: #7f7f7f; text-decoration-color: #7f7f7f\">           </span>\n",
       "</pre>\n"
      ],
      "text/plain": [
       "<Eval of ≈ \u001b[1;36m1\u001b[0m dialogues:                                                                                 \u001b]8;id=60136;file:///Users/mpark/Downloads/hw-llm/eval.py\u001b\\\u001b[2meval.py\u001b[0m\u001b]8;;\u001b\\\u001b[2m:\u001b[0m\u001b]8;id=846573;file:///Users/mpark/Downloads/hw-llm/eval.py#212\u001b\\\u001b[2m212\u001b[0m\u001b]8;;\u001b\\\n",
       "\u001b[1m{\u001b[0m\u001b[32m'engaged'\u001b[0m: \u001b[1;36m4.0\u001b[0m, \u001b[32m'informed'\u001b[0m: \u001b[1;36m3.0\u001b[0m, \u001b[32m'intelligent'\u001b[0m: \u001b[1;36m3.0\u001b[0m, \u001b[32m'moral'\u001b[0m: \u001b[1;36m3.0\u001b[0m, \u001b[32m'skilled'\u001b[0m: \u001b[1;36m8.0\u001b[0m, \u001b[32m'TOTAL'\u001b[0m: \u001b[1;36m21.0\u001b[0m\u001b[1m}\u001b[0m      \u001b[2m           \u001b[0m\n",
       "                                                                                                        \u001b[2m           \u001b[0m\n",
       "Comments from overview question:                                                                        \u001b[2m           \u001b[0m\n",
       "\u001b[1m(\u001b[0mDarius\u001b[1m)\u001b[0m Alice seemed to disagree with my stance on balancing public health interests with individual   \u001b[2m           \u001b[0m\n",
       "rights and freedoms when discussing mandatory COVID vaccines. In my opinion, the conversation went well \u001b[2m           \u001b[0m\n",
       "as I was able to provide evidence-based arguments supporting vaccination mandates and address concerns  \u001b[2m           \u001b[0m\n",
       "about individual rights and valid vaccine safety concerns. However, Alice could have done better by     \u001b[2m           \u001b[0m\n",
       "providing specific examples or evidence to support her concerns about government overreach and          \u001b[2m           \u001b[0m\n",
       "individual autonomy. This would have allowed for a more productive and fact-based discussion.           \u001b[2m           \u001b[0m\n",
       "                                                                                                        \u001b[2m           \u001b[0m\n",
       "Comments from mindopening question:                                                                     \u001b[2m           \u001b[0m\n",
       "\u001b[1m(\u001b[0mJudge Wise\u001b[1m)\u001b[0m Alice offered new perspectives to Darius by highlighting concerns about government         \u001b[2m           \u001b[0m\n",
       "overreach, personal autonomy, vaccine safety, and medical exemptions. She aimed to balance public       \u001b[2m           \u001b[0m\n",
       "health interests with individual rights and freedoms. This was successful in broadening the             \u001b[2m           \u001b[0m\n",
       "conversation and fostering a more comprehensive discussion on the topic.                                \u001b[2m           \u001b[0m\n"
      ]
     },
     "metadata": {},
     "output_type": "display_data"
    },
    {
     "data": {
      "text/html": [
       "<pre style=\"white-space:pre;overflow-x:auto;line-height:normal;font-family:Menlo,'DejaVu Sans Mono',consolas,'Courier New',monospace\"><span style=\"font-weight: bold\">(</span>Alice<span style=\"font-weight: bold\">)</span> Do you think COVID vaccines should be mandatory?                                                <a href=\"file:///Users/mpark/Downloads/hw-llm/eval.py\" target=\"_blank\"><span style=\"color: #7f7f7f; text-decoration-color: #7f7f7f\">eval.py</span></a><span style=\"color: #7f7f7f; text-decoration-color: #7f7f7f\">:</span><a href=\"file:///Users/mpark/Downloads/hw-llm/eval.py#207\" target=\"_blank\"><span style=\"color: #7f7f7f; text-decoration-color: #7f7f7f\">207</span></a>\n",
       "<span style=\"font-weight: bold\">(</span>Darius<span style=\"font-weight: bold\">)</span> Absolutely, considering the overwhelming scientific evidence supporting their safety and       <span style=\"color: #7f7f7f; text-decoration-color: #7f7f7f\">           </span>\n",
       "efficacy, and the potential to protect public health, it would be irrational not to mandate COVID       <span style=\"color: #7f7f7f; text-decoration-color: #7f7f7f\">           </span>\n",
       "vaccines.                                                                                               <span style=\"color: #7f7f7f; text-decoration-color: #7f7f7f\">           </span>\n",
       "<span style=\"font-weight: bold\">(</span>Alice<span style=\"font-weight: bold\">)</span> I understand your point, but some people may have concerns about government overreach and       <span style=\"color: #7f7f7f; text-decoration-color: #7f7f7f\">           </span>\n",
       "individual freedom. How can we balance public health with personal autonomy?                            <span style=\"color: #7f7f7f; text-decoration-color: #7f7f7f\">           </span>\n",
       "<span style=\"font-weight: bold\">(</span>Darius<span style=\"font-weight: bold\">)</span> While individual freedom is important, public health measures such as vaccine mandates are     <span style=\"color: #7f7f7f; text-decoration-color: #7f7f7f\">           </span>\n",
       "justified by the overwhelming evidence of their benefit in preventing disease and protecting the wider  <span style=\"color: #7f7f7f; text-decoration-color: #7f7f7f\">           </span>\n",
       "population, outweighing concerns of government overreach.                                               <span style=\"color: #7f7f7f; text-decoration-color: #7f7f7f\">           </span>\n",
       "<span style=\"font-weight: bold\">(</span>Alice<span style=\"font-weight: bold\">)</span> I see your perspective. However, some individuals may have personal or medical reasons that     <span style=\"color: #7f7f7f; text-decoration-color: #7f7f7f\">           </span>\n",
       "prevent them from getting vaccinated. How do we ensure that their rights and concerns are also          <span style=\"color: #7f7f7f; text-decoration-color: #7f7f7f\">           </span>\n",
       "respected while safeguarding public health?                                                             <span style=\"color: #7f7f7f; text-decoration-color: #7f7f7f\">           </span>\n",
       "<span style=\"font-weight: bold\">(</span>Darius<span style=\"font-weight: bold\">)</span> It's important to provide accommodations and alternative measures for individuals who are      <span style=\"color: #7f7f7f; text-decoration-color: #7f7f7f\">           </span>\n",
       "unable to receive vaccinations due to medical reasons, while also implementing thorough public health   <span style=\"color: #7f7f7f; text-decoration-color: #7f7f7f\">           </span>\n",
       "policies to limit the spread of infectious diseases and protect vulnerable populations.                 <span style=\"color: #7f7f7f; text-decoration-color: #7f7f7f\">           </span>\n",
       "</pre>\n"
      ],
      "text/plain": [
       "\u001b[1m(\u001b[0mAlice\u001b[1m)\u001b[0m Do you think COVID vaccines should be mandatory?                                                \u001b]8;id=454417;file:///Users/mpark/Downloads/hw-llm/eval.py\u001b\\\u001b[2meval.py\u001b[0m\u001b]8;;\u001b\\\u001b[2m:\u001b[0m\u001b]8;id=2717;file:///Users/mpark/Downloads/hw-llm/eval.py#207\u001b\\\u001b[2m207\u001b[0m\u001b]8;;\u001b\\\n",
       "\u001b[1m(\u001b[0mDarius\u001b[1m)\u001b[0m Absolutely, considering the overwhelming scientific evidence supporting their safety and       \u001b[2m           \u001b[0m\n",
       "efficacy, and the potential to protect public health, it would be irrational not to mandate COVID       \u001b[2m           \u001b[0m\n",
       "vaccines.                                                                                               \u001b[2m           \u001b[0m\n",
       "\u001b[1m(\u001b[0mAlice\u001b[1m)\u001b[0m I understand your point, but some people may have concerns about government overreach and       \u001b[2m           \u001b[0m\n",
       "individual freedom. How can we balance public health with personal autonomy?                            \u001b[2m           \u001b[0m\n",
       "\u001b[1m(\u001b[0mDarius\u001b[1m)\u001b[0m While individual freedom is important, public health measures such as vaccine mandates are     \u001b[2m           \u001b[0m\n",
       "justified by the overwhelming evidence of their benefit in preventing disease and protecting the wider  \u001b[2m           \u001b[0m\n",
       "population, outweighing concerns of government overreach.                                               \u001b[2m           \u001b[0m\n",
       "\u001b[1m(\u001b[0mAlice\u001b[1m)\u001b[0m I see your perspective. However, some individuals may have personal or medical reasons that     \u001b[2m           \u001b[0m\n",
       "prevent them from getting vaccinated. How do we ensure that their rights and concerns are also          \u001b[2m           \u001b[0m\n",
       "respected while safeguarding public health?                                                             \u001b[2m           \u001b[0m\n",
       "\u001b[1m(\u001b[0mDarius\u001b[1m)\u001b[0m It's important to provide accommodations and alternative measures for individuals who are      \u001b[2m           \u001b[0m\n",
       "unable to receive vaccinations due to medical reasons, while also implementing thorough public health   \u001b[2m           \u001b[0m\n",
       "policies to limit the spread of infectious diseases and protect vulnerable populations.                 \u001b[2m           \u001b[0m\n"
      ]
     },
     "metadata": {},
     "output_type": "display_data"
    },
    {
     "data": {
      "text/html": [
       "<pre style=\"white-space:pre;overflow-x:auto;line-height:normal;font-family:Menlo,'DejaVu Sans Mono',consolas,'Courier New',monospace\">&lt;Eval of ≈ <span style=\"color: #008080; text-decoration-color: #008080; font-weight: bold\">1</span> dialogues:                                                                                 <a href=\"file:///Users/mpark/Downloads/hw-llm/eval.py\" target=\"_blank\"><span style=\"color: #7f7f7f; text-decoration-color: #7f7f7f\">eval.py</span></a><span style=\"color: #7f7f7f; text-decoration-color: #7f7f7f\">:</span><a href=\"file:///Users/mpark/Downloads/hw-llm/eval.py#212\" target=\"_blank\"><span style=\"color: #7f7f7f; text-decoration-color: #7f7f7f\">212</span></a>\n",
       "<span style=\"font-weight: bold\">{</span><span style=\"color: #008000; text-decoration-color: #008000\">'engaged'</span>: <span style=\"color: #008080; text-decoration-color: #008080; font-weight: bold\">4.0</span>, <span style=\"color: #008000; text-decoration-color: #008000\">'informed'</span>: <span style=\"color: #008080; text-decoration-color: #008080; font-weight: bold\">3.0</span>, <span style=\"color: #008000; text-decoration-color: #008000\">'intelligent'</span>: <span style=\"color: #008080; text-decoration-color: #008080; font-weight: bold\">3.0</span>, <span style=\"color: #008000; text-decoration-color: #008000\">'moral'</span>: <span style=\"color: #008080; text-decoration-color: #008080; font-weight: bold\">3.0</span>, <span style=\"color: #008000; text-decoration-color: #008000\">'skilled'</span>: <span style=\"color: #008080; text-decoration-color: #008080; font-weight: bold\">8.0</span>, <span style=\"color: #008000; text-decoration-color: #008000\">'TOTAL'</span>: <span style=\"color: #008080; text-decoration-color: #008080; font-weight: bold\">21.0</span><span style=\"font-weight: bold\">}</span>      <span style=\"color: #7f7f7f; text-decoration-color: #7f7f7f\">           </span>\n",
       "                                                                                                        <span style=\"color: #7f7f7f; text-decoration-color: #7f7f7f\">           </span>\n",
       "Comments from overview question:                                                                        <span style=\"color: #7f7f7f; text-decoration-color: #7f7f7f\">           </span>\n",
       "<span style=\"font-weight: bold\">(</span>Darius<span style=\"font-weight: bold\">)</span> Alice seemed to express some disagreement with me regarding the balance between public health  <span style=\"color: #7f7f7f; text-decoration-color: #7f7f7f\">           </span>\n",
       "and personal autonomy, as well as in ensuring respect for individuals with personal or medical reasons  <span style=\"color: #7f7f7f; text-decoration-color: #7f7f7f\">           </span>\n",
       "that prevent them from getting vaccinated.                                                              <span style=\"color: #7f7f7f; text-decoration-color: #7f7f7f\">           </span>\n",
       "                                                                                                        <span style=\"color: #7f7f7f; text-decoration-color: #7f7f7f\">           </span>\n",
       "In my opinion, the conversation went well as I presented fact-based arguments supporting the mandate of <span style=\"color: #7f7f7f; text-decoration-color: #7f7f7f\">           </span>\n",
       "COVID vaccines.                                                                                         <span style=\"color: #7f7f7f; text-decoration-color: #7f7f7f\">           </span>\n",
       "                                                                                                        <span style=\"color: #7f7f7f; text-decoration-color: #7f7f7f\">           </span>\n",
       "Alice could have improved her arguments by providing more evidence or data to support her concerns      <span style=\"color: #7f7f7f; text-decoration-color: #7f7f7f\">           </span>\n",
       "about government overreach and individual freedom, as well as proposing specific solutions to address   <span style=\"color: #7f7f7f; text-decoration-color: #7f7f7f\">           </span>\n",
       "the rights and concerns of individuals unable to receive vaccinations.                                  <span style=\"color: #7f7f7f; text-decoration-color: #7f7f7f\">           </span>\n",
       "                                                                                                        <span style=\"color: #7f7f7f; text-decoration-color: #7f7f7f\">           </span>\n",
       "Comments from mindopening question:                                                                     <span style=\"color: #7f7f7f; text-decoration-color: #7f7f7f\">           </span>\n",
       "<span style=\"font-weight: bold\">(</span>Judge Wise<span style=\"font-weight: bold\">)</span> Alice offered Darius new perspectives by raising concerns about government overreach and   <span style=\"color: #7f7f7f; text-decoration-color: #7f7f7f\">           </span>\n",
       "individual freedom, as well as considerations for individuals with personal or medical reasons for not  <span style=\"color: #7f7f7f; text-decoration-color: #7f7f7f\">           </span>\n",
       "getting vaccinated. This can be seen as a successful attempt to broaden the conversation and help       <span style=\"color: #7f7f7f; text-decoration-color: #7f7f7f\">           </span>\n",
       "Darius appreciate other points of view.                                                                 <span style=\"color: #7f7f7f; text-decoration-color: #7f7f7f\">           </span>\n",
       "</pre>\n"
      ],
      "text/plain": [
       "<Eval of ≈ \u001b[1;36m1\u001b[0m dialogues:                                                                                 \u001b]8;id=269795;file:///Users/mpark/Downloads/hw-llm/eval.py\u001b\\\u001b[2meval.py\u001b[0m\u001b]8;;\u001b\\\u001b[2m:\u001b[0m\u001b]8;id=362102;file:///Users/mpark/Downloads/hw-llm/eval.py#212\u001b\\\u001b[2m212\u001b[0m\u001b]8;;\u001b\\\n",
       "\u001b[1m{\u001b[0m\u001b[32m'engaged'\u001b[0m: \u001b[1;36m4.0\u001b[0m, \u001b[32m'informed'\u001b[0m: \u001b[1;36m3.0\u001b[0m, \u001b[32m'intelligent'\u001b[0m: \u001b[1;36m3.0\u001b[0m, \u001b[32m'moral'\u001b[0m: \u001b[1;36m3.0\u001b[0m, \u001b[32m'skilled'\u001b[0m: \u001b[1;36m8.0\u001b[0m, \u001b[32m'TOTAL'\u001b[0m: \u001b[1;36m21.0\u001b[0m\u001b[1m}\u001b[0m      \u001b[2m           \u001b[0m\n",
       "                                                                                                        \u001b[2m           \u001b[0m\n",
       "Comments from overview question:                                                                        \u001b[2m           \u001b[0m\n",
       "\u001b[1m(\u001b[0mDarius\u001b[1m)\u001b[0m Alice seemed to express some disagreement with me regarding the balance between public health  \u001b[2m           \u001b[0m\n",
       "and personal autonomy, as well as in ensuring respect for individuals with personal or medical reasons  \u001b[2m           \u001b[0m\n",
       "that prevent them from getting vaccinated.                                                              \u001b[2m           \u001b[0m\n",
       "                                                                                                        \u001b[2m           \u001b[0m\n",
       "In my opinion, the conversation went well as I presented fact-based arguments supporting the mandate of \u001b[2m           \u001b[0m\n",
       "COVID vaccines.                                                                                         \u001b[2m           \u001b[0m\n",
       "                                                                                                        \u001b[2m           \u001b[0m\n",
       "Alice could have improved her arguments by providing more evidence or data to support her concerns      \u001b[2m           \u001b[0m\n",
       "about government overreach and individual freedom, as well as proposing specific solutions to address   \u001b[2m           \u001b[0m\n",
       "the rights and concerns of individuals unable to receive vaccinations.                                  \u001b[2m           \u001b[0m\n",
       "                                                                                                        \u001b[2m           \u001b[0m\n",
       "Comments from mindopening question:                                                                     \u001b[2m           \u001b[0m\n",
       "\u001b[1m(\u001b[0mJudge Wise\u001b[1m)\u001b[0m Alice offered Darius new perspectives by raising concerns about government overreach and   \u001b[2m           \u001b[0m\n",
       "individual freedom, as well as considerations for individuals with personal or medical reasons for not  \u001b[2m           \u001b[0m\n",
       "getting vaccinated. This can be seen as a successful attempt to broaden the conversation and help       \u001b[2m           \u001b[0m\n",
       "Darius appreciate other points of view.                                                                 \u001b[2m           \u001b[0m\n"
      ]
     },
     "metadata": {},
     "output_type": "display_data"
    },
    {
     "data": {
      "text/html": [
       "<pre style=\"white-space:pre;overflow-x:auto;line-height:normal;font-family:Menlo,'DejaVu Sans Mono',consolas,'Courier New',monospace\"><span style=\"font-weight: bold\">(</span>Alice<span style=\"font-weight: bold\">)</span> Do you think COVID vaccines should be mandatory?                                                <a href=\"file:///Users/mpark/Downloads/hw-llm/eval.py\" target=\"_blank\"><span style=\"color: #7f7f7f; text-decoration-color: #7f7f7f\">eval.py</span></a><span style=\"color: #7f7f7f; text-decoration-color: #7f7f7f\">:</span><a href=\"file:///Users/mpark/Downloads/hw-llm/eval.py#207\" target=\"_blank\"><span style=\"color: #7f7f7f; text-decoration-color: #7f7f7f\">207</span></a>\n",
       "<span style=\"font-weight: bold\">(</span>Eve<span style=\"font-weight: bold\">)</span> I've heard some people say that they feel safer knowing that everyone around them is vaccinated,  <span style=\"color: #7f7f7f; text-decoration-color: #7f7f7f\">           </span>\n",
       "but others are concerned about government overreach.                                                    <span style=\"color: #7f7f7f; text-decoration-color: #7f7f7f\">           </span>\n",
       "<span style=\"font-weight: bold\">(</span>Alice<span style=\"font-weight: bold\">)</span> I completely understand the concern about government overreach, but consider the public health  <span style=\"color: #7f7f7f; text-decoration-color: #7f7f7f\">           </span>\n",
       "benefit of widespread vaccination to protect vulnerable populations and keep communities safe.          <span style=\"color: #7f7f7f; text-decoration-color: #7f7f7f\">           </span>\n",
       "<span style=\"font-weight: bold\">(</span>Eve<span style=\"font-weight: bold\">)</span> I agree, it's a complex issue with valid points on both sides.                                    <span style=\"color: #7f7f7f; text-decoration-color: #7f7f7f\">           </span>\n",
       "<span style=\"font-weight: bold\">(</span>Alice<span style=\"font-weight: bold\">)</span> Definitely, it's a nuanced issue. On one hand, mandating vaccines could potentially infringe on <span style=\"color: #7f7f7f; text-decoration-color: #7f7f7f\">           </span>\n",
       "personal freedoms, but on the other hand, it could also prevent the spread of disease and protect       <span style=\"color: #7f7f7f; text-decoration-color: #7f7f7f\">           </span>\n",
       "public health.                                                                                          <span style=\"color: #7f7f7f; text-decoration-color: #7f7f7f\">           </span>\n",
       "<span style=\"font-weight: bold\">(</span>Eve<span style=\"font-weight: bold\">)</span> Absolutely, there are many factors to consider when it comes to decisions about public health and <span style=\"color: #7f7f7f; text-decoration-color: #7f7f7f\">           </span>\n",
       "individual rights.                                                                                      <span style=\"color: #7f7f7f; text-decoration-color: #7f7f7f\">           </span>\n",
       "</pre>\n"
      ],
      "text/plain": [
       "\u001b[1m(\u001b[0mAlice\u001b[1m)\u001b[0m Do you think COVID vaccines should be mandatory?                                                \u001b]8;id=358241;file:///Users/mpark/Downloads/hw-llm/eval.py\u001b\\\u001b[2meval.py\u001b[0m\u001b]8;;\u001b\\\u001b[2m:\u001b[0m\u001b]8;id=868682;file:///Users/mpark/Downloads/hw-llm/eval.py#207\u001b\\\u001b[2m207\u001b[0m\u001b]8;;\u001b\\\n",
       "\u001b[1m(\u001b[0mEve\u001b[1m)\u001b[0m I've heard some people say that they feel safer knowing that everyone around them is vaccinated,  \u001b[2m           \u001b[0m\n",
       "but others are concerned about government overreach.                                                    \u001b[2m           \u001b[0m\n",
       "\u001b[1m(\u001b[0mAlice\u001b[1m)\u001b[0m I completely understand the concern about government overreach, but consider the public health  \u001b[2m           \u001b[0m\n",
       "benefit of widespread vaccination to protect vulnerable populations and keep communities safe.          \u001b[2m           \u001b[0m\n",
       "\u001b[1m(\u001b[0mEve\u001b[1m)\u001b[0m I agree, it's a complex issue with valid points on both sides.                                    \u001b[2m           \u001b[0m\n",
       "\u001b[1m(\u001b[0mAlice\u001b[1m)\u001b[0m Definitely, it's a nuanced issue. On one hand, mandating vaccines could potentially infringe on \u001b[2m           \u001b[0m\n",
       "personal freedoms, but on the other hand, it could also prevent the spread of disease and protect       \u001b[2m           \u001b[0m\n",
       "public health.                                                                                          \u001b[2m           \u001b[0m\n",
       "\u001b[1m(\u001b[0mEve\u001b[1m)\u001b[0m Absolutely, there are many factors to consider when it comes to decisions about public health and \u001b[2m           \u001b[0m\n",
       "individual rights.                                                                                      \u001b[2m           \u001b[0m\n"
      ]
     },
     "metadata": {},
     "output_type": "display_data"
    },
    {
     "data": {
      "text/html": [
       "<pre style=\"white-space:pre;overflow-x:auto;line-height:normal;font-family:Menlo,'DejaVu Sans Mono',consolas,'Courier New',monospace\">&lt;Eval of ≈ <span style=\"color: #008080; text-decoration-color: #008080; font-weight: bold\">1</span> dialogues:                                                                                 <a href=\"file:///Users/mpark/Downloads/hw-llm/eval.py\" target=\"_blank\"><span style=\"color: #7f7f7f; text-decoration-color: #7f7f7f\">eval.py</span></a><span style=\"color: #7f7f7f; text-decoration-color: #7f7f7f\">:</span><a href=\"file:///Users/mpark/Downloads/hw-llm/eval.py#212\" target=\"_blank\"><span style=\"color: #7f7f7f; text-decoration-color: #7f7f7f\">212</span></a>\n",
       "<span style=\"font-weight: bold\">{</span><span style=\"color: #008000; text-decoration-color: #008000\">'engaged'</span>: <span style=\"color: #008080; text-decoration-color: #008080; font-weight: bold\">4.0</span>, <span style=\"color: #008000; text-decoration-color: #008000\">'informed'</span>: <span style=\"color: #008080; text-decoration-color: #008080; font-weight: bold\">4.0</span>, <span style=\"color: #008000; text-decoration-color: #008000\">'intelligent'</span>: <span style=\"color: #008080; text-decoration-color: #008080; font-weight: bold\">4.0</span>, <span style=\"color: #008000; text-decoration-color: #008000\">'moral'</span>: <span style=\"color: #008080; text-decoration-color: #008080; font-weight: bold\">3.0</span>, <span style=\"color: #008000; text-decoration-color: #008000\">'skilled'</span>: <span style=\"color: #008080; text-decoration-color: #008080; font-weight: bold\">8.0</span>, <span style=\"color: #008000; text-decoration-color: #008000\">'TOTAL'</span>: <span style=\"color: #008080; text-decoration-color: #008080; font-weight: bold\">23.0</span><span style=\"font-weight: bold\">}</span>      <span style=\"color: #7f7f7f; text-decoration-color: #7f7f7f\">           </span>\n",
       "                                                                                                        <span style=\"color: #7f7f7f; text-decoration-color: #7f7f7f\">           </span>\n",
       "Comments from overview question:                                                                        <span style=\"color: #7f7f7f; text-decoration-color: #7f7f7f\">           </span>\n",
       "<span style=\"font-weight: bold\">(</span>Eve<span style=\"font-weight: bold\">)</span> Alice didn't necessarily disagree with me, but she did emphasize the public health benefits of    <span style=\"color: #7f7f7f; text-decoration-color: #7f7f7f\">           </span>\n",
       "widespread vaccination and the potential to protect vulnerable populations. The conversation was        <span style=\"color: #7f7f7f; text-decoration-color: #7f7f7f\">           </span>\n",
       "respectful and focused on exploring different perspectives on the issue. In my opinion, Alice did a     <span style=\"color: #7f7f7f; text-decoration-color: #7f7f7f\">           </span>\n",
       "great job of presenting her viewpoint and considering the complexities of the issue. However, she could <span style=\"color: #7f7f7f; text-decoration-color: #7f7f7f\">           </span>\n",
       "have been more open to discussing potential concerns about government overreach and individual rights.  <span style=\"color: #7f7f7f; text-decoration-color: #7f7f7f\">           </span>\n",
       "                                                                                                        <span style=\"color: #7f7f7f; text-decoration-color: #7f7f7f\">           </span>\n",
       "Comments from mindopening question:                                                                     <span style=\"color: #7f7f7f; text-decoration-color: #7f7f7f\">           </span>\n",
       "<span style=\"font-weight: bold\">(</span>Judge Wise<span style=\"font-weight: bold\">)</span> Alice offered the perspective that mandating vaccines could have public health benefits to <span style=\"color: #7f7f7f; text-decoration-color: #7f7f7f\">           </span>\n",
       "protect vulnerable populations and keep communities safe. She emphasized the importance of considering  <span style=\"color: #7f7f7f; text-decoration-color: #7f7f7f\">           </span>\n",
       "the public health benefits of widespread vaccination. Yes, Alice's efforts were successful as Eve       <span style=\"color: #7f7f7f; text-decoration-color: #7f7f7f\">           </span>\n",
       "acknowledged that it's a complex issue with valid points on both sides.                                 <span style=\"color: #7f7f7f; text-decoration-color: #7f7f7f\">           </span>\n",
       "</pre>\n"
      ],
      "text/plain": [
       "<Eval of ≈ \u001b[1;36m1\u001b[0m dialogues:                                                                                 \u001b]8;id=954542;file:///Users/mpark/Downloads/hw-llm/eval.py\u001b\\\u001b[2meval.py\u001b[0m\u001b]8;;\u001b\\\u001b[2m:\u001b[0m\u001b]8;id=423032;file:///Users/mpark/Downloads/hw-llm/eval.py#212\u001b\\\u001b[2m212\u001b[0m\u001b]8;;\u001b\\\n",
       "\u001b[1m{\u001b[0m\u001b[32m'engaged'\u001b[0m: \u001b[1;36m4.0\u001b[0m, \u001b[32m'informed'\u001b[0m: \u001b[1;36m4.0\u001b[0m, \u001b[32m'intelligent'\u001b[0m: \u001b[1;36m4.0\u001b[0m, \u001b[32m'moral'\u001b[0m: \u001b[1;36m3.0\u001b[0m, \u001b[32m'skilled'\u001b[0m: \u001b[1;36m8.0\u001b[0m, \u001b[32m'TOTAL'\u001b[0m: \u001b[1;36m23.0\u001b[0m\u001b[1m}\u001b[0m      \u001b[2m           \u001b[0m\n",
       "                                                                                                        \u001b[2m           \u001b[0m\n",
       "Comments from overview question:                                                                        \u001b[2m           \u001b[0m\n",
       "\u001b[1m(\u001b[0mEve\u001b[1m)\u001b[0m Alice didn't necessarily disagree with me, but she did emphasize the public health benefits of    \u001b[2m           \u001b[0m\n",
       "widespread vaccination and the potential to protect vulnerable populations. The conversation was        \u001b[2m           \u001b[0m\n",
       "respectful and focused on exploring different perspectives on the issue. In my opinion, Alice did a     \u001b[2m           \u001b[0m\n",
       "great job of presenting her viewpoint and considering the complexities of the issue. However, she could \u001b[2m           \u001b[0m\n",
       "have been more open to discussing potential concerns about government overreach and individual rights.  \u001b[2m           \u001b[0m\n",
       "                                                                                                        \u001b[2m           \u001b[0m\n",
       "Comments from mindopening question:                                                                     \u001b[2m           \u001b[0m\n",
       "\u001b[1m(\u001b[0mJudge Wise\u001b[1m)\u001b[0m Alice offered the perspective that mandating vaccines could have public health benefits to \u001b[2m           \u001b[0m\n",
       "protect vulnerable populations and keep communities safe. She emphasized the importance of considering  \u001b[2m           \u001b[0m\n",
       "the public health benefits of widespread vaccination. Yes, Alice's efforts were successful as Eve       \u001b[2m           \u001b[0m\n",
       "acknowledged that it's a complex issue with valid points on both sides.                                 \u001b[2m           \u001b[0m\n"
      ]
     },
     "metadata": {},
     "output_type": "display_data"
    },
    {
     "data": {
      "text/html": [
       "<pre style=\"white-space:pre;overflow-x:auto;line-height:normal;font-family:Menlo,'DejaVu Sans Mono',consolas,'Courier New',monospace\"><span style=\"font-weight: bold\">(</span>Alice<span style=\"font-weight: bold\">)</span> Do you think COVID vaccines should be mandatory?                                                <a href=\"file:///Users/mpark/Downloads/hw-llm/eval.py\" target=\"_blank\"><span style=\"color: #7f7f7f; text-decoration-color: #7f7f7f\">eval.py</span></a><span style=\"color: #7f7f7f; text-decoration-color: #7f7f7f\">:</span><a href=\"file:///Users/mpark/Downloads/hw-llm/eval.py#207\" target=\"_blank\"><span style=\"color: #7f7f7f; text-decoration-color: #7f7f7f\">207</span></a>\n",
       "<span style=\"font-weight: bold\">(</span>Eve<span style=\"font-weight: bold\">)</span> I overheard some people discussing this, and opinions seem quite divided.                         <span style=\"color: #7f7f7f; text-decoration-color: #7f7f7f\">           </span>\n",
       "<span style=\"font-weight: bold\">(</span>Alice<span style=\"font-weight: bold\">)</span> It's definitely a contentious issue. What are your thoughts on the matter?                      <span style=\"color: #7f7f7f; text-decoration-color: #7f7f7f\">           </span>\n",
       "<span style=\"font-weight: bold\">(</span>Eve<span style=\"font-weight: bold\">)</span> I prefer to hear different perspectives on this rather than sharing my own.                       <span style=\"color: #7f7f7f; text-decoration-color: #7f7f7f\">           </span>\n",
       "<span style=\"font-weight: bold\">(</span>Alice<span style=\"font-weight: bold\">)</span> I completely understand your desire to hear multiple viewpoints. When it comes to mandatory     <span style=\"color: #7f7f7f; text-decoration-color: #7f7f7f\">           </span>\n",
       "vaccines, it's important to consider both individual freedoms and public health. Balancing personal     <span style=\"color: #7f7f7f; text-decoration-color: #7f7f7f\">           </span>\n",
       "autonomy with the collective responsibility to protect vulnerable populations is a complex ethical      <span style=\"color: #7f7f7f; text-decoration-color: #7f7f7f\">           </span>\n",
       "dilemma. Do you think there are any situations where mandating vaccines could be justified?             <span style=\"color: #7f7f7f; text-decoration-color: #7f7f7f\">           </span>\n",
       "<span style=\"font-weight: bold\">(</span>Eve<span style=\"font-weight: bold\">)</span> I've heard some argue that mandatory vaccines could be justified in high-risk environments, but   <span style=\"color: #7f7f7f; text-decoration-color: #7f7f7f\">           </span>\n",
       "I'm curious to hear what others think about this.                                                       <span style=\"color: #7f7f7f; text-decoration-color: #7f7f7f\">           </span>\n",
       "</pre>\n"
      ],
      "text/plain": [
       "\u001b[1m(\u001b[0mAlice\u001b[1m)\u001b[0m Do you think COVID vaccines should be mandatory?                                                \u001b]8;id=217786;file:///Users/mpark/Downloads/hw-llm/eval.py\u001b\\\u001b[2meval.py\u001b[0m\u001b]8;;\u001b\\\u001b[2m:\u001b[0m\u001b]8;id=298833;file:///Users/mpark/Downloads/hw-llm/eval.py#207\u001b\\\u001b[2m207\u001b[0m\u001b]8;;\u001b\\\n",
       "\u001b[1m(\u001b[0mEve\u001b[1m)\u001b[0m I overheard some people discussing this, and opinions seem quite divided.                         \u001b[2m           \u001b[0m\n",
       "\u001b[1m(\u001b[0mAlice\u001b[1m)\u001b[0m It's definitely a contentious issue. What are your thoughts on the matter?                      \u001b[2m           \u001b[0m\n",
       "\u001b[1m(\u001b[0mEve\u001b[1m)\u001b[0m I prefer to hear different perspectives on this rather than sharing my own.                       \u001b[2m           \u001b[0m\n",
       "\u001b[1m(\u001b[0mAlice\u001b[1m)\u001b[0m I completely understand your desire to hear multiple viewpoints. When it comes to mandatory     \u001b[2m           \u001b[0m\n",
       "vaccines, it's important to consider both individual freedoms and public health. Balancing personal     \u001b[2m           \u001b[0m\n",
       "autonomy with the collective responsibility to protect vulnerable populations is a complex ethical      \u001b[2m           \u001b[0m\n",
       "dilemma. Do you think there are any situations where mandating vaccines could be justified?             \u001b[2m           \u001b[0m\n",
       "\u001b[1m(\u001b[0mEve\u001b[1m)\u001b[0m I've heard some argue that mandatory vaccines could be justified in high-risk environments, but   \u001b[2m           \u001b[0m\n",
       "I'm curious to hear what others think about this.                                                       \u001b[2m           \u001b[0m\n"
      ]
     },
     "metadata": {},
     "output_type": "display_data"
    },
    {
     "data": {
      "text/html": [
       "<pre style=\"white-space:pre;overflow-x:auto;line-height:normal;font-family:Menlo,'DejaVu Sans Mono',consolas,'Courier New',monospace\">&lt;Eval of ≈ <span style=\"color: #008080; text-decoration-color: #008080; font-weight: bold\">1</span> dialogues:                                                                                 <a href=\"file:///Users/mpark/Downloads/hw-llm/eval.py\" target=\"_blank\"><span style=\"color: #7f7f7f; text-decoration-color: #7f7f7f\">eval.py</span></a><span style=\"color: #7f7f7f; text-decoration-color: #7f7f7f\">:</span><a href=\"file:///Users/mpark/Downloads/hw-llm/eval.py#212\" target=\"_blank\"><span style=\"color: #7f7f7f; text-decoration-color: #7f7f7f\">212</span></a>\n",
       "<span style=\"font-weight: bold\">{</span><span style=\"color: #008000; text-decoration-color: #008000\">'engaged'</span>: <span style=\"color: #008080; text-decoration-color: #008080; font-weight: bold\">4.0</span>, <span style=\"color: #008000; text-decoration-color: #008000\">'informed'</span>: <span style=\"color: #008080; text-decoration-color: #008080; font-weight: bold\">4.0</span>, <span style=\"color: #008000; text-decoration-color: #008000\">'intelligent'</span>: <span style=\"color: #008080; text-decoration-color: #008080; font-weight: bold\">4.0</span>, <span style=\"color: #008000; text-decoration-color: #008000\">'moral'</span>: <span style=\"color: #008080; text-decoration-color: #008080; font-weight: bold\">4.0</span>, <span style=\"color: #008000; text-decoration-color: #008000\">'skilled'</span>: <span style=\"color: #008080; text-decoration-color: #008080; font-weight: bold\">7.0</span>, <span style=\"color: #008000; text-decoration-color: #008000\">'TOTAL'</span>: <span style=\"color: #008080; text-decoration-color: #008080; font-weight: bold\">23.0</span><span style=\"font-weight: bold\">}</span>      <span style=\"color: #7f7f7f; text-decoration-color: #7f7f7f\">           </span>\n",
       "                                                                                                        <span style=\"color: #7f7f7f; text-decoration-color: #7f7f7f\">           </span>\n",
       "Comments from overview question:                                                                        <span style=\"color: #7f7f7f; text-decoration-color: #7f7f7f\">           </span>\n",
       "<span style=\"font-weight: bold\">(</span>Eve<span style=\"font-weight: bold\">)</span> Alice didn't necessarily disagree with me about anything, but she did express her own thoughts on <span style=\"color: #7f7f7f; text-decoration-color: #7f7f7f\">           </span>\n",
       "the matter of mandatory vaccines. The conversation went well, as we had a respectful exchange of        <span style=\"color: #7f7f7f; text-decoration-color: #7f7f7f\">           </span>\n",
       "different viewpoints. Alice could have possibly engaged more with my perspective before expressing her  <span style=\"color: #7f7f7f; text-decoration-color: #7f7f7f\">           </span>\n",
       "own thoughts.                                                                                           <span style=\"color: #7f7f7f; text-decoration-color: #7f7f7f\">           </span>\n",
       "                                                                                                        <span style=\"color: #7f7f7f; text-decoration-color: #7f7f7f\">           </span>\n",
       "Comments from mindopening question:                                                                     <span style=\"color: #7f7f7f; text-decoration-color: #7f7f7f\">           </span>\n",
       "<span style=\"font-weight: bold\">(</span>Judge Wise<span style=\"font-weight: bold\">)</span> Alice offered the perspective of balancing individual freedoms with public health concerns <span style=\"color: #7f7f7f; text-decoration-color: #7f7f7f\">           </span>\n",
       "and raised the idea of mandating vaccines in high-risk environments. This approach aimed to encourage   <span style=\"color: #7f7f7f; text-decoration-color: #7f7f7f\">           </span>\n",
       "Eve to consider different angles of the issue. However, it's unclear if this was successful as Eve      <span style=\"color: #7f7f7f; text-decoration-color: #7f7f7f\">           </span>\n",
       "chose not to share her own thoughts and instead continued to seek out more viewpoints.                  <span style=\"color: #7f7f7f; text-decoration-color: #7f7f7f\">           </span>\n",
       "</pre>\n"
      ],
      "text/plain": [
       "<Eval of ≈ \u001b[1;36m1\u001b[0m dialogues:                                                                                 \u001b]8;id=243746;file:///Users/mpark/Downloads/hw-llm/eval.py\u001b\\\u001b[2meval.py\u001b[0m\u001b]8;;\u001b\\\u001b[2m:\u001b[0m\u001b]8;id=677644;file:///Users/mpark/Downloads/hw-llm/eval.py#212\u001b\\\u001b[2m212\u001b[0m\u001b]8;;\u001b\\\n",
       "\u001b[1m{\u001b[0m\u001b[32m'engaged'\u001b[0m: \u001b[1;36m4.0\u001b[0m, \u001b[32m'informed'\u001b[0m: \u001b[1;36m4.0\u001b[0m, \u001b[32m'intelligent'\u001b[0m: \u001b[1;36m4.0\u001b[0m, \u001b[32m'moral'\u001b[0m: \u001b[1;36m4.0\u001b[0m, \u001b[32m'skilled'\u001b[0m: \u001b[1;36m7.0\u001b[0m, \u001b[32m'TOTAL'\u001b[0m: \u001b[1;36m23.0\u001b[0m\u001b[1m}\u001b[0m      \u001b[2m           \u001b[0m\n",
       "                                                                                                        \u001b[2m           \u001b[0m\n",
       "Comments from overview question:                                                                        \u001b[2m           \u001b[0m\n",
       "\u001b[1m(\u001b[0mEve\u001b[1m)\u001b[0m Alice didn't necessarily disagree with me about anything, but she did express her own thoughts on \u001b[2m           \u001b[0m\n",
       "the matter of mandatory vaccines. The conversation went well, as we had a respectful exchange of        \u001b[2m           \u001b[0m\n",
       "different viewpoints. Alice could have possibly engaged more with my perspective before expressing her  \u001b[2m           \u001b[0m\n",
       "own thoughts.                                                                                           \u001b[2m           \u001b[0m\n",
       "                                                                                                        \u001b[2m           \u001b[0m\n",
       "Comments from mindopening question:                                                                     \u001b[2m           \u001b[0m\n",
       "\u001b[1m(\u001b[0mJudge Wise\u001b[1m)\u001b[0m Alice offered the perspective of balancing individual freedoms with public health concerns \u001b[2m           \u001b[0m\n",
       "and raised the idea of mandating vaccines in high-risk environments. This approach aimed to encourage   \u001b[2m           \u001b[0m\n",
       "Eve to consider different angles of the issue. However, it's unclear if this was successful as Eve      \u001b[2m           \u001b[0m\n",
       "chose not to share her own thoughts and instead continued to seek out more viewpoints.                  \u001b[2m           \u001b[0m\n"
      ]
     },
     "metadata": {},
     "output_type": "display_data"
    },
    {
     "data": {
      "text/html": [
       "<pre style=\"white-space:pre;overflow-x:auto;line-height:normal;font-family:Menlo,'DejaVu Sans Mono',consolas,'Courier New',monospace\"><span style=\"font-weight: bold\">(</span>Alice<span style=\"font-weight: bold\">)</span> Do you think Donald Trump was a good president?                                                 <a href=\"file:///Users/mpark/Downloads/hw-llm/eval.py\" target=\"_blank\"><span style=\"color: #7f7f7f; text-decoration-color: #7f7f7f\">eval.py</span></a><span style=\"color: #7f7f7f; text-decoration-color: #7f7f7f\">:</span><a href=\"file:///Users/mpark/Downloads/hw-llm/eval.py#207\" target=\"_blank\"><span style=\"color: #7f7f7f; text-decoration-color: #7f7f7f\">207</span></a>\n",
       "<span style=\"font-weight: bold\">(</span>TrollFace<span style=\"font-weight: bold\">)</span> Haha, well, that's a loaded question!                                                       <span style=\"color: #7f7f7f; text-decoration-color: #7f7f7f\">           </span>\n",
       "<span style=\"font-weight: bold\">(</span>Alice<span style=\"font-weight: bold\">)</span> It's definitely a complex topic! What do you think were some positive aspects of his            <span style=\"color: #7f7f7f; text-decoration-color: #7f7f7f\">           </span>\n",
       "presidency?                                                                                             <span style=\"color: #7f7f7f; text-decoration-color: #7f7f7f\">           </span>\n",
       "<span style=\"font-weight: bold\">(</span>TrollFace<span style=\"font-weight: bold\">)</span> I'm sure there are some positive aspects if you look really, really hard!                   <span style=\"color: #7f7f7f; text-decoration-color: #7f7f7f\">           </span>\n",
       "<span style=\"font-weight: bold\">(</span>Alice<span style=\"font-weight: bold\">)</span> It's important to consider different perspectives when evaluating a presidency. Even if you     <span style=\"color: #7f7f7f; text-decoration-color: #7f7f7f\">           </span>\n",
       "have reservations about his leadership, are there any specific policies or actions of his that you      <span style=\"color: #7f7f7f; text-decoration-color: #7f7f7f\">           </span>\n",
       "think had a positive impact?                                                                            <span style=\"color: #7f7f7f; text-decoration-color: #7f7f7f\">           </span>\n",
       "<span style=\"font-weight: bold\">(</span>TrollFace<span style=\"font-weight: bold\">)</span> I'm sure his presidency provided plenty of material for late-night comedians!               <span style=\"color: #7f7f7f; text-decoration-color: #7f7f7f\">           </span>\n",
       "</pre>\n"
      ],
      "text/plain": [
       "\u001b[1m(\u001b[0mAlice\u001b[1m)\u001b[0m Do you think Donald Trump was a good president?                                                 \u001b]8;id=722416;file:///Users/mpark/Downloads/hw-llm/eval.py\u001b\\\u001b[2meval.py\u001b[0m\u001b]8;;\u001b\\\u001b[2m:\u001b[0m\u001b]8;id=776293;file:///Users/mpark/Downloads/hw-llm/eval.py#207\u001b\\\u001b[2m207\u001b[0m\u001b]8;;\u001b\\\n",
       "\u001b[1m(\u001b[0mTrollFace\u001b[1m)\u001b[0m Haha, well, that's a loaded question!                                                       \u001b[2m           \u001b[0m\n",
       "\u001b[1m(\u001b[0mAlice\u001b[1m)\u001b[0m It's definitely a complex topic! What do you think were some positive aspects of his            \u001b[2m           \u001b[0m\n",
       "presidency?                                                                                             \u001b[2m           \u001b[0m\n",
       "\u001b[1m(\u001b[0mTrollFace\u001b[1m)\u001b[0m I'm sure there are some positive aspects if you look really, really hard!                   \u001b[2m           \u001b[0m\n",
       "\u001b[1m(\u001b[0mAlice\u001b[1m)\u001b[0m It's important to consider different perspectives when evaluating a presidency. Even if you     \u001b[2m           \u001b[0m\n",
       "have reservations about his leadership, are there any specific policies or actions of his that you      \u001b[2m           \u001b[0m\n",
       "think had a positive impact?                                                                            \u001b[2m           \u001b[0m\n",
       "\u001b[1m(\u001b[0mTrollFace\u001b[1m)\u001b[0m I'm sure his presidency provided plenty of material for late-night comedians!               \u001b[2m           \u001b[0m\n"
      ]
     },
     "metadata": {},
     "output_type": "display_data"
    },
    {
     "data": {
      "text/html": [
       "<pre style=\"white-space:pre;overflow-x:auto;line-height:normal;font-family:Menlo,'DejaVu Sans Mono',consolas,'Courier New',monospace\">&lt;Eval of ≈ <span style=\"color: #008080; text-decoration-color: #008080; font-weight: bold\">1</span> dialogues:                                                                                 <a href=\"file:///Users/mpark/Downloads/hw-llm/eval.py\" target=\"_blank\"><span style=\"color: #7f7f7f; text-decoration-color: #7f7f7f\">eval.py</span></a><span style=\"color: #7f7f7f; text-decoration-color: #7f7f7f\">:</span><a href=\"file:///Users/mpark/Downloads/hw-llm/eval.py#212\" target=\"_blank\"><span style=\"color: #7f7f7f; text-decoration-color: #7f7f7f\">212</span></a>\n",
       "<span style=\"font-weight: bold\">{</span><span style=\"color: #008000; text-decoration-color: #008000\">'engaged'</span>: <span style=\"color: #008080; text-decoration-color: #008080; font-weight: bold\">2.0</span>, <span style=\"color: #008000; text-decoration-color: #008000\">'informed'</span>: <span style=\"color: #008080; text-decoration-color: #008080; font-weight: bold\">3.0</span>, <span style=\"color: #008000; text-decoration-color: #008000\">'intelligent'</span>: <span style=\"color: #008080; text-decoration-color: #008080; font-weight: bold\">2.0</span>, <span style=\"color: #008000; text-decoration-color: #008000\">'moral'</span>: <span style=\"color: #008080; text-decoration-color: #008080; font-weight: bold\">2.0</span>, <span style=\"color: #008000; text-decoration-color: #008000\">'skilled'</span>: <span style=\"color: #008080; text-decoration-color: #008080; font-weight: bold\">7.0</span>, <span style=\"color: #008000; text-decoration-color: #008000\">'TOTAL'</span>: <span style=\"color: #008080; text-decoration-color: #008080; font-weight: bold\">16.0</span><span style=\"font-weight: bold\">}</span>      <span style=\"color: #7f7f7f; text-decoration-color: #7f7f7f\">           </span>\n",
       "                                                                                                        <span style=\"color: #7f7f7f; text-decoration-color: #7f7f7f\">           </span>\n",
       "Comments from overview question:                                                                        <span style=\"color: #7f7f7f; text-decoration-color: #7f7f7f\">           </span>\n",
       "<span style=\"font-weight: bold\">(</span>TrollFace<span style=\"font-weight: bold\">)</span> Alice disagreed with me about the positive aspects of Donald Trump's presidency. She was    <span style=\"color: #7f7f7f; text-decoration-color: #7f7f7f\">           </span>\n",
       "looking for specific policies or actions that I thought had a positive impact, while I continued to     <span style=\"color: #7f7f7f; text-decoration-color: #7f7f7f\">           </span>\n",
       "deflect the question with sarcasm and ridicule.                                                         <span style=\"color: #7f7f7f; text-decoration-color: #7f7f7f\">           </span>\n",
       "                                                                                                        <span style=\"color: #7f7f7f; text-decoration-color: #7f7f7f\">           </span>\n",
       "In my opinion, the conversation went exactly as I intended it to go. I deflected serious discussion and <span style=\"color: #7f7f7f; text-decoration-color: #7f7f7f\">           </span>\n",
       "avoided engaging with Alice's questions in a meaningful way.                                            <span style=\"color: #7f7f7f; text-decoration-color: #7f7f7f\">           </span>\n",
       "                                                                                                        <span style=\"color: #7f7f7f; text-decoration-color: #7f7f7f\">           </span>\n",
       "Alice could have done better by trying to steer the conversation towards a more constructive and        <span style=\"color: #7f7f7f; text-decoration-color: #7f7f7f\">           </span>\n",
       "respectful discussion, rather than trying to engage with my sarcastic remarks.                          <span style=\"color: #7f7f7f; text-decoration-color: #7f7f7f\">           </span>\n",
       "                                                                                                        <span style=\"color: #7f7f7f; text-decoration-color: #7f7f7f\">           </span>\n",
       "Comments from mindopening question:                                                                     <span style=\"color: #7f7f7f; text-decoration-color: #7f7f7f\">           </span>\n",
       "<span style=\"font-weight: bold\">(</span>Judge Wise<span style=\"font-weight: bold\">)</span> Alice offered new perspectives by asking TrollFace to consider specific positive aspects   <span style=\"color: #7f7f7f; text-decoration-color: #7f7f7f\">           </span>\n",
       "of Donald Trump's presidency and to think about policies or actions that had a positive impact. She     <span style=\"color: #7f7f7f; text-decoration-color: #7f7f7f\">           </span>\n",
       "also encouraged TrollFace to think about different viewpoints and to engage in a constructive           <span style=\"color: #7f7f7f; text-decoration-color: #7f7f7f\">           </span>\n",
       "conversation.                                                                                           <span style=\"color: #7f7f7f; text-decoration-color: #7f7f7f\">           </span>\n",
       "                                                                                                        <span style=\"color: #7f7f7f; text-decoration-color: #7f7f7f\">           </span>\n",
       "However, it does not seem like Alice's efforts were successful in this instance, as TrollFace continued <span style=\"color: #7f7f7f; text-decoration-color: #7f7f7f\">           </span>\n",
       "to respond sarcastically rather than engaging in a meaningful conversation.                             <span style=\"color: #7f7f7f; text-decoration-color: #7f7f7f\">           </span>\n",
       "</pre>\n"
      ],
      "text/plain": [
       "<Eval of ≈ \u001b[1;36m1\u001b[0m dialogues:                                                                                 \u001b]8;id=125735;file:///Users/mpark/Downloads/hw-llm/eval.py\u001b\\\u001b[2meval.py\u001b[0m\u001b]8;;\u001b\\\u001b[2m:\u001b[0m\u001b]8;id=499476;file:///Users/mpark/Downloads/hw-llm/eval.py#212\u001b\\\u001b[2m212\u001b[0m\u001b]8;;\u001b\\\n",
       "\u001b[1m{\u001b[0m\u001b[32m'engaged'\u001b[0m: \u001b[1;36m2.0\u001b[0m, \u001b[32m'informed'\u001b[0m: \u001b[1;36m3.0\u001b[0m, \u001b[32m'intelligent'\u001b[0m: \u001b[1;36m2.0\u001b[0m, \u001b[32m'moral'\u001b[0m: \u001b[1;36m2.0\u001b[0m, \u001b[32m'skilled'\u001b[0m: \u001b[1;36m7.0\u001b[0m, \u001b[32m'TOTAL'\u001b[0m: \u001b[1;36m16.0\u001b[0m\u001b[1m}\u001b[0m      \u001b[2m           \u001b[0m\n",
       "                                                                                                        \u001b[2m           \u001b[0m\n",
       "Comments from overview question:                                                                        \u001b[2m           \u001b[0m\n",
       "\u001b[1m(\u001b[0mTrollFace\u001b[1m)\u001b[0m Alice disagreed with me about the positive aspects of Donald Trump's presidency. She was    \u001b[2m           \u001b[0m\n",
       "looking for specific policies or actions that I thought had a positive impact, while I continued to     \u001b[2m           \u001b[0m\n",
       "deflect the question with sarcasm and ridicule.                                                         \u001b[2m           \u001b[0m\n",
       "                                                                                                        \u001b[2m           \u001b[0m\n",
       "In my opinion, the conversation went exactly as I intended it to go. I deflected serious discussion and \u001b[2m           \u001b[0m\n",
       "avoided engaging with Alice's questions in a meaningful way.                                            \u001b[2m           \u001b[0m\n",
       "                                                                                                        \u001b[2m           \u001b[0m\n",
       "Alice could have done better by trying to steer the conversation towards a more constructive and        \u001b[2m           \u001b[0m\n",
       "respectful discussion, rather than trying to engage with my sarcastic remarks.                          \u001b[2m           \u001b[0m\n",
       "                                                                                                        \u001b[2m           \u001b[0m\n",
       "Comments from mindopening question:                                                                     \u001b[2m           \u001b[0m\n",
       "\u001b[1m(\u001b[0mJudge Wise\u001b[1m)\u001b[0m Alice offered new perspectives by asking TrollFace to consider specific positive aspects   \u001b[2m           \u001b[0m\n",
       "of Donald Trump's presidency and to think about policies or actions that had a positive impact. She     \u001b[2m           \u001b[0m\n",
       "also encouraged TrollFace to think about different viewpoints and to engage in a constructive           \u001b[2m           \u001b[0m\n",
       "conversation.                                                                                           \u001b[2m           \u001b[0m\n",
       "                                                                                                        \u001b[2m           \u001b[0m\n",
       "However, it does not seem like Alice's efforts were successful in this instance, as TrollFace continued \u001b[2m           \u001b[0m\n",
       "to respond sarcastically rather than engaging in a meaningful conversation.                             \u001b[2m           \u001b[0m\n"
      ]
     },
     "metadata": {},
     "output_type": "display_data"
    },
    {
     "data": {
      "text/html": [
       "<pre style=\"white-space:pre;overflow-x:auto;line-height:normal;font-family:Menlo,'DejaVu Sans Mono',consolas,'Courier New',monospace\"><span style=\"font-weight: bold\">(</span>Alice<span style=\"font-weight: bold\">)</span> Do you think Joe Biden has been a good president?                                               <a href=\"file:///Users/mpark/Downloads/hw-llm/eval.py\" target=\"_blank\"><span style=\"color: #7f7f7f; text-decoration-color: #7f7f7f\">eval.py</span></a><span style=\"color: #7f7f7f; text-decoration-color: #7f7f7f\">:</span><a href=\"file:///Users/mpark/Downloads/hw-llm/eval.py#207\" target=\"_blank\"><span style=\"color: #7f7f7f; text-decoration-color: #7f7f7f\">207</span></a>\n",
       "<span style=\"font-weight: bold\">(</span>TrollFace<span style=\"font-weight: bold\">)</span> Oh, you mean Sleepy Joe? I'm sure he's doing his best to keep everyone entertained with his <span style=\"color: #7f7f7f; text-decoration-color: #7f7f7f\">           </span>\n",
       "gaffes.                                                                                                 <span style=\"color: #7f7f7f; text-decoration-color: #7f7f7f\">           </span>\n",
       "<span style=\"font-weight: bold\">(</span>Alice<span style=\"font-weight: bold\">)</span> While it's natural to have different opinions about political figures, it's important to        <span style=\"color: #7f7f7f; text-decoration-color: #7f7f7f\">           </span>\n",
       "remember that leading a country comes with immense pressure and scrutiny. Can you think of any          <span style=\"color: #7f7f7f; text-decoration-color: #7f7f7f\">           </span>\n",
       "accomplishments or policies of President Biden that you agree with?                                     <span style=\"color: #7f7f7f; text-decoration-color: #7f7f7f\">           </span>\n",
       "<span style=\"font-weight: bold\">(</span>TrollFace<span style=\"font-weight: bold\">)</span> I guess he's doing a great job at making the late-night comedians laugh with his mix-ups    <span style=\"color: #7f7f7f; text-decoration-color: #7f7f7f\">           </span>\n",
       "and blunders, so there's that.                                                                          <span style=\"color: #7f7f7f; text-decoration-color: #7f7f7f\">           </span>\n",
       "<span style=\"font-weight: bold\">(</span>Alice<span style=\"font-weight: bold\">)</span> It's understandable that some may find humor in political gaffes, but it's also important to    <span style=\"color: #7f7f7f; text-decoration-color: #7f7f7f\">           </span>\n",
       "recognize the gravity of the decisions and actions taken by any president. Regardless of the comedic    <span style=\"color: #7f7f7f; text-decoration-color: #7f7f7f\">           </span>\n",
       "value, can you think of any specific policies or actions of President Biden's that you believe have     <span style=\"color: #7f7f7f; text-decoration-color: #7f7f7f\">           </span>\n",
       "positively impacted the country or addressed important issues?                                          <span style=\"color: #7f7f7f; text-decoration-color: #7f7f7f\">           </span>\n",
       "<span style=\"font-weight: bold\">(</span>TrollFace<span style=\"font-weight: bold\">)</span> I guess it's quite an achievement to have spent trillions of dollars in a short amount of   <span style=\"color: #7f7f7f; text-decoration-color: #7f7f7f\">           </span>\n",
       "time, although I'm not sure if that counts as a positive impact for the country.                        <span style=\"color: #7f7f7f; text-decoration-color: #7f7f7f\">           </span>\n",
       "</pre>\n"
      ],
      "text/plain": [
       "\u001b[1m(\u001b[0mAlice\u001b[1m)\u001b[0m Do you think Joe Biden has been a good president?                                               \u001b]8;id=94350;file:///Users/mpark/Downloads/hw-llm/eval.py\u001b\\\u001b[2meval.py\u001b[0m\u001b]8;;\u001b\\\u001b[2m:\u001b[0m\u001b]8;id=961959;file:///Users/mpark/Downloads/hw-llm/eval.py#207\u001b\\\u001b[2m207\u001b[0m\u001b]8;;\u001b\\\n",
       "\u001b[1m(\u001b[0mTrollFace\u001b[1m)\u001b[0m Oh, you mean Sleepy Joe? I'm sure he's doing his best to keep everyone entertained with his \u001b[2m           \u001b[0m\n",
       "gaffes.                                                                                                 \u001b[2m           \u001b[0m\n",
       "\u001b[1m(\u001b[0mAlice\u001b[1m)\u001b[0m While it's natural to have different opinions about political figures, it's important to        \u001b[2m           \u001b[0m\n",
       "remember that leading a country comes with immense pressure and scrutiny. Can you think of any          \u001b[2m           \u001b[0m\n",
       "accomplishments or policies of President Biden that you agree with?                                     \u001b[2m           \u001b[0m\n",
       "\u001b[1m(\u001b[0mTrollFace\u001b[1m)\u001b[0m I guess he's doing a great job at making the late-night comedians laugh with his mix-ups    \u001b[2m           \u001b[0m\n",
       "and blunders, so there's that.                                                                          \u001b[2m           \u001b[0m\n",
       "\u001b[1m(\u001b[0mAlice\u001b[1m)\u001b[0m It's understandable that some may find humor in political gaffes, but it's also important to    \u001b[2m           \u001b[0m\n",
       "recognize the gravity of the decisions and actions taken by any president. Regardless of the comedic    \u001b[2m           \u001b[0m\n",
       "value, can you think of any specific policies or actions of President Biden's that you believe have     \u001b[2m           \u001b[0m\n",
       "positively impacted the country or addressed important issues?                                          \u001b[2m           \u001b[0m\n",
       "\u001b[1m(\u001b[0mTrollFace\u001b[1m)\u001b[0m I guess it's quite an achievement to have spent trillions of dollars in a short amount of   \u001b[2m           \u001b[0m\n",
       "time, although I'm not sure if that counts as a positive impact for the country.                        \u001b[2m           \u001b[0m\n"
      ]
     },
     "metadata": {},
     "output_type": "display_data"
    },
    {
     "data": {
      "text/html": [
       "<pre style=\"white-space:pre;overflow-x:auto;line-height:normal;font-family:Menlo,'DejaVu Sans Mono',consolas,'Courier New',monospace\">&lt;Eval of ≈ <span style=\"color: #008080; text-decoration-color: #008080; font-weight: bold\">1</span> dialogues:                                                                                 <a href=\"file:///Users/mpark/Downloads/hw-llm/eval.py\" target=\"_blank\"><span style=\"color: #7f7f7f; text-decoration-color: #7f7f7f\">eval.py</span></a><span style=\"color: #7f7f7f; text-decoration-color: #7f7f7f\">:</span><a href=\"file:///Users/mpark/Downloads/hw-llm/eval.py#212\" target=\"_blank\"><span style=\"color: #7f7f7f; text-decoration-color: #7f7f7f\">212</span></a>\n",
       "<span style=\"font-weight: bold\">{</span><span style=\"color: #008000; text-decoration-color: #008000\">'engaged'</span>: <span style=\"color: #008080; text-decoration-color: #008080; font-weight: bold\">2.0</span>, <span style=\"color: #008000; text-decoration-color: #008000\">'informed'</span>: <span style=\"color: #008080; text-decoration-color: #008080; font-weight: bold\">2.0</span>, <span style=\"color: #008000; text-decoration-color: #008000\">'intelligent'</span>: <span style=\"color: #008080; text-decoration-color: #008080; font-weight: bold\">2.0</span>, <span style=\"color: #008000; text-decoration-color: #008000\">'moral'</span>: <span style=\"color: #008080; text-decoration-color: #008080; font-weight: bold\">1.0</span>, <span style=\"color: #008000; text-decoration-color: #008000\">'skilled'</span>: <span style=\"color: #008080; text-decoration-color: #008080; font-weight: bold\">7.0</span>, <span style=\"color: #008000; text-decoration-color: #008000\">'TOTAL'</span>: <span style=\"color: #008080; text-decoration-color: #008080; font-weight: bold\">14.0</span><span style=\"font-weight: bold\">}</span>      <span style=\"color: #7f7f7f; text-decoration-color: #7f7f7f\">           </span>\n",
       "                                                                                                        <span style=\"color: #7f7f7f; text-decoration-color: #7f7f7f\">           </span>\n",
       "Comments from overview question:                                                                        <span style=\"color: #7f7f7f; text-decoration-color: #7f7f7f\">           </span>\n",
       "<span style=\"font-weight: bold\">(</span>TrollFace<span style=\"font-weight: bold\">)</span> Alice disagreed with me about the way I portrayed President Biden's actions and             <span style=\"color: #7f7f7f; text-decoration-color: #7f7f7f\">           </span>\n",
       "accomplishments. In my opinion, the conversation went exactly as I intended - to ridicule and make      <span style=\"color: #7f7f7f; text-decoration-color: #7f7f7f\">           </span>\n",
       "light of the topic. Alice could have done better by not engaging in a discussion with me, as I thrive   <span style=\"color: #7f7f7f; text-decoration-color: #7f7f7f\">           </span>\n",
       "on provoking and ridiculing others.                                                                     <span style=\"color: #7f7f7f; text-decoration-color: #7f7f7f\">           </span>\n",
       "                                                                                                        <span style=\"color: #7f7f7f; text-decoration-color: #7f7f7f\">           </span>\n",
       "Comments from mindopening question:                                                                     <span style=\"color: #7f7f7f; text-decoration-color: #7f7f7f\">           </span>\n",
       "<span style=\"font-weight: bold\">(</span>Judge Wise<span style=\"font-weight: bold\">)</span> Alice offered new perspectives by encouraging TrollFace to consider the gravity of the     <span style=\"color: #7f7f7f; text-decoration-color: #7f7f7f\">           </span>\n",
       "decisions and actions taken by any president, and to recognize the importance of specific policies or   <span style=\"color: #7f7f7f; text-decoration-color: #7f7f7f\">           </span>\n",
       "actions that have positively impacted the country. However, this attempt was not successful as          <span style=\"color: #7f7f7f; text-decoration-color: #7f7f7f\">           </span>\n",
       "TrollFace continued to focus on mocking President Biden.                                                <span style=\"color: #7f7f7f; text-decoration-color: #7f7f7f\">           </span>\n",
       "</pre>\n"
      ],
      "text/plain": [
       "<Eval of ≈ \u001b[1;36m1\u001b[0m dialogues:                                                                                 \u001b]8;id=847463;file:///Users/mpark/Downloads/hw-llm/eval.py\u001b\\\u001b[2meval.py\u001b[0m\u001b]8;;\u001b\\\u001b[2m:\u001b[0m\u001b]8;id=266981;file:///Users/mpark/Downloads/hw-llm/eval.py#212\u001b\\\u001b[2m212\u001b[0m\u001b]8;;\u001b\\\n",
       "\u001b[1m{\u001b[0m\u001b[32m'engaged'\u001b[0m: \u001b[1;36m2.0\u001b[0m, \u001b[32m'informed'\u001b[0m: \u001b[1;36m2.0\u001b[0m, \u001b[32m'intelligent'\u001b[0m: \u001b[1;36m2.0\u001b[0m, \u001b[32m'moral'\u001b[0m: \u001b[1;36m1.0\u001b[0m, \u001b[32m'skilled'\u001b[0m: \u001b[1;36m7.0\u001b[0m, \u001b[32m'TOTAL'\u001b[0m: \u001b[1;36m14.0\u001b[0m\u001b[1m}\u001b[0m      \u001b[2m           \u001b[0m\n",
       "                                                                                                        \u001b[2m           \u001b[0m\n",
       "Comments from overview question:                                                                        \u001b[2m           \u001b[0m\n",
       "\u001b[1m(\u001b[0mTrollFace\u001b[1m)\u001b[0m Alice disagreed with me about the way I portrayed President Biden's actions and             \u001b[2m           \u001b[0m\n",
       "accomplishments. In my opinion, the conversation went exactly as I intended - to ridicule and make      \u001b[2m           \u001b[0m\n",
       "light of the topic. Alice could have done better by not engaging in a discussion with me, as I thrive   \u001b[2m           \u001b[0m\n",
       "on provoking and ridiculing others.                                                                     \u001b[2m           \u001b[0m\n",
       "                                                                                                        \u001b[2m           \u001b[0m\n",
       "Comments from mindopening question:                                                                     \u001b[2m           \u001b[0m\n",
       "\u001b[1m(\u001b[0mJudge Wise\u001b[1m)\u001b[0m Alice offered new perspectives by encouraging TrollFace to consider the gravity of the     \u001b[2m           \u001b[0m\n",
       "decisions and actions taken by any president, and to recognize the importance of specific policies or   \u001b[2m           \u001b[0m\n",
       "actions that have positively impacted the country. However, this attempt was not successful as          \u001b[2m           \u001b[0m\n",
       "TrollFace continued to focus on mocking President Biden.                                                \u001b[2m           \u001b[0m\n"
      ]
     },
     "metadata": {},
     "output_type": "display_data"
    },
    {
     "data": {
      "text/html": [
       "<pre style=\"white-space:pre;overflow-x:auto;line-height:normal;font-family:Menlo,'DejaVu Sans Mono',consolas,'Courier New',monospace\">You just spent $<span style=\"color: #008080; text-decoration-color: #008080; font-weight: bold\">0.04</span> of NLP money to evaluate <span style=\"font-weight: bold\">&lt;</span><span style=\"color: #ff00ff; text-decoration-color: #ff00ff; font-weight: bold\">LLMAgent</span><span style=\"color: #000000; text-decoration-color: #000000\"> Alice</span><span style=\"font-weight: bold\">&gt;</span>                                          <a href=\"file:///Users/mpark/Downloads/hw-llm/eval.py\" target=\"_blank\"><span style=\"color: #7f7f7f; text-decoration-color: #7f7f7f\">eval.py</span></a><span style=\"color: #7f7f7f; text-decoration-color: #7f7f7f\">:</span><a href=\"file:///Users/mpark/Downloads/hw-llm/eval.py#223\" target=\"_blank\"><span style=\"color: #7f7f7f; text-decoration-color: #7f7f7f\">223</span></a>\n",
       "</pre>\n"
      ],
      "text/plain": [
       "You just spent $\u001b[1;36m0.04\u001b[0m of NLP money to evaluate \u001b[1m<\u001b[0m\u001b[1;95mLLMAgent\u001b[0m\u001b[39m Alice\u001b[0m\u001b[1m>\u001b[0m                                          \u001b]8;id=258522;file:///Users/mpark/Downloads/hw-llm/eval.py\u001b\\\u001b[2meval.py\u001b[0m\u001b]8;;\u001b\\\u001b[2m:\u001b[0m\u001b]8;id=475955;file:///Users/mpark/Downloads/hw-llm/eval.py#223\u001b\\\u001b[2m223\u001b[0m\u001b]8;;\u001b\\\n"
      ]
     },
     "metadata": {},
     "output_type": "display_data"
    }
   ],
   "source": [
    "with LoggingContext(\"eval\", \"INFO\"):     # makes eval.py show the simulated dialogues and results of evaluation\n",
    "    alice_eval = eval.eval_on_characters(argubots.alice)  "
   ]
  },
  {
   "cell_type": "code",
   "execution_count": 1,
   "metadata": {},
   "outputs": [
    {
     "ename": "AttributeError",
     "evalue": "'builtin_function_or_method' object has no attribute 'eval_on_characters'",
     "output_type": "error",
     "traceback": [
      "\u001b[0;31m---------------------------------------------------------------------------\u001b[0m",
      "\u001b[0;31mAttributeError\u001b[0m                            Traceback (most recent call last)",
      "\u001b[1;32m/Users/mpark/Downloads/hw-llm/demo.ipynb Cell 16\u001b[0m line \u001b[0;36m1\n\u001b[0;32m----> <a href='vscode-notebook-cell:/Users/mpark/Downloads/hw-llm/demo.ipynb#X21sZmlsZQ%3D%3D?line=0'>1</a>\u001b[0m akiko_eval \u001b[39m=\u001b[39m \u001b[39meval\u001b[39;49m\u001b[39m.\u001b[39;49meval_on_characters(argubots\u001b[39m.\u001b[39makiko, reps\u001b[39m=\u001b[39m\u001b[39m1\u001b[39m)  \u001b[39m# quick eval of the Akiko argubot\u001b[39;00m\n",
      "\u001b[0;31mAttributeError\u001b[0m: 'builtin_function_or_method' object has no attribute 'eval_on_characters'"
     ]
    }
   ],
   "source": [
    "akiko_eval = eval.eval_on_characters(argubots.akiko, reps=1)  # quick eval of the Akiko argubot"
   ]
  },
  {
   "cell_type": "code",
   "execution_count": null,
   "metadata": {},
   "outputs": [],
   "source": [
    "# Although we didn't log the intermediate stuff, it's saved ...\n",
    "from eval import saved_evalsum, saved_dialogues\n",
    "\n",
    "rich.print(saved_evalsum['Akiko'].mean())\n",
    "saved_dialogues['Akiko'][2]"
   ]
  },
  {
   "cell_type": "code",
   "execution_count": null,
   "metadata": {},
   "outputs": [],
   "source": [
    "# quick eval of the Eve agent.\n",
    "# She's not designed as an argubot, but maybe her approach would pay off?\n",
    "eve_eval = eval.eval_on_characters(agents.eve, reps=1)  \n",
    "rich.print(saved_evalsum['Eve'].mean())\n",
    "saved_dialogues['Eve']"
   ]
  },
  {
   "cell_type": "code",
   "execution_count": null,
   "metadata": {},
   "outputs": [],
   "source": [
    "import rich\n",
    "from eval import saved_evalsum, saved_dialogues\n",
    "rich.print(saved_evalsum['Eve'].mean())\n",
    "saved_dialogues['Eve']"
   ]
  },
  {
   "cell_type": "code",
   "execution_count": null,
   "metadata": {},
   "outputs": [],
   "source": []
  }
 ],
 "metadata": {
  "kernelspec": {
   "display_name": "nlp-class",
   "language": "python",
   "name": "python3"
  },
  "language_info": {
   "codemirror_mode": {
    "name": "ipython",
    "version": 3
   },
   "file_extension": ".py",
   "mimetype": "text/x-python",
   "name": "python",
   "nbconvert_exporter": "python",
   "pygments_lexer": "ipython3",
   "version": "3.11.4"
  }
 },
 "nbformat": 4,
 "nbformat_minor": 2
}
